{
  "cells": [
    {
      "metadata": {},
      "cell_type": "markdown",
      "source": "# Analysis of BMC solving with Z3\n\nPandas cheatsheet: https://pandas.pydata.org/Pandas_Cheat_Sheet.pdf\n\nThere are 4 different encoding parameters:\n\n  - **phi** whether the VC is encoded with phi-assignments. This is traditional encoding for `SeaHorn`\n  - **gsa** whether the program is converted to Gated SSA before VCGen. In this case, there are no phi-assignments\n  - **ite** whether phi-nodes are encoded with ite-expressions\n  - **noite** whether phi-nodes are encoded with disjunction and equalities (traditional for `SeaHorn`)\n  \nFour combinations are considered: {ite, noite} x {phi, gsa}. \nThe combination (ite, phi) is traditional for `SeaHorn`. The combination (ite, gsa) is meaningles since under gsa, there are no phi-nodes, and ite has no effect. Yet, the result show some difference between (ite, gsa) and (noite, gsa). This needs to be investigated further. Possibly the difference is due to usual SAT-solver non-determinism."
    },
    {
      "metadata": {
        "trusted": true
      },
      "cell_type": "code",
      "source": "import pandas as pd\nimport numpy as np\nimport matplotlib.pyplot as plt ",
      "execution_count": null,
      "outputs": []
    },
    {
      "metadata": {
        "trusted": true
      },
      "cell_type": "code",
      "source": "df = pd.read_csv('bmc-z3.csv')\n# move timeout and unknown to maximal time\ndf['time'].fillna(value=900, inplace=True)\n# show a snapshot of data for visual validation\ndf.head()",
      "execution_count": null,
      "outputs": []
    },
    {
      "metadata": {
        "trusted": true
      },
      "cell_type": "code",
      "source": "# quick overview of solved/unsolved instances\ndf[['status','index']].groupby(['status']).count()",
      "execution_count": null,
      "outputs": []
    },
    {
      "metadata": {
        "trusted": true
      },
      "cell_type": "code",
      "source": "# find all unknown results. Usually means that something went wrong, not just timeout\ndf.query('status == \"unknown\"')",
      "execution_count": null,
      "outputs": []
    },
    {
      "metadata": {
        "trusted": true
      },
      "cell_type": "code",
      "source": "# split results into 4 groups\ndef flt_index(df, s):\n    return df[df['index'].str.contains(s)]\n\nnoite_gsa = flt_index(df, r'\\.noite.gsa')\nite_gsa = flt_index(df, r'\\.ite.gsa')\nite_phi = flt_index(df, r'\\.ite.phi')\nnoite_phi = flt_index(df, r'\\.noite.phi')",
      "execution_count": null,
      "outputs": []
    },
    {
      "metadata": {},
      "cell_type": "markdown",
      "source": "## Solved / Unsolved for each group"
    },
    {
      "metadata": {
        "trusted": true
      },
      "cell_type": "code",
      "source": "noite_gsa.groupby('status').count()",
      "execution_count": null,
      "outputs": []
    },
    {
      "metadata": {
        "trusted": true
      },
      "cell_type": "code",
      "source": "ite_gsa.groupby('status').count()",
      "execution_count": null,
      "outputs": []
    },
    {
      "metadata": {
        "trusted": true
      },
      "cell_type": "code",
      "source": "ite_phi.groupby('status').count()",
      "execution_count": null,
      "outputs": []
    },
    {
      "metadata": {
        "trusted": true
      },
      "cell_type": "code",
      "source": "noite_phi.groupby('status').count()",
      "execution_count": null,
      "outputs": []
    },
    {
      "metadata": {
        "trusted": true
      },
      "cell_type": "code",
      "source": "# create a file column to join different result sets\ndef index_to_file(df):\n    return df.assign(file=df['index'].str.extract(r'([^.]+)'), expand=False)\nnoite_phi = index_to_file(noite_phi)\nite_phi = index_to_file(ite_phi)\nnoite_gsa = index_to_file(noite_gsa)\nite_gsa = index_to_file(ite_gsa)",
      "execution_count": null,
      "outputs": []
    },
    {
      "metadata": {
        "trusted": true
      },
      "cell_type": "code",
      "source": "# join on file\nphi = ite_phi.merge(noite_phi, on='file', suffixes=('_ite', '_noite'))",
      "execution_count": null,
      "outputs": []
    },
    {
      "metadata": {
        "trusted": true
      },
      "cell_type": "code",
      "source": "# solved / unsolved based on ite parameter\nphi.groupby(['status_ite', 'status_noite']).count()[['file']]",
      "execution_count": null,
      "outputs": []
    },
    {
      "metadata": {
        "trusted": true
      },
      "cell_type": "code",
      "source": "# merge gsa sets and show solved / unsolved\ngsa = ite_gsa.merge(noite_gsa, on='file', suffixes=('_ite', '_noite'))\ngsa.groupby(['status_ite', 'status_noite']).count()[['file']]",
      "execution_count": null,
      "outputs": []
    },
    {
      "metadata": {
        "trusted": true
      },
      "cell_type": "code",
      "source": "# set default figure size for plots to be 7 by 7 inches\nplt.rcParams[\"figure.figsize\"] = (7, 7)\n# create a new figure 20 by 10 inches wide\nfig = plt.figure(figsize=(20,10))\n# break figure into two sub-plots\n# ax1: the number '121' is parsed as plot 1 of 1x2 grid\nax1 = plt.subplot(121)\n# ax2: the number '122' is parsed as plot 2 of 1x2 grid\nax2 = plt.subplot(122)\n# plot a diagonal line to make scatter plots easier to read\nx = np.linspace(-5, 950, 2)\nax1.plot(x, x, color='red')\nax2.plot(x, x, color='red')\n# plot succeeded instances\ngsa.query('status_ite==\"sat\" or status_ite==\"unsat\"').plot.scatter(x='time_ite', y='time_noite', ax=ax1, title='GSA')\nphi.query('status_noite==\"sat\" or status_ite==\"unsat\"').plot.scatter(x='time_ite', y='time_noite', ax=ax2, title='PHI')",
      "execution_count": null,
      "outputs": []
    },
    {
      "metadata": {
        "trusted": true
      },
      "cell_type": "code",
      "source": "# a single plot is easier to create\nax = phi.query('status_noite==\"sat\"').plot.scatter(x='time_ite', y='time_noite')\nax.plot(x, x, color='red')",
      "execution_count": null,
      "outputs": []
    },
    {
      "metadata": {
        "trusted": true
      },
      "cell_type": "code",
      "source": "# summary of the plot. Useful to validate what is visible from the picture\nphi.groupby(['status_ite', 'status_noite'])[['time_ite', 'time_noite']].describe()",
      "execution_count": null,
      "outputs": []
    },
    {
      "metadata": {
        "trusted": true
      },
      "cell_type": "code",
      "source": "import sys\n# install latest version of seaborn\n!{sys.executable} -m pip install seaborn=0.9.0\n# seaborn provides useful fancy plots\nimport seaborn as sns\nsns.set(style='ticks', palette='Set2')",
      "execution_count": null,
      "outputs": []
    },
    {
      "metadata": {
        "trusted": true
      },
      "cell_type": "code",
      "source": "# use additional semantic features to separate sat/unsat instances\nfig = plt.figure(figsize=(10,10))\ng = sns.scatterplot(x=\"time_ite\", y=\"time_noite\", hue=\"status_noite\", style='status_ite', data=phi);\nsns.despine()\ng.plot(x, x)",
      "execution_count": null,
      "outputs": []
    },
    {
      "metadata": {
        "trusted": true
      },
      "cell_type": "code",
      "source": "!{sys.executable} -m pip install plotly\nimport plotly.express as px\n# interactive graph for data exploration\nfig = px.scatter(phi, x=\"time_ite\", y=\"time_noite\", color=\"status_noite\", symbol=\"status_ite\")\nfig.show()",
      "execution_count": null,
      "outputs": []
    }
  ],
  "metadata": {
    "kernelspec": {
      "name": "python36",
      "display_name": "Python 3.6",
      "language": "python"
    },
    "language_info": {
      "mimetype": "text/x-python",
      "nbconvert_exporter": "python",
      "name": "python",
      "pygments_lexer": "ipython3",
      "version": "3.6.6",
      "file_extension": ".py",
      "codemirror_mode": {
        "version": 3,
        "name": "ipython"
      }
    }
  },
  "nbformat": 4,
  "nbformat_minor": 2
}