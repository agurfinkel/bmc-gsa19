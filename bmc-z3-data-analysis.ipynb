{
  "cells": [
    {
      "cell_type": "markdown",
      "metadata": {},
      "source": [
        "# Analysis of BMC solving with Z3\n",
        "\n",
        "Pandas cheatsheet: https://pandas.pydata.org/Pandas_Cheat_Sheet.pdf\n",
        "\n",
        "There are 4 different encoding parameters:\n",
        "\n",
        "  - **phi** whether the VC is encoded with phi-assignments. This is traditional encoding for `SeaHorn`\n",
        "  - **gsa** whether the program is converted to Gated SSA before VCGen. In this case, there are no phi-assignments\n",
        "  - **ite** whether phi-nodes are encoded with ite-expressions\n",
        "  - **noite** whether phi-nodes are encoded with disjunction and equalities (traditional for `SeaHorn`)\n",
        "  \n",
        "Four combinations are considered: {ite, noite} x {phi, gsa}. \n",
        "The combination (ite, phi) is traditional for `SeaHorn`. The combination (ite, gsa) is meaningles since under gsa, there are no phi-nodes, and ite has no effect. Yet, the result show some difference between (ite, gsa) and (noite, gsa). This needs to be investigated further. Possibly the difference is due to usual SAT-solver non-determinism."
      ]
    },
    {
      "cell_type": "code",
      "execution_count": 1,
      "metadata": {
        "trusted": true
      },
      "outputs": [],
      "source": [
        "import pandas as pd\n",
        "import numpy as np\n",
        "import matplotlib.pyplot as plt "
      ]
    },
    {
      "cell_type": "code",
      "execution_count": 2,
      "metadata": {
        "trusted": true
      },
      "outputs": [
        {
          "data": {
            "text/html": [
              "<div>\n",
              "<style scoped>\n",
              "    .dataframe tbody tr th:only-of-type {\n",
              "        vertical-align: middle;\n",
              "    }\n",
              "\n",
              "    .dataframe tbody tr th {\n",
              "        vertical-align: top;\n",
              "    }\n",
              "\n",
              "    .dataframe thead th {\n",
              "        text-align: right;\n",
              "    }\n",
              "</style>\n",
              "<table border=\"1\" class=\"dataframe\">\n",
              "  <thead>\n",
              "    <tr style=\"text-align: right;\">\n",
              "      <th></th>\n",
              "      <th>index</th>\n",
              "      <th>max_memory</th>\n",
              "      <th>memory</th>\n",
              "      <th>status</th>\n",
              "      <th>time</th>\n",
              "    </tr>\n",
              "  </thead>\n",
              "  <tbody>\n",
              "    <tr>\n",
              "      <th>0</th>\n",
              "      <td>ldv-cat-0000.c.ite.gsa.smt2</td>\n",
              "      <td>0.09</td>\n",
              "      <td>0.09</td>\n",
              "      <td>unknown</td>\n",
              "      <td>900.00</td>\n",
              "    </tr>\n",
              "    <tr>\n",
              "      <th>1</th>\n",
              "      <td>ldv-cat-0000.c.ite.phi.smt2</td>\n",
              "      <td>0.09</td>\n",
              "      <td>0.09</td>\n",
              "      <td>unknown</td>\n",
              "      <td>900.00</td>\n",
              "    </tr>\n",
              "    <tr>\n",
              "      <th>2</th>\n",
              "      <td>ldv-cat-0000.c.noite.gsa.smt2</td>\n",
              "      <td>0.09</td>\n",
              "      <td>0.09</td>\n",
              "      <td>unknown</td>\n",
              "      <td>900.00</td>\n",
              "    </tr>\n",
              "    <tr>\n",
              "      <th>3</th>\n",
              "      <td>ldv-cat-0000.c.noite.phi.smt2</td>\n",
              "      <td>0.09</td>\n",
              "      <td>0.09</td>\n",
              "      <td>unknown</td>\n",
              "      <td>900.00</td>\n",
              "    </tr>\n",
              "    <tr>\n",
              "      <th>4</th>\n",
              "      <td>ldv-cat-0001.c.ite.gsa.smt2</td>\n",
              "      <td>3.31</td>\n",
              "      <td>3.01</td>\n",
              "      <td>unsat</td>\n",
              "      <td>0.01</td>\n",
              "    </tr>\n",
              "  </tbody>\n",
              "</table>\n",
              "</div>"
            ],
            "text/plain": [
              "                           index  max_memory  memory   status    time\n",
              "0    ldv-cat-0000.c.ite.gsa.smt2        0.09    0.09  unknown  900.00\n",
              "1    ldv-cat-0000.c.ite.phi.smt2        0.09    0.09  unknown  900.00\n",
              "2  ldv-cat-0000.c.noite.gsa.smt2        0.09    0.09  unknown  900.00\n",
              "3  ldv-cat-0000.c.noite.phi.smt2        0.09    0.09  unknown  900.00\n",
              "4    ldv-cat-0001.c.ite.gsa.smt2        3.31    3.01    unsat    0.01"
            ]
          },
          "execution_count": 2,
          "metadata": {},
          "output_type": "execute_result"
        }
      ],
      "source": [
        "df = pd.read_csv('bmc-z3.csv')\n",
        "# move timeout and unknown to maximal time\n",
        "df['time'].fillna(value=900, inplace=True)\n",
        "# show a snapshot of data for visual validation\n",
        "df.head()"
      ]
    },
    {
      "cell_type": "code",
      "execution_count": 3,
      "metadata": {
        "trusted": true
      },
      "outputs": [
        {
          "data": {
            "text/html": [
              "<div>\n",
              "<style scoped>\n",
              "    .dataframe tbody tr th:only-of-type {\n",
              "        vertical-align: middle;\n",
              "    }\n",
              "\n",
              "    .dataframe tbody tr th {\n",
              "        vertical-align: top;\n",
              "    }\n",
              "\n",
              "    .dataframe thead th {\n",
              "        text-align: right;\n",
              "    }\n",
              "</style>\n",
              "<table border=\"1\" class=\"dataframe\">\n",
              "  <thead>\n",
              "    <tr style=\"text-align: right;\">\n",
              "      <th></th>\n",
              "      <th>status</th>\n",
              "      <th>index</th>\n",
              "    </tr>\n",
              "  </thead>\n",
              "  <tbody>\n",
              "    <tr>\n",
              "      <th>0</th>\n",
              "      <td>sat</td>\n",
              "      <td>101</td>\n",
              "    </tr>\n",
              "    <tr>\n",
              "      <th>1</th>\n",
              "      <td>timeout</td>\n",
              "      <td>88</td>\n",
              "    </tr>\n",
              "    <tr>\n",
              "      <th>2</th>\n",
              "      <td>unknown</td>\n",
              "      <td>24</td>\n",
              "    </tr>\n",
              "    <tr>\n",
              "      <th>3</th>\n",
              "      <td>unsat</td>\n",
              "      <td>181</td>\n",
              "    </tr>\n",
              "  </tbody>\n",
              "</table>\n",
              "</div>"
            ],
            "text/plain": [
              "    status  index\n",
              "0      sat    101\n",
              "1  timeout     88\n",
              "2  unknown     24\n",
              "3    unsat    181"
            ]
          },
          "execution_count": 3,
          "metadata": {},
          "output_type": "execute_result"
        }
      ],
      "source": [
        "# quick overview of solved/unsolved instances\n",
        "df[['status','index']].groupby(['status']).count().reset_index()"
      ]
    },
    {
      "cell_type": "code",
      "execution_count": 4,
      "metadata": {
        "trusted": true
      },
      "outputs": [
        {
          "data": {
            "text/html": [
              "<div>\n",
              "<style scoped>\n",
              "    .dataframe tbody tr th:only-of-type {\n",
              "        vertical-align: middle;\n",
              "    }\n",
              "\n",
              "    .dataframe tbody tr th {\n",
              "        vertical-align: top;\n",
              "    }\n",
              "\n",
              "    .dataframe thead th {\n",
              "        text-align: right;\n",
              "    }\n",
              "</style>\n",
              "<table border=\"1\" class=\"dataframe\">\n",
              "  <thead>\n",
              "    <tr style=\"text-align: right;\">\n",
              "      <th></th>\n",
              "      <th>index</th>\n",
              "      <th>max_memory</th>\n",
              "      <th>memory</th>\n",
              "      <th>status</th>\n",
              "      <th>time</th>\n",
              "    </tr>\n",
              "  </thead>\n",
              "  <tbody>\n",
              "    <tr>\n",
              "      <th>0</th>\n",
              "      <td>ldv-cat-0000.c.ite.gsa.smt2</td>\n",
              "      <td>0.09</td>\n",
              "      <td>0.09</td>\n",
              "      <td>unknown</td>\n",
              "      <td>900.0</td>\n",
              "    </tr>\n",
              "    <tr>\n",
              "      <th>1</th>\n",
              "      <td>ldv-cat-0000.c.ite.phi.smt2</td>\n",
              "      <td>0.09</td>\n",
              "      <td>0.09</td>\n",
              "      <td>unknown</td>\n",
              "      <td>900.0</td>\n",
              "    </tr>\n",
              "    <tr>\n",
              "      <th>2</th>\n",
              "      <td>ldv-cat-0000.c.noite.gsa.smt2</td>\n",
              "      <td>0.09</td>\n",
              "      <td>0.09</td>\n",
              "      <td>unknown</td>\n",
              "      <td>900.0</td>\n",
              "    </tr>\n",
              "    <tr>\n",
              "      <th>3</th>\n",
              "      <td>ldv-cat-0000.c.noite.phi.smt2</td>\n",
              "      <td>0.09</td>\n",
              "      <td>0.09</td>\n",
              "      <td>unknown</td>\n",
              "      <td>900.0</td>\n",
              "    </tr>\n",
              "    <tr>\n",
              "      <th>330</th>\n",
              "      <td>ldv-cat-0082.c.noite.gsa.smt2</td>\n",
              "      <td>0.09</td>\n",
              "      <td>0.09</td>\n",
              "      <td>unknown</td>\n",
              "      <td>900.0</td>\n",
              "    </tr>\n",
              "    <tr>\n",
              "      <th>332</th>\n",
              "      <td>ldv-cat-0083.c.ite.gsa.smt2</td>\n",
              "      <td>0.09</td>\n",
              "      <td>0.09</td>\n",
              "      <td>unknown</td>\n",
              "      <td>900.0</td>\n",
              "    </tr>\n",
              "    <tr>\n",
              "      <th>333</th>\n",
              "      <td>ldv-cat-0083.c.ite.phi.smt2</td>\n",
              "      <td>0.09</td>\n",
              "      <td>0.09</td>\n",
              "      <td>unknown</td>\n",
              "      <td>900.0</td>\n",
              "    </tr>\n",
              "    <tr>\n",
              "      <th>334</th>\n",
              "      <td>ldv-cat-0083.c.noite.gsa.smt2</td>\n",
              "      <td>0.09</td>\n",
              "      <td>0.09</td>\n",
              "      <td>unknown</td>\n",
              "      <td>900.0</td>\n",
              "    </tr>\n",
              "    <tr>\n",
              "      <th>335</th>\n",
              "      <td>ldv-cat-0083.c.noite.phi.smt2</td>\n",
              "      <td>0.09</td>\n",
              "      <td>0.09</td>\n",
              "      <td>unknown</td>\n",
              "      <td>900.0</td>\n",
              "    </tr>\n",
              "    <tr>\n",
              "      <th>336</th>\n",
              "      <td>ldv-cat-0084.c.ite.gsa.smt2</td>\n",
              "      <td>0.09</td>\n",
              "      <td>0.09</td>\n",
              "      <td>unknown</td>\n",
              "      <td>900.0</td>\n",
              "    </tr>\n",
              "    <tr>\n",
              "      <th>337</th>\n",
              "      <td>ldv-cat-0084.c.ite.phi.smt2</td>\n",
              "      <td>0.09</td>\n",
              "      <td>0.09</td>\n",
              "      <td>unknown</td>\n",
              "      <td>900.0</td>\n",
              "    </tr>\n",
              "    <tr>\n",
              "      <th>338</th>\n",
              "      <td>ldv-cat-0084.c.noite.gsa.smt2</td>\n",
              "      <td>0.09</td>\n",
              "      <td>0.09</td>\n",
              "      <td>unknown</td>\n",
              "      <td>900.0</td>\n",
              "    </tr>\n",
              "    <tr>\n",
              "      <th>339</th>\n",
              "      <td>ldv-cat-0084.c.noite.phi.smt2</td>\n",
              "      <td>0.09</td>\n",
              "      <td>0.09</td>\n",
              "      <td>unknown</td>\n",
              "      <td>900.0</td>\n",
              "    </tr>\n",
              "    <tr>\n",
              "      <th>340</th>\n",
              "      <td>ldv-cat-0085.c.ite.gsa.smt2</td>\n",
              "      <td>0.09</td>\n",
              "      <td>0.09</td>\n",
              "      <td>unknown</td>\n",
              "      <td>900.0</td>\n",
              "    </tr>\n",
              "    <tr>\n",
              "      <th>342</th>\n",
              "      <td>ldv-cat-0085.c.noite.gsa.smt2</td>\n",
              "      <td>0.09</td>\n",
              "      <td>0.09</td>\n",
              "      <td>unknown</td>\n",
              "      <td>900.0</td>\n",
              "    </tr>\n",
              "    <tr>\n",
              "      <th>348</th>\n",
              "      <td>ldv-cat-0087.c.ite.gsa.smt2</td>\n",
              "      <td>0.09</td>\n",
              "      <td>0.09</td>\n",
              "      <td>unknown</td>\n",
              "      <td>900.0</td>\n",
              "    </tr>\n",
              "    <tr>\n",
              "      <th>349</th>\n",
              "      <td>ldv-cat-0087.c.ite.phi.smt2</td>\n",
              "      <td>0.09</td>\n",
              "      <td>0.09</td>\n",
              "      <td>unknown</td>\n",
              "      <td>900.0</td>\n",
              "    </tr>\n",
              "    <tr>\n",
              "      <th>350</th>\n",
              "      <td>ldv-cat-0087.c.noite.gsa.smt2</td>\n",
              "      <td>0.09</td>\n",
              "      <td>0.09</td>\n",
              "      <td>unknown</td>\n",
              "      <td>900.0</td>\n",
              "    </tr>\n",
              "    <tr>\n",
              "      <th>351</th>\n",
              "      <td>ldv-cat-0087.c.noite.phi.smt2</td>\n",
              "      <td>0.09</td>\n",
              "      <td>0.09</td>\n",
              "      <td>unknown</td>\n",
              "      <td>900.0</td>\n",
              "    </tr>\n",
              "    <tr>\n",
              "      <th>362</th>\n",
              "      <td>ldv-cat-0090.c.noite.gsa.smt2</td>\n",
              "      <td>0.09</td>\n",
              "      <td>0.09</td>\n",
              "      <td>unknown</td>\n",
              "      <td>900.0</td>\n",
              "    </tr>\n",
              "    <tr>\n",
              "      <th>376</th>\n",
              "      <td>ldv-cat-0094.c.ite.gsa.smt2</td>\n",
              "      <td>0.09</td>\n",
              "      <td>0.09</td>\n",
              "      <td>unknown</td>\n",
              "      <td>900.0</td>\n",
              "    </tr>\n",
              "    <tr>\n",
              "      <th>378</th>\n",
              "      <td>ldv-cat-0094.c.noite.gsa.smt2</td>\n",
              "      <td>0.09</td>\n",
              "      <td>0.09</td>\n",
              "      <td>unknown</td>\n",
              "      <td>900.0</td>\n",
              "    </tr>\n",
              "    <tr>\n",
              "      <th>380</th>\n",
              "      <td>ldv-cat-0095.c.ite.gsa.smt2</td>\n",
              "      <td>0.09</td>\n",
              "      <td>0.09</td>\n",
              "      <td>unknown</td>\n",
              "      <td>900.0</td>\n",
              "    </tr>\n",
              "    <tr>\n",
              "      <th>382</th>\n",
              "      <td>ldv-cat-0095.c.noite.gsa.smt2</td>\n",
              "      <td>0.09</td>\n",
              "      <td>0.09</td>\n",
              "      <td>unknown</td>\n",
              "      <td>900.0</td>\n",
              "    </tr>\n",
              "  </tbody>\n",
              "</table>\n",
              "</div>"
            ],
            "text/plain": [
              "                             index  max_memory  memory   status   time\n",
              "0      ldv-cat-0000.c.ite.gsa.smt2        0.09    0.09  unknown  900.0\n",
              "1      ldv-cat-0000.c.ite.phi.smt2        0.09    0.09  unknown  900.0\n",
              "2    ldv-cat-0000.c.noite.gsa.smt2        0.09    0.09  unknown  900.0\n",
              "3    ldv-cat-0000.c.noite.phi.smt2        0.09    0.09  unknown  900.0\n",
              "330  ldv-cat-0082.c.noite.gsa.smt2        0.09    0.09  unknown  900.0\n",
              "332    ldv-cat-0083.c.ite.gsa.smt2        0.09    0.09  unknown  900.0\n",
              "333    ldv-cat-0083.c.ite.phi.smt2        0.09    0.09  unknown  900.0\n",
              "334  ldv-cat-0083.c.noite.gsa.smt2        0.09    0.09  unknown  900.0\n",
              "335  ldv-cat-0083.c.noite.phi.smt2        0.09    0.09  unknown  900.0\n",
              "336    ldv-cat-0084.c.ite.gsa.smt2        0.09    0.09  unknown  900.0\n",
              "337    ldv-cat-0084.c.ite.phi.smt2        0.09    0.09  unknown  900.0\n",
              "338  ldv-cat-0084.c.noite.gsa.smt2        0.09    0.09  unknown  900.0\n",
              "339  ldv-cat-0084.c.noite.phi.smt2        0.09    0.09  unknown  900.0\n",
              "340    ldv-cat-0085.c.ite.gsa.smt2        0.09    0.09  unknown  900.0\n",
              "342  ldv-cat-0085.c.noite.gsa.smt2        0.09    0.09  unknown  900.0\n",
              "348    ldv-cat-0087.c.ite.gsa.smt2        0.09    0.09  unknown  900.0\n",
              "349    ldv-cat-0087.c.ite.phi.smt2        0.09    0.09  unknown  900.0\n",
              "350  ldv-cat-0087.c.noite.gsa.smt2        0.09    0.09  unknown  900.0\n",
              "351  ldv-cat-0087.c.noite.phi.smt2        0.09    0.09  unknown  900.0\n",
              "362  ldv-cat-0090.c.noite.gsa.smt2        0.09    0.09  unknown  900.0\n",
              "376    ldv-cat-0094.c.ite.gsa.smt2        0.09    0.09  unknown  900.0\n",
              "378  ldv-cat-0094.c.noite.gsa.smt2        0.09    0.09  unknown  900.0\n",
              "380    ldv-cat-0095.c.ite.gsa.smt2        0.09    0.09  unknown  900.0\n",
              "382  ldv-cat-0095.c.noite.gsa.smt2        0.09    0.09  unknown  900.0"
            ]
          },
          "execution_count": 4,
          "metadata": {},
          "output_type": "execute_result"
        }
      ],
      "source": [
        "# find all unknown results. Usually means that something went wrong, not just timeout\n",
        "df[df.status == 'unknown']"
      ]
    },
    {
      "cell_type": "code",
      "execution_count": 5,
      "metadata": {
        "trusted": true
      },
      "outputs": [],
      "source": [
        "# split results into 4 groups\n",
        "def flt_index(df, s):\n",
        "    return df[df['index'].str.contains(s)]\n",
        "\n",
        "noite_gsa = flt_index(df, r'\\.noite.gsa')\n",
        "ite_gsa = flt_index(df, r'\\.ite.gsa')\n",
        "ite_phi = flt_index(df, r'\\.ite.phi')\n",
        "noite_phi = flt_index(df, r'\\.noite.phi')"
      ]
    },
    {
      "cell_type": "markdown",
      "metadata": {},
      "source": [
        "## Solved / Unsolved for each group"
      ]
    },
    {
      "cell_type": "code",
      "execution_count": 6,
      "metadata": {
        "trusted": true
      },
      "outputs": [
        {
          "data": {
            "text/html": [
              "<div>\n",
              "<style scoped>\n",
              "    .dataframe tbody tr th:only-of-type {\n",
              "        vertical-align: middle;\n",
              "    }\n",
              "\n",
              "    .dataframe tbody tr th {\n",
              "        vertical-align: top;\n",
              "    }\n",
              "\n",
              "    .dataframe thead th {\n",
              "        text-align: right;\n",
              "    }\n",
              "</style>\n",
              "<table border=\"1\" class=\"dataframe\">\n",
              "  <thead>\n",
              "    <tr style=\"text-align: right;\">\n",
              "      <th></th>\n",
              "      <th>status</th>\n",
              "      <th>index</th>\n",
              "      <th>max_memory</th>\n",
              "      <th>memory</th>\n",
              "      <th>time</th>\n",
              "    </tr>\n",
              "  </thead>\n",
              "  <tbody>\n",
              "    <tr>\n",
              "      <th>0</th>\n",
              "      <td>sat</td>\n",
              "      <td>21</td>\n",
              "      <td>21</td>\n",
              "      <td>21</td>\n",
              "      <td>21</td>\n",
              "    </tr>\n",
              "    <tr>\n",
              "      <th>1</th>\n",
              "      <td>timeout</td>\n",
              "      <td>24</td>\n",
              "      <td>24</td>\n",
              "      <td>24</td>\n",
              "      <td>24</td>\n",
              "    </tr>\n",
              "    <tr>\n",
              "      <th>2</th>\n",
              "      <td>unknown</td>\n",
              "      <td>9</td>\n",
              "      <td>9</td>\n",
              "      <td>9</td>\n",
              "      <td>9</td>\n",
              "    </tr>\n",
              "    <tr>\n",
              "      <th>3</th>\n",
              "      <td>unsat</td>\n",
              "      <td>44</td>\n",
              "      <td>44</td>\n",
              "      <td>44</td>\n",
              "      <td>44</td>\n",
              "    </tr>\n",
              "  </tbody>\n",
              "</table>\n",
              "</div>"
            ],
            "text/plain": [
              "    status  index  max_memory  memory  time\n",
              "0      sat     21          21      21    21\n",
              "1  timeout     24          24      24    24\n",
              "2  unknown      9           9       9     9\n",
              "3    unsat     44          44      44    44"
            ]
          },
          "execution_count": 6,
          "metadata": {},
          "output_type": "execute_result"
        }
      ],
      "source": [
        "noite_gsa.groupby('status').count().reset_index()"
      ]
    },
    {
      "cell_type": "code",
      "execution_count": 7,
      "metadata": {
        "trusted": true
      },
      "outputs": [
        {
          "data": {
            "text/html": [
              "<div>\n",
              "<style scoped>\n",
              "    .dataframe tbody tr th:only-of-type {\n",
              "        vertical-align: middle;\n",
              "    }\n",
              "\n",
              "    .dataframe tbody tr th {\n",
              "        vertical-align: top;\n",
              "    }\n",
              "\n",
              "    .dataframe thead th {\n",
              "        text-align: right;\n",
              "    }\n",
              "</style>\n",
              "<table border=\"1\" class=\"dataframe\">\n",
              "  <thead>\n",
              "    <tr style=\"text-align: right;\">\n",
              "      <th></th>\n",
              "      <th>status</th>\n",
              "      <th>index</th>\n",
              "      <th>max_memory</th>\n",
              "      <th>memory</th>\n",
              "      <th>time</th>\n",
              "    </tr>\n",
              "  </thead>\n",
              "  <tbody>\n",
              "    <tr>\n",
              "      <th>0</th>\n",
              "      <td>sat</td>\n",
              "      <td>22</td>\n",
              "      <td>22</td>\n",
              "      <td>22</td>\n",
              "      <td>22</td>\n",
              "    </tr>\n",
              "    <tr>\n",
              "      <th>1</th>\n",
              "      <td>timeout</td>\n",
              "      <td>23</td>\n",
              "      <td>23</td>\n",
              "      <td>23</td>\n",
              "      <td>23</td>\n",
              "    </tr>\n",
              "    <tr>\n",
              "      <th>2</th>\n",
              "      <td>unknown</td>\n",
              "      <td>7</td>\n",
              "      <td>7</td>\n",
              "      <td>7</td>\n",
              "      <td>7</td>\n",
              "    </tr>\n",
              "    <tr>\n",
              "      <th>3</th>\n",
              "      <td>unsat</td>\n",
              "      <td>46</td>\n",
              "      <td>46</td>\n",
              "      <td>46</td>\n",
              "      <td>46</td>\n",
              "    </tr>\n",
              "  </tbody>\n",
              "</table>\n",
              "</div>"
            ],
            "text/plain": [
              "    status  index  max_memory  memory  time\n",
              "0      sat     22          22      22    22\n",
              "1  timeout     23          23      23    23\n",
              "2  unknown      7           7       7     7\n",
              "3    unsat     46          46      46    46"
            ]
          },
          "execution_count": 7,
          "metadata": {},
          "output_type": "execute_result"
        }
      ],
      "source": [
        "ite_gsa.groupby('status').count().reset_index()"
      ]
    },
    {
      "cell_type": "code",
      "execution_count": 8,
      "metadata": {
        "trusted": true
      },
      "outputs": [
        {
          "data": {
            "text/html": [
              "<div>\n",
              "<style scoped>\n",
              "    .dataframe tbody tr th:only-of-type {\n",
              "        vertical-align: middle;\n",
              "    }\n",
              "\n",
              "    .dataframe tbody tr th {\n",
              "        vertical-align: top;\n",
              "    }\n",
              "\n",
              "    .dataframe thead th {\n",
              "        text-align: right;\n",
              "    }\n",
              "</style>\n",
              "<table border=\"1\" class=\"dataframe\">\n",
              "  <thead>\n",
              "    <tr style=\"text-align: right;\">\n",
              "      <th></th>\n",
              "      <th>status</th>\n",
              "      <th>index</th>\n",
              "      <th>max_memory</th>\n",
              "      <th>memory</th>\n",
              "      <th>time</th>\n",
              "    </tr>\n",
              "  </thead>\n",
              "  <tbody>\n",
              "    <tr>\n",
              "      <th>0</th>\n",
              "      <td>sat</td>\n",
              "      <td>26</td>\n",
              "      <td>26</td>\n",
              "      <td>26</td>\n",
              "      <td>26</td>\n",
              "    </tr>\n",
              "    <tr>\n",
              "      <th>1</th>\n",
              "      <td>timeout</td>\n",
              "      <td>23</td>\n",
              "      <td>23</td>\n",
              "      <td>23</td>\n",
              "      <td>23</td>\n",
              "    </tr>\n",
              "    <tr>\n",
              "      <th>2</th>\n",
              "      <td>unknown</td>\n",
              "      <td>4</td>\n",
              "      <td>4</td>\n",
              "      <td>4</td>\n",
              "      <td>4</td>\n",
              "    </tr>\n",
              "    <tr>\n",
              "      <th>3</th>\n",
              "      <td>unsat</td>\n",
              "      <td>46</td>\n",
              "      <td>46</td>\n",
              "      <td>46</td>\n",
              "      <td>46</td>\n",
              "    </tr>\n",
              "  </tbody>\n",
              "</table>\n",
              "</div>"
            ],
            "text/plain": [
              "    status  index  max_memory  memory  time\n",
              "0      sat     26          26      26    26\n",
              "1  timeout     23          23      23    23\n",
              "2  unknown      4           4       4     4\n",
              "3    unsat     46          46      46    46"
            ]
          },
          "execution_count": 8,
          "metadata": {},
          "output_type": "execute_result"
        }
      ],
      "source": [
        "ite_phi.groupby('status').count().reset_index()"
      ]
    },
    {
      "cell_type": "code",
      "execution_count": 9,
      "metadata": {
        "trusted": true
      },
      "outputs": [
        {
          "data": {
            "text/html": [
              "<div>\n",
              "<style scoped>\n",
              "    .dataframe tbody tr th:only-of-type {\n",
              "        vertical-align: middle;\n",
              "    }\n",
              "\n",
              "    .dataframe tbody tr th {\n",
              "        vertical-align: top;\n",
              "    }\n",
              "\n",
              "    .dataframe thead th {\n",
              "        text-align: right;\n",
              "    }\n",
              "</style>\n",
              "<table border=\"1\" class=\"dataframe\">\n",
              "  <thead>\n",
              "    <tr style=\"text-align: right;\">\n",
              "      <th></th>\n",
              "      <th>status</th>\n",
              "      <th>index</th>\n",
              "      <th>max_memory</th>\n",
              "      <th>memory</th>\n",
              "      <th>time</th>\n",
              "    </tr>\n",
              "  </thead>\n",
              "  <tbody>\n",
              "    <tr>\n",
              "      <th>0</th>\n",
              "      <td>sat</td>\n",
              "      <td>32</td>\n",
              "      <td>32</td>\n",
              "      <td>32</td>\n",
              "      <td>32</td>\n",
              "    </tr>\n",
              "    <tr>\n",
              "      <th>1</th>\n",
              "      <td>timeout</td>\n",
              "      <td>18</td>\n",
              "      <td>18</td>\n",
              "      <td>18</td>\n",
              "      <td>18</td>\n",
              "    </tr>\n",
              "    <tr>\n",
              "      <th>2</th>\n",
              "      <td>unknown</td>\n",
              "      <td>4</td>\n",
              "      <td>4</td>\n",
              "      <td>4</td>\n",
              "      <td>4</td>\n",
              "    </tr>\n",
              "    <tr>\n",
              "      <th>3</th>\n",
              "      <td>unsat</td>\n",
              "      <td>45</td>\n",
              "      <td>45</td>\n",
              "      <td>45</td>\n",
              "      <td>45</td>\n",
              "    </tr>\n",
              "  </tbody>\n",
              "</table>\n",
              "</div>"
            ],
            "text/plain": [
              "    status  index  max_memory  memory  time\n",
              "0      sat     32          32      32    32\n",
              "1  timeout     18          18      18    18\n",
              "2  unknown      4           4       4     4\n",
              "3    unsat     45          45      45    45"
            ]
          },
          "execution_count": 9,
          "metadata": {},
          "output_type": "execute_result"
        }
      ],
      "source": [
        "noite_phi.groupby('status').count().reset_index()"
      ]
    },
    {
      "cell_type": "code",
      "execution_count": 10,
      "metadata": {
        "trusted": true
      },
      "outputs": [],
      "source": [
        "# create a file column to join different result sets\n",
        "def index_to_file(df):\n",
        "    return df.assign(file=df['index'].str.extract(r'([^.]+)'), expand=False)\n",
        "noite_phi = index_to_file(noite_phi)\n",
        "ite_phi = index_to_file(ite_phi)\n",
        "noite_gsa = index_to_file(noite_gsa)\n",
        "ite_gsa = index_to_file(ite_gsa)"
      ]
    },
    {
      "cell_type": "code",
      "execution_count": 11,
      "metadata": {
        "trusted": true
      },
      "outputs": [],
      "source": [
        "# join on file\n",
        "phi = ite_phi.merge(noite_phi, on='file', suffixes=('_ite', '_noite'))"
      ]
    },
    {
      "cell_type": "code",
      "execution_count": 12,
      "metadata": {
        "trusted": true
      },
      "outputs": [
        {
          "data": {
            "text/html": [
              "<div>\n",
              "<style scoped>\n",
              "    .dataframe tbody tr th:only-of-type {\n",
              "        vertical-align: middle;\n",
              "    }\n",
              "\n",
              "    .dataframe tbody tr th {\n",
              "        vertical-align: top;\n",
              "    }\n",
              "\n",
              "    .dataframe thead th {\n",
              "        text-align: right;\n",
              "    }\n",
              "</style>\n",
              "<table border=\"1\" class=\"dataframe\">\n",
              "  <thead>\n",
              "    <tr style=\"text-align: right;\">\n",
              "      <th></th>\n",
              "      <th>status_ite</th>\n",
              "      <th>status_noite</th>\n",
              "      <th>file</th>\n",
              "    </tr>\n",
              "  </thead>\n",
              "  <tbody>\n",
              "    <tr>\n",
              "      <th>0</th>\n",
              "      <td>sat</td>\n",
              "      <td>sat</td>\n",
              "      <td>26</td>\n",
              "    </tr>\n",
              "    <tr>\n",
              "      <th>1</th>\n",
              "      <td>timeout</td>\n",
              "      <td>sat</td>\n",
              "      <td>6</td>\n",
              "    </tr>\n",
              "    <tr>\n",
              "      <th>2</th>\n",
              "      <td>timeout</td>\n",
              "      <td>timeout</td>\n",
              "      <td>17</td>\n",
              "    </tr>\n",
              "    <tr>\n",
              "      <th>3</th>\n",
              "      <td>unknown</td>\n",
              "      <td>unknown</td>\n",
              "      <td>4</td>\n",
              "    </tr>\n",
              "    <tr>\n",
              "      <th>4</th>\n",
              "      <td>unsat</td>\n",
              "      <td>timeout</td>\n",
              "      <td>1</td>\n",
              "    </tr>\n",
              "    <tr>\n",
              "      <th>5</th>\n",
              "      <td>unsat</td>\n",
              "      <td>unsat</td>\n",
              "      <td>45</td>\n",
              "    </tr>\n",
              "  </tbody>\n",
              "</table>\n",
              "</div>"
            ],
            "text/plain": [
              "  status_ite status_noite  file\n",
              "0        sat          sat    26\n",
              "1    timeout          sat     6\n",
              "2    timeout      timeout    17\n",
              "3    unknown      unknown     4\n",
              "4      unsat      timeout     1\n",
              "5      unsat        unsat    45"
            ]
          },
          "execution_count": 12,
          "metadata": {},
          "output_type": "execute_result"
        }
      ],
      "source": [
        "# solved / unsolved based on ite parameter\n",
        "phi.groupby(['status_ite', 'status_noite']).count()[['file']].reset_index()"
      ]
    },
    {
      "cell_type": "code",
      "execution_count": 13,
      "metadata": {
        "trusted": true
      },
      "outputs": [
        {
          "data": {
            "text/html": [
              "<div>\n",
              "<style scoped>\n",
              "    .dataframe tbody tr th:only-of-type {\n",
              "        vertical-align: middle;\n",
              "    }\n",
              "\n",
              "    .dataframe tbody tr th {\n",
              "        vertical-align: top;\n",
              "    }\n",
              "\n",
              "    .dataframe thead th {\n",
              "        text-align: right;\n",
              "    }\n",
              "</style>\n",
              "<table border=\"1\" class=\"dataframe\">\n",
              "  <thead>\n",
              "    <tr style=\"text-align: right;\">\n",
              "      <th></th>\n",
              "      <th>status_ite</th>\n",
              "      <th>status_noite</th>\n",
              "      <th>file</th>\n",
              "    </tr>\n",
              "  </thead>\n",
              "  <tbody>\n",
              "    <tr>\n",
              "      <th>0</th>\n",
              "      <td>sat</td>\n",
              "      <td>sat</td>\n",
              "      <td>21</td>\n",
              "    </tr>\n",
              "    <tr>\n",
              "      <th>1</th>\n",
              "      <td>sat</td>\n",
              "      <td>timeout</td>\n",
              "      <td>1</td>\n",
              "    </tr>\n",
              "    <tr>\n",
              "      <th>2</th>\n",
              "      <td>timeout</td>\n",
              "      <td>timeout</td>\n",
              "      <td>22</td>\n",
              "    </tr>\n",
              "    <tr>\n",
              "      <th>3</th>\n",
              "      <td>timeout</td>\n",
              "      <td>unknown</td>\n",
              "      <td>1</td>\n",
              "    </tr>\n",
              "    <tr>\n",
              "      <th>4</th>\n",
              "      <td>unknown</td>\n",
              "      <td>unknown</td>\n",
              "      <td>7</td>\n",
              "    </tr>\n",
              "    <tr>\n",
              "      <th>5</th>\n",
              "      <td>unsat</td>\n",
              "      <td>timeout</td>\n",
              "      <td>1</td>\n",
              "    </tr>\n",
              "    <tr>\n",
              "      <th>6</th>\n",
              "      <td>unsat</td>\n",
              "      <td>unknown</td>\n",
              "      <td>1</td>\n",
              "    </tr>\n",
              "    <tr>\n",
              "      <th>7</th>\n",
              "      <td>unsat</td>\n",
              "      <td>unsat</td>\n",
              "      <td>44</td>\n",
              "    </tr>\n",
              "  </tbody>\n",
              "</table>\n",
              "</div>"
            ],
            "text/plain": [
              "  status_ite status_noite  file\n",
              "0        sat          sat    21\n",
              "1        sat      timeout     1\n",
              "2    timeout      timeout    22\n",
              "3    timeout      unknown     1\n",
              "4    unknown      unknown     7\n",
              "5      unsat      timeout     1\n",
              "6      unsat      unknown     1\n",
              "7      unsat        unsat    44"
            ]
          },
          "execution_count": 13,
          "metadata": {},
          "output_type": "execute_result"
        }
      ],
      "source": [
        "# merge gsa sets and show solved / unsolved\n",
        "gsa = ite_gsa.merge(noite_gsa, on='file', suffixes=('_ite', '_noite'))\n",
        "gsa.groupby(['status_ite', 'status_noite']).count()[['file']].reset_index()"
      ]
    },
    {
      "cell_type": "code",
      "execution_count": 14,
      "metadata": {
        "trusted": true
      },
      "outputs": [
        {
          "data": {
            "text/plain": [
              "<AxesSubplot:title={'center':'PHI'}, xlabel='time_ite', ylabel='time_noite'>"
            ]
          },
          "execution_count": 14,
          "metadata": {},
          "output_type": "execute_result"
        },
        {
          "data": {
            "image/png": "[encoded data removed]",
            "text/plain": [
              "<Figure size 1440x720 with 2 Axes>"
            ]
          },
          "metadata": {
            "needs_background": "light"
          },
          "output_type": "display_data"
        }
      ],
      "source": [
        "# set default figure size for plots to be 7 by 7 inches\n",
        "plt.rcParams[\"figure.figsize\"] = (7, 7)\n",
        "# create a new figure 20 by 10 inches wide\n",
        "fig = plt.figure(figsize=(20,10))\n",
        "# break figure into two sub-plots\n",
        "# ax1: the number '121' is parsed as plot 1 of 1x2 grid\n",
        "ax1 = plt.subplot(121)\n",
        "# ax2: the number '122' is parsed as plot 2 of 1x2 grid\n",
        "ax2 = plt.subplot(122)\n",
        "# plot a diagonal line to make scatter plots easier to read\n",
        "x = np.linspace(-5, 950, 2)\n",
        "ax1.plot(x, x, color='red')\n",
        "ax2.plot(x, x, color='red')\n",
        "# plot succeeded instances\n",
        "gsa.query('status_ite==\"sat\" or status_ite==\"unsat\"').plot.scatter(x='time_ite', y='time_noite', ax=ax1, title='GSA')\n",
        "phi.query('status_noite==\"sat\" or status_ite==\"unsat\"').plot.scatter(x='time_ite', y='time_noite', ax=ax2, title='PHI')"
      ]
    },
    {
      "cell_type": "code",
      "execution_count": 15,
      "metadata": {
        "trusted": true
      },
      "outputs": [
        {
          "data": {
            "text/plain": [
              "[<matplotlib.lines.Line2D at 0x119c59c10>]"
            ]
          },
          "execution_count": 15,
          "metadata": {},
          "output_type": "execute_result"
        },
        {
          "data": {
            "image/png": "[encoded data removed]",
            "text/plain": [
              "<Figure size 504x504 with 1 Axes>"
            ]
          },
          "metadata": {
            "needs_background": "light"
          },
          "output_type": "display_data"
        }
      ],
      "source": [
        "# a single plot is easier to create\n",
        "ax = phi[phi.status_noite == 'sat'].plot.scatter(x='time_ite', y='time_noite')\n",
        "ax.plot(x, x, color='red')"
      ]
    },
    {
      "cell_type": "code",
      "execution_count": 16,
      "metadata": {
        "trusted": true
      },
      "outputs": [
        {
          "data": {
            "text/html": [
              "<div>\n",
              "<style scoped>\n",
              "    .dataframe tbody tr th:only-of-type {\n",
              "        vertical-align: middle;\n",
              "    }\n",
              "\n",
              "    .dataframe tbody tr th {\n",
              "        vertical-align: top;\n",
              "    }\n",
              "\n",
              "    .dataframe thead tr th {\n",
              "        text-align: left;\n",
              "    }\n",
              "\n",
              "    .dataframe thead tr:last-of-type th {\n",
              "        text-align: right;\n",
              "    }\n",
              "</style>\n",
              "<table border=\"1\" class=\"dataframe\">\n",
              "  <thead>\n",
              "    <tr>\n",
              "      <th></th>\n",
              "      <th></th>\n",
              "      <th colspan=\"8\" halign=\"left\">time_ite</th>\n",
              "      <th colspan=\"8\" halign=\"left\">time_noite</th>\n",
              "    </tr>\n",
              "    <tr>\n",
              "      <th></th>\n",
              "      <th></th>\n",
              "      <th>count</th>\n",
              "      <th>mean</th>\n",
              "      <th>std</th>\n",
              "      <th>min</th>\n",
              "      <th>25%</th>\n",
              "      <th>50%</th>\n",
              "      <th>75%</th>\n",
              "      <th>max</th>\n",
              "      <th>count</th>\n",
              "      <th>mean</th>\n",
              "      <th>std</th>\n",
              "      <th>min</th>\n",
              "      <th>25%</th>\n",
              "      <th>50%</th>\n",
              "      <th>75%</th>\n",
              "      <th>max</th>\n",
              "    </tr>\n",
              "    <tr>\n",
              "      <th>status_ite</th>\n",
              "      <th>status_noite</th>\n",
              "      <th></th>\n",
              "      <th></th>\n",
              "      <th></th>\n",
              "      <th></th>\n",
              "      <th></th>\n",
              "      <th></th>\n",
              "      <th></th>\n",
              "      <th></th>\n",
              "      <th></th>\n",
              "      <th></th>\n",
              "      <th></th>\n",
              "      <th></th>\n",
              "      <th></th>\n",
              "      <th></th>\n",
              "      <th></th>\n",
              "      <th></th>\n",
              "    </tr>\n",
              "  </thead>\n",
              "  <tbody>\n",
              "    <tr>\n",
              "      <th>sat</th>\n",
              "      <th>sat</th>\n",
              "      <td>26.0</td>\n",
              "      <td>165.521538</td>\n",
              "      <td>243.004745</td>\n",
              "      <td>0.49</td>\n",
              "      <td>11.1475</td>\n",
              "      <td>33.340</td>\n",
              "      <td>217.5600</td>\n",
              "      <td>860.47</td>\n",
              "      <td>26.0</td>\n",
              "      <td>172.484231</td>\n",
              "      <td>204.876409</td>\n",
              "      <td>1.41</td>\n",
              "      <td>21.7625</td>\n",
              "      <td>74.865</td>\n",
              "      <td>267.9175</td>\n",
              "      <td>818.96</td>\n",
              "    </tr>\n",
              "    <tr>\n",
              "      <th rowspan=\"2\" valign=\"top\">timeout</th>\n",
              "      <th>sat</th>\n",
              "      <td>6.0</td>\n",
              "      <td>929.858333</td>\n",
              "      <td>0.056716</td>\n",
              "      <td>929.79</td>\n",
              "      <td>929.8150</td>\n",
              "      <td>929.855</td>\n",
              "      <td>929.9025</td>\n",
              "      <td>929.93</td>\n",
              "      <td>6.0</td>\n",
              "      <td>126.326667</td>\n",
              "      <td>125.473912</td>\n",
              "      <td>26.06</td>\n",
              "      <td>76.5200</td>\n",
              "      <td>86.715</td>\n",
              "      <td>103.5475</td>\n",
              "      <td>376.19</td>\n",
              "    </tr>\n",
              "    <tr>\n",
              "      <th>timeout</th>\n",
              "      <td>17.0</td>\n",
              "      <td>929.350588</td>\n",
              "      <td>0.394960</td>\n",
              "      <td>928.74</td>\n",
              "      <td>929.0100</td>\n",
              "      <td>929.380</td>\n",
              "      <td>929.6900</td>\n",
              "      <td>929.87</td>\n",
              "      <td>17.0</td>\n",
              "      <td>929.262353</td>\n",
              "      <td>0.479616</td>\n",
              "      <td>928.55</td>\n",
              "      <td>928.6900</td>\n",
              "      <td>929.260</td>\n",
              "      <td>929.6900</td>\n",
              "      <td>929.86</td>\n",
              "    </tr>\n",
              "    <tr>\n",
              "      <th>unknown</th>\n",
              "      <th>unknown</th>\n",
              "      <td>4.0</td>\n",
              "      <td>900.000000</td>\n",
              "      <td>0.000000</td>\n",
              "      <td>900.00</td>\n",
              "      <td>900.0000</td>\n",
              "      <td>900.000</td>\n",
              "      <td>900.0000</td>\n",
              "      <td>900.00</td>\n",
              "      <td>4.0</td>\n",
              "      <td>900.000000</td>\n",
              "      <td>0.000000</td>\n",
              "      <td>900.00</td>\n",
              "      <td>900.0000</td>\n",
              "      <td>900.000</td>\n",
              "      <td>900.0000</td>\n",
              "      <td>900.00</td>\n",
              "    </tr>\n",
              "    <tr>\n",
              "      <th rowspan=\"2\" valign=\"top\">unsat</th>\n",
              "      <th>timeout</th>\n",
              "      <td>1.0</td>\n",
              "      <td>39.660000</td>\n",
              "      <td>NaN</td>\n",
              "      <td>39.66</td>\n",
              "      <td>39.6600</td>\n",
              "      <td>39.660</td>\n",
              "      <td>39.6600</td>\n",
              "      <td>39.66</td>\n",
              "      <td>1.0</td>\n",
              "      <td>928.090000</td>\n",
              "      <td>NaN</td>\n",
              "      <td>928.09</td>\n",
              "      <td>928.0900</td>\n",
              "      <td>928.090</td>\n",
              "      <td>928.0900</td>\n",
              "      <td>928.09</td>\n",
              "    </tr>\n",
              "    <tr>\n",
              "      <th>unsat</th>\n",
              "      <td>45.0</td>\n",
              "      <td>18.740000</td>\n",
              "      <td>39.602570</td>\n",
              "      <td>0.01</td>\n",
              "      <td>0.3000</td>\n",
              "      <td>2.660</td>\n",
              "      <td>13.6400</td>\n",
              "      <td>191.31</td>\n",
              "      <td>45.0</td>\n",
              "      <td>31.583778</td>\n",
              "      <td>54.687228</td>\n",
              "      <td>0.01</td>\n",
              "      <td>0.9300</td>\n",
              "      <td>8.360</td>\n",
              "      <td>33.9200</td>\n",
              "      <td>280.00</td>\n",
              "    </tr>\n",
              "  </tbody>\n",
              "</table>\n",
              "</div>"
            ],
            "text/plain": [
              "                        time_ite                                            \\\n",
              "                           count        mean         std     min       25%   \n",
              "status_ite status_noite                                                      \n",
              "sat        sat              26.0  165.521538  243.004745    0.49   11.1475   \n",
              "timeout    sat               6.0  929.858333    0.056716  929.79  929.8150   \n",
              "           timeout          17.0  929.350588    0.394960  928.74  929.0100   \n",
              "unknown    unknown           4.0  900.000000    0.000000  900.00  900.0000   \n",
              "unsat      timeout           1.0   39.660000         NaN   39.66   39.6600   \n",
              "           unsat            45.0   18.740000   39.602570    0.01    0.3000   \n",
              "\n",
              "                                                   time_noite              \\\n",
              "                             50%       75%     max      count        mean   \n",
              "status_ite status_noite                                                     \n",
              "sat        sat            33.340  217.5600  860.47       26.0  172.484231   \n",
              "timeout    sat           929.855  929.9025  929.93        6.0  126.326667   \n",
              "           timeout       929.380  929.6900  929.87       17.0  929.262353   \n",
              "unknown    unknown       900.000  900.0000  900.00        4.0  900.000000   \n",
              "unsat      timeout        39.660   39.6600   39.66        1.0  928.090000   \n",
              "           unsat           2.660   13.6400  191.31       45.0   31.583778   \n",
              "\n",
              "                                                                          \\\n",
              "                                std     min       25%      50%       75%   \n",
              "status_ite status_noite                                                    \n",
              "sat        sat           204.876409    1.41   21.7625   74.865  267.9175   \n",
              "timeout    sat           125.473912   26.06   76.5200   86.715  103.5475   \n",
              "           timeout         0.479616  928.55  928.6900  929.260  929.6900   \n",
              "unknown    unknown         0.000000  900.00  900.0000  900.000  900.0000   \n",
              "unsat      timeout              NaN  928.09  928.0900  928.090  928.0900   \n",
              "           unsat          54.687228    0.01    0.9300    8.360   33.9200   \n",
              "\n",
              "                                 \n",
              "                            max  \n",
              "status_ite status_noite          \n",
              "sat        sat           818.96  \n",
              "timeout    sat           376.19  \n",
              "           timeout       929.86  \n",
              "unknown    unknown       900.00  \n",
              "unsat      timeout       928.09  \n",
              "           unsat         280.00  "
            ]
          },
          "execution_count": 16,
          "metadata": {},
          "output_type": "execute_result"
        }
      ],
      "source": [
        "# summary of the plot. Useful to validate what is visible from the picture\n",
        "phi.groupby(['status_ite', 'status_noite'])[['time_ite', 'time_noite']].describe()"
      ]
    },
    {
      "cell_type": "code",
      "execution_count": 17,
      "metadata": {
        "trusted": true
      },
      "outputs": [
        {
          "name": "stdout",
          "output_type": "stream",
          "text": [
            "Defaulting to user installation because normal site-packages is not writeable\n",
            "Requirement already satisfied: seaborn in /Users/arie/Library/Python/3.9/lib/python/site-packages (0.11.2)\n",
            "Requirement already satisfied: numpy>=1.15 in /opt/local/Library/Frameworks/Python.framework/Versions/3.9/lib/python3.9/site-packages (from seaborn) (1.22.0)\n",
            "Requirement already satisfied: pandas>=0.23 in /opt/local/Library/Frameworks/Python.framework/Versions/3.9/lib/python3.9/site-packages (from seaborn) (1.3.5)\n",
            "Requirement already satisfied: matplotlib>=2.2 in /opt/local/Library/Frameworks/Python.framework/Versions/3.9/lib/python3.9/site-packages (from seaborn) (3.5.1)\n",
            "Requirement already satisfied: scipy>=1.0 in /Users/arie/Library/Python/3.9/lib/python/site-packages (from seaborn) (1.7.3)\n",
            "Requirement already satisfied: fonttools>=4.22.0 in /opt/local/Library/Frameworks/Python.framework/Versions/3.9/lib/python3.9/site-packages (from matplotlib>=2.2->seaborn) (4.28.5)\n",
            "Requirement already satisfied: packaging>=20.0 in /opt/local/Library/Frameworks/Python.framework/Versions/3.9/lib/python3.9/site-packages (from matplotlib>=2.2->seaborn) (21.3)\n",
            "Requirement already satisfied: pyparsing>=2.2.1 in /opt/local/Library/Frameworks/Python.framework/Versions/3.9/lib/python3.9/site-packages (from matplotlib>=2.2->seaborn) (3.0.6)\n",
            "Requirement already satisfied: cycler>=0.10 in /opt/local/Library/Frameworks/Python.framework/Versions/3.9/lib/python3.9/site-packages (from matplotlib>=2.2->seaborn) (0.11.0)\n",
            "Requirement already satisfied: pillow>=6.2.0 in /opt/local/Library/Frameworks/Python.framework/Versions/3.9/lib/python3.9/site-packages (from matplotlib>=2.2->seaborn) (9.0.0)\n",
            "Requirement already satisfied: kiwisolver>=1.0.1 in /opt/local/Library/Frameworks/Python.framework/Versions/3.9/lib/python3.9/site-packages (from matplotlib>=2.2->seaborn) (1.3.2)\n",
            "Requirement already satisfied: python-dateutil>=2.7 in /Users/arie/Library/Python/3.9/lib/python/site-packages (from matplotlib>=2.2->seaborn) (2.8.2)\n",
            "Requirement already satisfied: pytz>=2017.3 in /opt/local/Library/Frameworks/Python.framework/Versions/3.9/lib/python3.9/site-packages (from pandas>=0.23->seaborn) (2021.3)\n",
            "Requirement already satisfied: six>=1.5 in /Users/arie/Library/Python/3.9/lib/python/site-packages (from python-dateutil>=2.7->matplotlib>=2.2->seaborn) (1.16.0)\n"
          ]
        }
      ],
      "source": [
        "import sys\n",
        "# install latest version of seaborn\n",
        "!{sys.executable} -m pip install seaborn\n",
        "# seaborn provides useful fancy plots\n",
        "import seaborn as sns\n",
        "sns.set(style='ticks', palette='Set2')"
      ]
    },
    {
      "cell_type": "code",
      "execution_count": 18,
      "metadata": {
        "trusted": true
      },
      "outputs": [
        {
          "data": {
            "text/plain": [
              "[<matplotlib.lines.Line2D at 0x127262880>]"
            ]
          },
          "execution_count": 18,
          "metadata": {},
          "output_type": "execute_result"
        },
        {
          "data": {
            "image/png": "[encoded data removed]",
            "text/plain": [
              "<Figure size 720x720 with 1 Axes>"
            ]
          },
          "metadata": {},
          "output_type": "display_data"
        }
      ],
      "source": [
        "# use additional semantic features to separate sat/unsat instances\n",
        "fig = plt.figure(figsize=(10,10))\n",
        "g = sns.scatterplot(x=\"time_ite\", y=\"time_noite\", hue=\"status_noite\", style='status_ite', data=phi);\n",
        "sns.despine()\n",
        "g.plot(x, x)"
      ]
    },
    {
      "cell_type": "code",
      "execution_count": 31,
      "metadata": {
        "trusted": true
      },
      "outputs": [
        {
          "data": {
            "application/vnd.plotly.v1+json": {
              "config": {
                "plotlyServerURL": "https://plot.ly"
              },
              "data": [
                {
                  "hovertemplate": "status_noite=unknown<br>status_ite=unknown<br>time_ite=%{x}<br>time_noite=%{y}<extra></extra>",
                  "legendgroup": "unknown, unknown",
                  "marker": {
                    "color": "#636efa",
                    "symbol": "circle"
                  },
                  "mode": "markers",
                  "name": "unknown, unknown",
                  "orientation": "v",
                  "showlegend": true,
                  "type": "scatter",
                  "x": [
                    900,
                    900,
                    900,
                    900
                  ],
                  "xaxis": "x",
                  "y": [
                    900,
                    900,
                    900,
                    900
                  ],
                  "yaxis": "y"
                },
                {
                  "hovertemplate": "status_noite=unsat<br>status_ite=unsat<br>time_ite=%{x}<br>time_noite=%{y}<extra></extra>",
                  "legendgroup": "unsat, unsat",
                  "marker": {
                    "color": "#EF553B",
                    "symbol": "diamond"
                  },
                  "mode": "markers",
                  "name": "unsat, unsat",
                  "orientation": "v",
                  "showlegend": true,
                  "type": "scatter",
                  "x": [
                    0.01,
                    0.01,
                    0.01,
                    0.01,
                    0.01,
                    0.01,
                    0.01,
                    0.03,
                    0.46,
                    0.24,
                    0.28,
                    0.42,
                    2.08,
                    1.79,
                    2.16,
                    4.18,
                    1.59,
                    2.8,
                    25.8,
                    0.11,
                    6.27,
                    1.51,
                    57.94,
                    0.3,
                    8.48,
                    7.5,
                    9.01,
                    4.12,
                    1.04,
                    23.4,
                    1.5,
                    41.06,
                    11.18,
                    4.08,
                    20.83,
                    29.15,
                    0.99,
                    28.86,
                    13.64,
                    135.31,
                    2.66,
                    65.04,
                    7.27,
                    191.31,
                    128.84
                  ],
                  "xaxis": "x",
                  "y": [
                    0.01,
                    0.01,
                    0.01,
                    0.01,
                    0.01,
                    0.01,
                    0.01,
                    0.03,
                    0.93,
                    0.54,
                    0.84,
                    1.33,
                    8.48,
                    2.53,
                    2.3,
                    8.04,
                    2.7,
                    3.54,
                    24.57,
                    0.11,
                    7.63,
                    7.24,
                    6.27,
                    8.36,
                    11.23,
                    15.01,
                    24.64,
                    9.17,
                    17.42,
                    51.43,
                    106.76,
                    24.16,
                    78.39,
                    6.22,
                    58.63,
                    48.44,
                    19.28,
                    91.74,
                    11.34,
                    280,
                    33.92,
                    113.45,
                    136.13,
                    162.42,
                    35.98
                  ],
                  "yaxis": "y"
                },
                {
                  "hovertemplate": "status_noite=sat<br>status_ite=sat<br>time_ite=%{x}<br>time_noite=%{y}<extra></extra>",
                  "legendgroup": "sat, sat",
                  "marker": {
                    "color": "#00cc96",
                    "symbol": "square"
                  },
                  "mode": "markers",
                  "name": "sat, sat",
                  "orientation": "v",
                  "showlegend": true,
                  "type": "scatter",
                  "x": [
                    0.49,
                    1.01,
                    1.97,
                    5.82,
                    15.93,
                    23.25,
                    10.13,
                    39.45,
                    53.05,
                    7.85,
                    9.4,
                    14.2,
                    27.23,
                    222.99,
                    17.8,
                    621.75,
                    177.05,
                    324.05,
                    860.47,
                    201.27,
                    71.97,
                    764.42,
                    191.73,
                    374.67,
                    247.69,
                    17.92
                  ],
                  "xaxis": "x",
                  "y": [
                    1.41,
                    1.84,
                    4.04,
                    8.85,
                    6.73,
                    19.7,
                    7.5,
                    74.23,
                    32.1,
                    75.5,
                    57.9,
                    36.33,
                    60.22,
                    129.24,
                    27.95,
                    160.56,
                    226.17,
                    185.62,
                    383.85,
                    322.94,
                    271.7,
                    818.96,
                    491.85,
                    288,
                    534.83,
                    256.57
                  ],
                  "yaxis": "y"
                },
                {
                  "hovertemplate": "status_noite=sat<br>status_ite=timeout<br>time_ite=%{x}<br>time_noite=%{y}<extra></extra>",
                  "legendgroup": "sat, timeout",
                  "marker": {
                    "color": "#00cc96",
                    "symbol": "x"
                  },
                  "mode": "markers",
                  "name": "sat, timeout",
                  "orientation": "v",
                  "showlegend": true,
                  "type": "scatter",
                  "x": [
                    929.93,
                    929.81,
                    929.79,
                    929.88,
                    929.91,
                    929.83
                  ],
                  "xaxis": "x",
                  "y": [
                    26.06,
                    77.36,
                    106.04,
                    76.24,
                    96.07,
                    376.19
                  ],
                  "yaxis": "y"
                },
                {
                  "hovertemplate": "status_noite=timeout<br>status_ite=unsat<br>time_ite=%{x}<br>time_noite=%{y}<extra></extra>",
                  "legendgroup": "timeout, unsat",
                  "marker": {
                    "color": "#ab63fa",
                    "symbol": "diamond"
                  },
                  "mode": "markers",
                  "name": "timeout, unsat",
                  "orientation": "v",
                  "showlegend": true,
                  "type": "scatter",
                  "x": [
                    39.66
                  ],
                  "xaxis": "x",
                  "y": [
                    928.09
                  ],
                  "yaxis": "y"
                },
                {
                  "hovertemplate": "status_noite=timeout<br>status_ite=timeout<br>time_ite=%{x}<br>time_noite=%{y}<extra></extra>",
                  "legendgroup": "timeout, timeout",
                  "marker": {
                    "color": "#ab63fa",
                    "symbol": "x"
                  },
                  "mode": "markers",
                  "name": "timeout, timeout",
                  "orientation": "v",
                  "showlegend": true,
                  "type": "scatter",
                  "x": [
                    929.64,
                    929.86,
                    929.38,
                    929.69,
                    929.25,
                    929.08,
                    929.58,
                    929.47,
                    929.87,
                    929.01,
                    928.99,
                    929.77,
                    929.29,
                    928.74,
                    928.75,
                    929.77,
                    928.82
                  ],
                  "xaxis": "x",
                  "y": [
                    929.69,
                    929.84,
                    929.26,
                    929.67,
                    929.2,
                    929.35,
                    929.55,
                    929.22,
                    929.86,
                    928.58,
                    928.55,
                    929.79,
                    929.21,
                    928.65,
                    928.64,
                    929.71,
                    928.69
                  ],
                  "yaxis": "y"
                }
              ],
              "layout": {
                "height": 500,
                "legend": {
                  "title": {
                    "text": "status_noite, status_ite"
                  },
                  "tracegroupgap": 0
                },
                "margin": {
                  "t": 60
                },
                "template": {
                  "data": {
                    "bar": [
                      {
                        "error_x": {
                          "color": "#2a3f5f"
                        },
                        "error_y": {
                          "color": "#2a3f5f"
                        },
                        "marker": {
                          "line": {
                            "color": "#E5ECF6",
                            "width": 0.5
                          },
                          "pattern": {
                            "fillmode": "overlay",
                            "size": 10,
                            "solidity": 0.2
                          }
                        },
                        "type": "bar"
                      }
                    ],
                    "barpolar": [
                      {
                        "marker": {
                          "line": {
                            "color": "#E5ECF6",
                            "width": 0.5
                          },
                          "pattern": {
                            "fillmode": "overlay",
                            "size": 10,
                            "solidity": 0.2
                          }
                        },
                        "type": "barpolar"
                      }
                    ],
                    "carpet": [
                      {
                        "aaxis": {
                          "endlinecolor": "#2a3f5f",
                          "gridcolor": "white",
                          "linecolor": "white",
                          "minorgridcolor": "white",
                          "startlinecolor": "#2a3f5f"
                        },
                        "baxis": {
                          "endlinecolor": "#2a3f5f",
                          "gridcolor": "white",
                          "linecolor": "white",
                          "minorgridcolor": "white",
                          "startlinecolor": "#2a3f5f"
                        },
                        "type": "carpet"
                      }
                    ],
                    "choropleth": [
                      {
                        "colorbar": {
                          "outlinewidth": 0,
                          "ticks": ""
                        },
                        "type": "choropleth"
                      }
                    ],
                    "contour": [
                      {
                        "colorbar": {
                          "outlinewidth": 0,
                          "ticks": ""
                        },
                        "colorscale": [
                          [
                            0,
                            "#0d0887"
                          ],
                          [
                            0.1111111111111111,
                            "#46039f"
                          ],
                          [
                            0.2222222222222222,
                            "#7201a8"
                          ],
                          [
                            0.3333333333333333,
                            "#9c179e"
                          ],
                          [
                            0.4444444444444444,
                            "#bd3786"
                          ],
                          [
                            0.5555555555555556,
                            "#d8576b"
                          ],
                          [
                            0.6666666666666666,
                            "#ed7953"
                          ],
                          [
                            0.7777777777777778,
                            "#fb9f3a"
                          ],
                          [
                            0.8888888888888888,
                            "#fdca26"
                          ],
                          [
                            1,
                            "#f0f921"
                          ]
                        ],
                        "type": "contour"
                      }
                    ],
                    "contourcarpet": [
                      {
                        "colorbar": {
                          "outlinewidth": 0,
                          "ticks": ""
                        },
                        "type": "contourcarpet"
                      }
                    ],
                    "heatmap": [
                      {
                        "colorbar": {
                          "outlinewidth": 0,
                          "ticks": ""
                        },
                        "colorscale": [
                          [
                            0,
                            "#0d0887"
                          ],
                          [
                            0.1111111111111111,
                            "#46039f"
                          ],
                          [
                            0.2222222222222222,
                            "#7201a8"
                          ],
                          [
                            0.3333333333333333,
                            "#9c179e"
                          ],
                          [
                            0.4444444444444444,
                            "#bd3786"
                          ],
                          [
                            0.5555555555555556,
                            "#d8576b"
                          ],
                          [
                            0.6666666666666666,
                            "#ed7953"
                          ],
                          [
                            0.7777777777777778,
                            "#fb9f3a"
                          ],
                          [
                            0.8888888888888888,
                            "#fdca26"
                          ],
                          [
                            1,
                            "#f0f921"
                          ]
                        ],
                        "type": "heatmap"
                      }
                    ],
                    "heatmapgl": [
                      {
                        "colorbar": {
                          "outlinewidth": 0,
                          "ticks": ""
                        },
                        "colorscale": [
                          [
                            0,
                            "#0d0887"
                          ],
                          [
                            0.1111111111111111,
                            "#46039f"
                          ],
                          [
                            0.2222222222222222,
                            "#7201a8"
                          ],
                          [
                            0.3333333333333333,
                            "#9c179e"
                          ],
                          [
                            0.4444444444444444,
                            "#bd3786"
                          ],
                          [
                            0.5555555555555556,
                            "#d8576b"
                          ],
                          [
                            0.6666666666666666,
                            "#ed7953"
                          ],
                          [
                            0.7777777777777778,
                            "#fb9f3a"
                          ],
                          [
                            0.8888888888888888,
                            "#fdca26"
                          ],
                          [
                            1,
                            "#f0f921"
                          ]
                        ],
                        "type": "heatmapgl"
                      }
                    ],
                    "histogram": [
                      {
                        "marker": {
                          "pattern": {
                            "fillmode": "overlay",
                            "size": 10,
                            "solidity": 0.2
                          }
                        },
                        "type": "histogram"
                      }
                    ],
                    "histogram2d": [
                      {
                        "colorbar": {
                          "outlinewidth": 0,
                          "ticks": ""
                        },
                        "colorscale": [
                          [
                            0,
                            "#0d0887"
                          ],
                          [
                            0.1111111111111111,
                            "#46039f"
                          ],
                          [
                            0.2222222222222222,
                            "#7201a8"
                          ],
                          [
                            0.3333333333333333,
                            "#9c179e"
                          ],
                          [
                            0.4444444444444444,
                            "#bd3786"
                          ],
                          [
                            0.5555555555555556,
                            "#d8576b"
                          ],
                          [
                            0.6666666666666666,
                            "#ed7953"
                          ],
                          [
                            0.7777777777777778,
                            "#fb9f3a"
                          ],
                          [
                            0.8888888888888888,
                            "#fdca26"
                          ],
                          [
                            1,
                            "#f0f921"
                          ]
                        ],
                        "type": "histogram2d"
                      }
                    ],
                    "histogram2dcontour": [
                      {
                        "colorbar": {
                          "outlinewidth": 0,
                          "ticks": ""
                        },
                        "colorscale": [
                          [
                            0,
                            "#0d0887"
                          ],
                          [
                            0.1111111111111111,
                            "#46039f"
                          ],
                          [
                            0.2222222222222222,
                            "#7201a8"
                          ],
                          [
                            0.3333333333333333,
                            "#9c179e"
                          ],
                          [
                            0.4444444444444444,
                            "#bd3786"
                          ],
                          [
                            0.5555555555555556,
                            "#d8576b"
                          ],
                          [
                            0.6666666666666666,
                            "#ed7953"
                          ],
                          [
                            0.7777777777777778,
                            "#fb9f3a"
                          ],
                          [
                            0.8888888888888888,
                            "#fdca26"
                          ],
                          [
                            1,
                            "#f0f921"
                          ]
                        ],
                        "type": "histogram2dcontour"
                      }
                    ],
                    "mesh3d": [
                      {
                        "colorbar": {
                          "outlinewidth": 0,
                          "ticks": ""
                        },
                        "type": "mesh3d"
                      }
                    ],
                    "parcoords": [
                      {
                        "line": {
                          "colorbar": {
                            "outlinewidth": 0,
                            "ticks": ""
                          }
                        },
                        "type": "parcoords"
                      }
                    ],
                    "pie": [
                      {
                        "automargin": true,
                        "type": "pie"
                      }
                    ],
                    "scatter": [
                      {
                        "marker": {
                          "colorbar": {
                            "outlinewidth": 0,
                            "ticks": ""
                          }
                        },
                        "type": "scatter"
                      }
                    ],
                    "scatter3d": [
                      {
                        "line": {
                          "colorbar": {
                            "outlinewidth": 0,
                            "ticks": ""
                          }
                        },
                        "marker": {
                          "colorbar": {
                            "outlinewidth": 0,
                            "ticks": ""
                          }
                        },
                        "type": "scatter3d"
                      }
                    ],
                    "scattercarpet": [
                      {
                        "marker": {
                          "colorbar": {
                            "outlinewidth": 0,
                            "ticks": ""
                          }
                        },
                        "type": "scattercarpet"
                      }
                    ],
                    "scattergeo": [
                      {
                        "marker": {
                          "colorbar": {
                            "outlinewidth": 0,
                            "ticks": ""
                          }
                        },
                        "type": "scattergeo"
                      }
                    ],
                    "scattergl": [
                      {
                        "marker": {
                          "colorbar": {
                            "outlinewidth": 0,
                            "ticks": ""
                          }
                        },
                        "type": "scattergl"
                      }
                    ],
                    "scattermapbox": [
                      {
                        "marker": {
                          "colorbar": {
                            "outlinewidth": 0,
                            "ticks": ""
                          }
                        },
                        "type": "scattermapbox"
                      }
                    ],
                    "scatterpolar": [
                      {
                        "marker": {
                          "colorbar": {
                            "outlinewidth": 0,
                            "ticks": ""
                          }
                        },
                        "type": "scatterpolar"
                      }
                    ],
                    "scatterpolargl": [
                      {
                        "marker": {
                          "colorbar": {
                            "outlinewidth": 0,
                            "ticks": ""
                          }
                        },
                        "type": "scatterpolargl"
                      }
                    ],
                    "scatterternary": [
                      {
                        "marker": {
                          "colorbar": {
                            "outlinewidth": 0,
                            "ticks": ""
                          }
                        },
                        "type": "scatterternary"
                      }
                    ],
                    "surface": [
                      {
                        "colorbar": {
                          "outlinewidth": 0,
                          "ticks": ""
                        },
                        "colorscale": [
                          [
                            0,
                            "#0d0887"
                          ],
                          [
                            0.1111111111111111,
                            "#46039f"
                          ],
                          [
                            0.2222222222222222,
                            "#7201a8"
                          ],
                          [
                            0.3333333333333333,
                            "#9c179e"
                          ],
                          [
                            0.4444444444444444,
                            "#bd3786"
                          ],
                          [
                            0.5555555555555556,
                            "#d8576b"
                          ],
                          [
                            0.6666666666666666,
                            "#ed7953"
                          ],
                          [
                            0.7777777777777778,
                            "#fb9f3a"
                          ],
                          [
                            0.8888888888888888,
                            "#fdca26"
                          ],
                          [
                            1,
                            "#f0f921"
                          ]
                        ],
                        "type": "surface"
                      }
                    ],
                    "table": [
                      {
                        "cells": {
                          "fill": {
                            "color": "#EBF0F8"
                          },
                          "line": {
                            "color": "white"
                          }
                        },
                        "header": {
                          "fill": {
                            "color": "#C8D4E3"
                          },
                          "line": {
                            "color": "white"
                          }
                        },
                        "type": "table"
                      }
                    ]
                  },
                  "layout": {
                    "annotationdefaults": {
                      "arrowcolor": "#2a3f5f",
                      "arrowhead": 0,
                      "arrowwidth": 1
                    },
                    "autotypenumbers": "strict",
                    "coloraxis": {
                      "colorbar": {
                        "outlinewidth": 0,
                        "ticks": ""
                      }
                    },
                    "colorscale": {
                      "diverging": [
                        [
                          0,
                          "#8e0152"
                        ],
                        [
                          0.1,
                          "#c51b7d"
                        ],
                        [
                          0.2,
                          "#de77ae"
                        ],
                        [
                          0.3,
                          "#f1b6da"
                        ],
                        [
                          0.4,
                          "#fde0ef"
                        ],
                        [
                          0.5,
                          "#f7f7f7"
                        ],
                        [
                          0.6,
                          "#e6f5d0"
                        ],
                        [
                          0.7,
                          "#b8e186"
                        ],
                        [
                          0.8,
                          "#7fbc41"
                        ],
                        [
                          0.9,
                          "#4d9221"
                        ],
                        [
                          1,
                          "#276419"
                        ]
                      ],
                      "sequential": [
                        [
                          0,
                          "#0d0887"
                        ],
                        [
                          0.1111111111111111,
                          "#46039f"
                        ],
                        [
                          0.2222222222222222,
                          "#7201a8"
                        ],
                        [
                          0.3333333333333333,
                          "#9c179e"
                        ],
                        [
                          0.4444444444444444,
                          "#bd3786"
                        ],
                        [
                          0.5555555555555556,
                          "#d8576b"
                        ],
                        [
                          0.6666666666666666,
                          "#ed7953"
                        ],
                        [
                          0.7777777777777778,
                          "#fb9f3a"
                        ],
                        [
                          0.8888888888888888,
                          "#fdca26"
                        ],
                        [
                          1,
                          "#f0f921"
                        ]
                      ],
                      "sequentialminus": [
                        [
                          0,
                          "#0d0887"
                        ],
                        [
                          0.1111111111111111,
                          "#46039f"
                        ],
                        [
                          0.2222222222222222,
                          "#7201a8"
                        ],
                        [
                          0.3333333333333333,
                          "#9c179e"
                        ],
                        [
                          0.4444444444444444,
                          "#bd3786"
                        ],
                        [
                          0.5555555555555556,
                          "#d8576b"
                        ],
                        [
                          0.6666666666666666,
                          "#ed7953"
                        ],
                        [
                          0.7777777777777778,
                          "#fb9f3a"
                        ],
                        [
                          0.8888888888888888,
                          "#fdca26"
                        ],
                        [
                          1,
                          "#f0f921"
                        ]
                      ]
                    },
                    "colorway": [
                      "#636efa",
                      "#EF553B",
                      "#00cc96",
                      "#ab63fa",
                      "#FFA15A",
                      "#19d3f3",
                      "#FF6692",
                      "#B6E880",
                      "#FF97FF",
                      "#FECB52"
                    ],
                    "font": {
                      "color": "#2a3f5f"
                    },
                    "geo": {
                      "bgcolor": "white",
                      "lakecolor": "white",
                      "landcolor": "#E5ECF6",
                      "showlakes": true,
                      "showland": true,
                      "subunitcolor": "white"
                    },
                    "hoverlabel": {
                      "align": "left"
                    },
                    "hovermode": "closest",
                    "mapbox": {
                      "style": "light"
                    },
                    "paper_bgcolor": "white",
                    "plot_bgcolor": "#E5ECF6",
                    "polar": {
                      "angularaxis": {
                        "gridcolor": "white",
                        "linecolor": "white",
                        "ticks": ""
                      },
                      "bgcolor": "#E5ECF6",
                      "radialaxis": {
                        "gridcolor": "white",
                        "linecolor": "white",
                        "ticks": ""
                      }
                    },
                    "scene": {
                      "xaxis": {
                        "backgroundcolor": "#E5ECF6",
                        "gridcolor": "white",
                        "gridwidth": 2,
                        "linecolor": "white",
                        "showbackground": true,
                        "ticks": "",
                        "zerolinecolor": "white"
                      },
                      "yaxis": {
                        "backgroundcolor": "#E5ECF6",
                        "gridcolor": "white",
                        "gridwidth": 2,
                        "linecolor": "white",
                        "showbackground": true,
                        "ticks": "",
                        "zerolinecolor": "white"
                      },
                      "zaxis": {
                        "backgroundcolor": "#E5ECF6",
                        "gridcolor": "white",
                        "gridwidth": 2,
                        "linecolor": "white",
                        "showbackground": true,
                        "ticks": "",
                        "zerolinecolor": "white"
                      }
                    },
                    "shapedefaults": {
                      "line": {
                        "color": "#2a3f5f"
                      }
                    },
                    "ternary": {
                      "aaxis": {
                        "gridcolor": "white",
                        "linecolor": "white",
                        "ticks": ""
                      },
                      "baxis": {
                        "gridcolor": "white",
                        "linecolor": "white",
                        "ticks": ""
                      },
                      "bgcolor": "#E5ECF6",
                      "caxis": {
                        "gridcolor": "white",
                        "linecolor": "white",
                        "ticks": ""
                      }
                    },
                    "title": {
                      "x": 0.05
                    },
                    "xaxis": {
                      "automargin": true,
                      "gridcolor": "white",
                      "linecolor": "white",
                      "ticks": "",
                      "title": {
                        "standoff": 15
                      },
                      "zerolinecolor": "white",
                      "zerolinewidth": 2
                    },
                    "yaxis": {
                      "automargin": true,
                      "gridcolor": "white",
                      "linecolor": "white",
                      "ticks": "",
                      "title": {
                        "standoff": 15
                      },
                      "zerolinecolor": "white",
                      "zerolinewidth": 2
                    }
                  }
                },
                "title": {
                  "text": "Time: ite vs noite"
                },
                "width": 800,
                "xaxis": {
                  "anchor": "y",
                  "constrain": "domain",
                  "domain": [
                    0,
                    1
                  ],
                  "range": [
                    -49.99,
                    979.93
                  ],
                  "title": {
                    "text": "time_ite"
                  }
                },
                "yaxis": {
                  "anchor": "x",
                  "domain": [
                    0,
                    1
                  ],
                  "scaleanchor": "x",
                  "scaleratio": 1,
                  "title": {
                    "text": "time_noite"
                  }
                }
              }
            }
          },
          "metadata": {},
          "output_type": "display_data"
        }
      ],
      "source": [
        "# !{sys.executable} -m pip install plotly nbformat\n",
        "import plotly.express as px\n",
        "# interactive graph for data exploration\n",
        "fig = px.scatter(phi, x=\"time_ite\", y=\"time_noite\", color=\"status_noite\", symbol=\"status_ite\")\n",
        "fig.update_layout(width=800, height=500, title='Time: ite vs noite')\n",
        "fig.update_xaxes( range=[phi.time_ite.min() - 50, phi.time_ite.max() + 50],  constrain=\"domain\")\n",
        "fig.update_yaxes(scaleanchor=\"x\", scaleratio=1)\n",
        "fig.show()"
      ]
    }
  ],
  "metadata": {
    "interpreter": {
      "hash": "7a792fcb311f9eb9f3c1b942a8c87ada8484712b89b670347c16a1088e0a1f69"
    },
    "kernelspec": {
      "display_name": "Python 3.6",
      "language": "python",
      "name": "python3"
    },
    "language_info": {
      "codemirror_mode": {
        "name": "ipython",
        "version": 3
      },
      "file_extension": ".py",
      "mimetype": "text/x-python",
      "name": "python",
      "nbconvert_exporter": "python",
      "pygments_lexer": "ipython3",
      "version": "3.9.9"
    }
  },
  "nbformat": 4,
  "nbformat_minor": 2
}
