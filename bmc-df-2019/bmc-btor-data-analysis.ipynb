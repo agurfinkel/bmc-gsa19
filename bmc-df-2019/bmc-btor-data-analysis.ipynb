{
 "cells": [
  {
   "cell_type": "raw",
   "metadata": {
    "slideshow": {
     "slide_type": "subslide"
    }
   },
   "source": [
    "# Analysis of BMC solving with Boolector\n",
    "\n",
    "Pandas cheatsheet: https://pandas.pydata.org/Pandas_Cheat_Sheet.pdf\n",
    "\n",
    "There are 4 different encoding parameters:\n",
    "\n",
    "  - **phi** whether the VC is encoded with phi-assignments. This is traditional encoding for `SeaHorn`\n",
    "  - **gsa** whether the program is converted to Gated SSA before VCGen. In this case, there are no phi-assignments\n",
    "  - **ite** whether phi-nodes are encoded with ite-expressions\n",
    "  - **noite** whether phi-nodes are encoded with disjunction and equalities (traditional for `SeaHorn`)\n",
    "  \n",
    "Four combinations are considered: {ite, noite} x {phi, gsa}. \n",
    "The combination (ite, phi) is traditional for `SeaHorn`. The combination (ite, gsa) is meaningles since under gsa, there are no phi-nodes, and ite has no effect. Yet, the result show some difference between (ite, gsa) and (noite, gsa). This needs to be investigated further. Possibly the difference is due to usual SAT-solver non-determinism."
   ]
  },
  {
   "cell_type": "code",
   "execution_count": 1,
   "metadata": {},
   "outputs": [],
   "source": [
    "import pandas as pd\n",
    "import numpy as np\n",
    "import matplotlib.pyplot as plt "
   ]
  },
  {
   "cell_type": "code",
   "execution_count": 20,
   "metadata": {},
   "outputs": [
    {
     "data": {
      "text/html": [
       "<div>\n",
       "<style scoped>\n",
       "    .dataframe tbody tr th:only-of-type {\n",
       "        vertical-align: middle;\n",
       "    }\n",
       "\n",
       "    .dataframe tbody tr th {\n",
       "        vertical-align: top;\n",
       "    }\n",
       "\n",
       "    .dataframe thead th {\n",
       "        text-align: right;\n",
       "    }\n",
       "</style>\n",
       "<table border=\"1\" class=\"dataframe\">\n",
       "  <thead>\n",
       "    <tr style=\"text-align: right;\">\n",
       "      <th></th>\n",
       "      <th>index</th>\n",
       "      <th>btor_time</th>\n",
       "      <th>real</th>\n",
       "      <th>status</th>\n",
       "      <th>sys</th>\n",
       "      <th>user</th>\n",
       "    </tr>\n",
       "  </thead>\n",
       "  <tbody>\n",
       "    <tr>\n",
       "      <td>0</td>\n",
       "      <td>ldv-cat-0000.c.ite.gsa.smt2</td>\n",
       "      <td>0.0</td>\n",
       "      <td>0.0</td>\n",
       "      <td>sat</td>\n",
       "      <td>0.0</td>\n",
       "      <td>0.0</td>\n",
       "    </tr>\n",
       "    <tr>\n",
       "      <td>1</td>\n",
       "      <td>ldv-cat-0000.c.ite.phi.smt2</td>\n",
       "      <td>0.0</td>\n",
       "      <td>0.0</td>\n",
       "      <td>sat</td>\n",
       "      <td>0.0</td>\n",
       "      <td>0.0</td>\n",
       "    </tr>\n",
       "    <tr>\n",
       "      <td>2</td>\n",
       "      <td>ldv-cat-0000.c.noite.gsa.smt2</td>\n",
       "      <td>0.0</td>\n",
       "      <td>0.0</td>\n",
       "      <td>sat</td>\n",
       "      <td>0.0</td>\n",
       "      <td>0.0</td>\n",
       "    </tr>\n",
       "    <tr>\n",
       "      <td>3</td>\n",
       "      <td>ldv-cat-0000.c.noite.phi.smt2</td>\n",
       "      <td>0.0</td>\n",
       "      <td>0.0</td>\n",
       "      <td>sat</td>\n",
       "      <td>0.0</td>\n",
       "      <td>0.0</td>\n",
       "    </tr>\n",
       "    <tr>\n",
       "      <td>4</td>\n",
       "      <td>ldv-cat-0001.c.ite.gsa.smt2</td>\n",
       "      <td>900.0</td>\n",
       "      <td>0.0</td>\n",
       "      <td>unknown</td>\n",
       "      <td>0.0</td>\n",
       "      <td>0.0</td>\n",
       "    </tr>\n",
       "  </tbody>\n",
       "</table>\n",
       "</div>"
      ],
      "text/plain": [
       "                           index  btor_time  real   status  sys  user\n",
       "0    ldv-cat-0000.c.ite.gsa.smt2        0.0   0.0      sat  0.0   0.0\n",
       "1    ldv-cat-0000.c.ite.phi.smt2        0.0   0.0      sat  0.0   0.0\n",
       "2  ldv-cat-0000.c.noite.gsa.smt2        0.0   0.0      sat  0.0   0.0\n",
       "3  ldv-cat-0000.c.noite.phi.smt2        0.0   0.0      sat  0.0   0.0\n",
       "4    ldv-cat-0001.c.ite.gsa.smt2      900.0   0.0  unknown  0.0   0.0"
      ]
     },
     "execution_count": 20,
     "metadata": {},
     "output_type": "execute_result"
    }
   ],
   "source": [
    "fname='bmc-btor-sep30.csv'\n",
    "df = pd.read_csv(fname)\n",
    "# move timeout and unknown to maximal time\n",
    "df['user'].fillna(value=900, inplace=True)\n",
    "df['btor_time'].fillna(value=900, inplace=True)\n",
    "# show a snapshot of data for visual validation\n",
    "df.head()"
   ]
  },
  {
   "cell_type": "code",
   "execution_count": 21,
   "metadata": {},
   "outputs": [
    {
     "data": {
      "text/html": [
       "<div>\n",
       "<style scoped>\n",
       "    .dataframe tbody tr th:only-of-type {\n",
       "        vertical-align: middle;\n",
       "    }\n",
       "\n",
       "    .dataframe tbody tr th {\n",
       "        vertical-align: top;\n",
       "    }\n",
       "\n",
       "    .dataframe thead th {\n",
       "        text-align: right;\n",
       "    }\n",
       "</style>\n",
       "<table border=\"1\" class=\"dataframe\">\n",
       "  <thead>\n",
       "    <tr style=\"text-align: right;\">\n",
       "      <th></th>\n",
       "      <th>index</th>\n",
       "    </tr>\n",
       "    <tr>\n",
       "      <th>status</th>\n",
       "      <th></th>\n",
       "    </tr>\n",
       "  </thead>\n",
       "  <tbody>\n",
       "    <tr>\n",
       "      <td>sat</td>\n",
       "      <td>116</td>\n",
       "    </tr>\n",
       "    <tr>\n",
       "      <td>unknown</td>\n",
       "      <td>175</td>\n",
       "    </tr>\n",
       "    <tr>\n",
       "      <td>unsat</td>\n",
       "      <td>103</td>\n",
       "    </tr>\n",
       "  </tbody>\n",
       "</table>\n",
       "</div>"
      ],
      "text/plain": [
       "         index\n",
       "status        \n",
       "sat        116\n",
       "unknown    175\n",
       "unsat      103"
      ]
     },
     "execution_count": 21,
     "metadata": {},
     "output_type": "execute_result"
    }
   ],
   "source": [
    "# quick overview of solved/unsolved instances\n",
    "df[['status','index']].groupby(['status']).count()"
   ]
  },
  {
   "cell_type": "code",
   "execution_count": 22,
   "metadata": {},
   "outputs": [
    {
     "data": {
      "text/html": [
       "<div>\n",
       "<style scoped>\n",
       "    .dataframe tbody tr th:only-of-type {\n",
       "        vertical-align: middle;\n",
       "    }\n",
       "\n",
       "    .dataframe tbody tr th {\n",
       "        vertical-align: top;\n",
       "    }\n",
       "\n",
       "    .dataframe thead th {\n",
       "        text-align: right;\n",
       "    }\n",
       "</style>\n",
       "<table border=\"1\" class=\"dataframe\">\n",
       "  <thead>\n",
       "    <tr style=\"text-align: right;\">\n",
       "      <th></th>\n",
       "      <th>index</th>\n",
       "      <th>btor_time</th>\n",
       "      <th>real</th>\n",
       "      <th>status</th>\n",
       "      <th>sys</th>\n",
       "      <th>user</th>\n",
       "    </tr>\n",
       "  </thead>\n",
       "  <tbody>\n",
       "    <tr>\n",
       "      <td>4</td>\n",
       "      <td>ldv-cat-0001.c.ite.gsa.smt2</td>\n",
       "      <td>900.0</td>\n",
       "      <td>0.00</td>\n",
       "      <td>unknown</td>\n",
       "      <td>0.00</td>\n",
       "      <td>0.00</td>\n",
       "    </tr>\n",
       "    <tr>\n",
       "      <td>5</td>\n",
       "      <td>ldv-cat-0001.c.ite.phi.smt2</td>\n",
       "      <td>900.0</td>\n",
       "      <td>0.00</td>\n",
       "      <td>unknown</td>\n",
       "      <td>0.00</td>\n",
       "      <td>0.00</td>\n",
       "    </tr>\n",
       "    <tr>\n",
       "      <td>6</td>\n",
       "      <td>ldv-cat-0001.c.noite.gsa.smt2</td>\n",
       "      <td>900.0</td>\n",
       "      <td>0.00</td>\n",
       "      <td>unknown</td>\n",
       "      <td>0.00</td>\n",
       "      <td>0.00</td>\n",
       "    </tr>\n",
       "    <tr>\n",
       "      <td>7</td>\n",
       "      <td>ldv-cat-0001.c.noite.phi.smt2</td>\n",
       "      <td>900.0</td>\n",
       "      <td>0.00</td>\n",
       "      <td>unknown</td>\n",
       "      <td>0.00</td>\n",
       "      <td>0.00</td>\n",
       "    </tr>\n",
       "    <tr>\n",
       "      <td>12</td>\n",
       "      <td>ldv-cat-0003.c.ite.gsa.smt2</td>\n",
       "      <td>900.0</td>\n",
       "      <td>0.00</td>\n",
       "      <td>unknown</td>\n",
       "      <td>0.00</td>\n",
       "      <td>0.00</td>\n",
       "    </tr>\n",
       "    <tr>\n",
       "      <td>...</td>\n",
       "      <td>...</td>\n",
       "      <td>...</td>\n",
       "      <td>...</td>\n",
       "      <td>...</td>\n",
       "      <td>...</td>\n",
       "      <td>...</td>\n",
       "    </tr>\n",
       "    <tr>\n",
       "      <td>387</td>\n",
       "      <td>ldv-cat-0097.i.ite.gsa.smt2</td>\n",
       "      <td>915.5</td>\n",
       "      <td>930.04</td>\n",
       "      <td>unknown</td>\n",
       "      <td>7.13</td>\n",
       "      <td>922.89</td>\n",
       "    </tr>\n",
       "    <tr>\n",
       "      <td>388</td>\n",
       "      <td>ldv-cat-0097.i.ite.phi.smt2</td>\n",
       "      <td>917.4</td>\n",
       "      <td>930.03</td>\n",
       "      <td>unknown</td>\n",
       "      <td>6.83</td>\n",
       "      <td>923.19</td>\n",
       "    </tr>\n",
       "    <tr>\n",
       "      <td>389</td>\n",
       "      <td>ldv-cat-0097.i.noite.gsa.smt2</td>\n",
       "      <td>914.0</td>\n",
       "      <td>930.04</td>\n",
       "      <td>unknown</td>\n",
       "      <td>7.59</td>\n",
       "      <td>922.41</td>\n",
       "    </tr>\n",
       "    <tr>\n",
       "      <td>390</td>\n",
       "      <td>ldv-cat-0097.i.noite.phi.smt2</td>\n",
       "      <td>898.9</td>\n",
       "      <td>930.31</td>\n",
       "      <td>unknown</td>\n",
       "      <td>40.35</td>\n",
       "      <td>889.94</td>\n",
       "    </tr>\n",
       "    <tr>\n",
       "      <td>393</td>\n",
       "      <td>ldv-cat-0098.i.noite.phi.smt2</td>\n",
       "      <td>878.8</td>\n",
       "      <td>930.41</td>\n",
       "      <td>unknown</td>\n",
       "      <td>46.43</td>\n",
       "      <td>883.96</td>\n",
       "    </tr>\n",
       "  </tbody>\n",
       "</table>\n",
       "<p>175 rows × 6 columns</p>\n",
       "</div>"
      ],
      "text/plain": [
       "                             index  btor_time    real   status    sys    user\n",
       "4      ldv-cat-0001.c.ite.gsa.smt2      900.0    0.00  unknown   0.00    0.00\n",
       "5      ldv-cat-0001.c.ite.phi.smt2      900.0    0.00  unknown   0.00    0.00\n",
       "6    ldv-cat-0001.c.noite.gsa.smt2      900.0    0.00  unknown   0.00    0.00\n",
       "7    ldv-cat-0001.c.noite.phi.smt2      900.0    0.00  unknown   0.00    0.00\n",
       "12     ldv-cat-0003.c.ite.gsa.smt2      900.0    0.00  unknown   0.00    0.00\n",
       "..                             ...        ...     ...      ...    ...     ...\n",
       "387    ldv-cat-0097.i.ite.gsa.smt2      915.5  930.04  unknown   7.13  922.89\n",
       "388    ldv-cat-0097.i.ite.phi.smt2      917.4  930.03  unknown   6.83  923.19\n",
       "389  ldv-cat-0097.i.noite.gsa.smt2      914.0  930.04  unknown   7.59  922.41\n",
       "390  ldv-cat-0097.i.noite.phi.smt2      898.9  930.31  unknown  40.35  889.94\n",
       "393  ldv-cat-0098.i.noite.phi.smt2      878.8  930.41  unknown  46.43  883.96\n",
       "\n",
       "[175 rows x 6 columns]"
      ]
     },
     "execution_count": 22,
     "metadata": {},
     "output_type": "execute_result"
    }
   ],
   "source": [
    "# find all unknown results. Usually means that something went wrong, not just timeout\n",
    "df.query('status == \"unknown\"')"
   ]
  },
  {
   "cell_type": "code",
   "execution_count": 23,
   "metadata": {},
   "outputs": [],
   "source": [
    "# split results into 4 groups\n",
    "def flt_index(df, s):\n",
    "    return df[df['index'].str.contains(s)]\n",
    "\n",
    "noite_gsa = flt_index(df, r'\\.noite.gsa')\n",
    "ite_gsa = flt_index(df, r'\\.ite.gsa')\n",
    "ite_phi = flt_index(df, r'\\.ite.phi')\n",
    "noite_phi = flt_index(df, r'\\.noite.phi')"
   ]
  },
  {
   "cell_type": "markdown",
   "metadata": {},
   "source": [
    "## Solved / Unsolved for each group"
   ]
  },
  {
   "cell_type": "code",
   "execution_count": 24,
   "metadata": {},
   "outputs": [
    {
     "data": {
      "text/html": [
       "<div>\n",
       "<style scoped>\n",
       "    .dataframe tbody tr th:only-of-type {\n",
       "        vertical-align: middle;\n",
       "    }\n",
       "\n",
       "    .dataframe tbody tr th {\n",
       "        vertical-align: top;\n",
       "    }\n",
       "\n",
       "    .dataframe thead th {\n",
       "        text-align: right;\n",
       "    }\n",
       "</style>\n",
       "<table border=\"1\" class=\"dataframe\">\n",
       "  <thead>\n",
       "    <tr style=\"text-align: right;\">\n",
       "      <th></th>\n",
       "      <th>index</th>\n",
       "      <th>btor_time</th>\n",
       "      <th>real</th>\n",
       "      <th>sys</th>\n",
       "      <th>user</th>\n",
       "    </tr>\n",
       "    <tr>\n",
       "      <th>status</th>\n",
       "      <th></th>\n",
       "      <th></th>\n",
       "      <th></th>\n",
       "      <th></th>\n",
       "      <th></th>\n",
       "    </tr>\n",
       "  </thead>\n",
       "  <tbody>\n",
       "    <tr>\n",
       "      <td>sat</td>\n",
       "      <td>32</td>\n",
       "      <td>32</td>\n",
       "      <td>32</td>\n",
       "      <td>32</td>\n",
       "      <td>32</td>\n",
       "    </tr>\n",
       "    <tr>\n",
       "      <td>unknown</td>\n",
       "      <td>41</td>\n",
       "      <td>41</td>\n",
       "      <td>41</td>\n",
       "      <td>41</td>\n",
       "      <td>41</td>\n",
       "    </tr>\n",
       "    <tr>\n",
       "      <td>unsat</td>\n",
       "      <td>26</td>\n",
       "      <td>26</td>\n",
       "      <td>26</td>\n",
       "      <td>26</td>\n",
       "      <td>26</td>\n",
       "    </tr>\n",
       "  </tbody>\n",
       "</table>\n",
       "</div>"
      ],
      "text/plain": [
       "         index  btor_time  real  sys  user\n",
       "status                                    \n",
       "sat         32         32    32   32    32\n",
       "unknown     41         41    41   41    41\n",
       "unsat       26         26    26   26    26"
      ]
     },
     "execution_count": 24,
     "metadata": {},
     "output_type": "execute_result"
    }
   ],
   "source": [
    "noite_gsa.groupby('status').count()"
   ]
  },
  {
   "cell_type": "code",
   "execution_count": 25,
   "metadata": {},
   "outputs": [
    {
     "data": {
      "text/html": [
       "<div>\n",
       "<style scoped>\n",
       "    .dataframe tbody tr th:only-of-type {\n",
       "        vertical-align: middle;\n",
       "    }\n",
       "\n",
       "    .dataframe tbody tr th {\n",
       "        vertical-align: top;\n",
       "    }\n",
       "\n",
       "    .dataframe thead th {\n",
       "        text-align: right;\n",
       "    }\n",
       "</style>\n",
       "<table border=\"1\" class=\"dataframe\">\n",
       "  <thead>\n",
       "    <tr style=\"text-align: right;\">\n",
       "      <th></th>\n",
       "      <th>index</th>\n",
       "      <th>btor_time</th>\n",
       "      <th>real</th>\n",
       "      <th>sys</th>\n",
       "      <th>user</th>\n",
       "    </tr>\n",
       "    <tr>\n",
       "      <th>status</th>\n",
       "      <th></th>\n",
       "      <th></th>\n",
       "      <th></th>\n",
       "      <th></th>\n",
       "      <th></th>\n",
       "    </tr>\n",
       "  </thead>\n",
       "  <tbody>\n",
       "    <tr>\n",
       "      <td>sat</td>\n",
       "      <td>30</td>\n",
       "      <td>30</td>\n",
       "      <td>30</td>\n",
       "      <td>30</td>\n",
       "      <td>30</td>\n",
       "    </tr>\n",
       "    <tr>\n",
       "      <td>unknown</td>\n",
       "      <td>41</td>\n",
       "      <td>41</td>\n",
       "      <td>41</td>\n",
       "      <td>41</td>\n",
       "      <td>41</td>\n",
       "    </tr>\n",
       "    <tr>\n",
       "      <td>unsat</td>\n",
       "      <td>26</td>\n",
       "      <td>26</td>\n",
       "      <td>26</td>\n",
       "      <td>26</td>\n",
       "      <td>26</td>\n",
       "    </tr>\n",
       "  </tbody>\n",
       "</table>\n",
       "</div>"
      ],
      "text/plain": [
       "         index  btor_time  real  sys  user\n",
       "status                                    \n",
       "sat         30         30    30   30    30\n",
       "unknown     41         41    41   41    41\n",
       "unsat       26         26    26   26    26"
      ]
     },
     "execution_count": 25,
     "metadata": {},
     "output_type": "execute_result"
    }
   ],
   "source": [
    "ite_gsa.groupby('status').count()"
   ]
  },
  {
   "cell_type": "code",
   "execution_count": 26,
   "metadata": {},
   "outputs": [
    {
     "data": {
      "text/html": [
       "<div>\n",
       "<style scoped>\n",
       "    .dataframe tbody tr th:only-of-type {\n",
       "        vertical-align: middle;\n",
       "    }\n",
       "\n",
       "    .dataframe tbody tr th {\n",
       "        vertical-align: top;\n",
       "    }\n",
       "\n",
       "    .dataframe thead th {\n",
       "        text-align: right;\n",
       "    }\n",
       "</style>\n",
       "<table border=\"1\" class=\"dataframe\">\n",
       "  <thead>\n",
       "    <tr style=\"text-align: right;\">\n",
       "      <th></th>\n",
       "      <th>index</th>\n",
       "      <th>btor_time</th>\n",
       "      <th>real</th>\n",
       "      <th>sys</th>\n",
       "      <th>user</th>\n",
       "    </tr>\n",
       "    <tr>\n",
       "      <th>status</th>\n",
       "      <th></th>\n",
       "      <th></th>\n",
       "      <th></th>\n",
       "      <th></th>\n",
       "      <th></th>\n",
       "    </tr>\n",
       "  </thead>\n",
       "  <tbody>\n",
       "    <tr>\n",
       "      <td>sat</td>\n",
       "      <td>32</td>\n",
       "      <td>32</td>\n",
       "      <td>32</td>\n",
       "      <td>32</td>\n",
       "      <td>32</td>\n",
       "    </tr>\n",
       "    <tr>\n",
       "      <td>unknown</td>\n",
       "      <td>38</td>\n",
       "      <td>38</td>\n",
       "      <td>38</td>\n",
       "      <td>38</td>\n",
       "      <td>38</td>\n",
       "    </tr>\n",
       "    <tr>\n",
       "      <td>unsat</td>\n",
       "      <td>29</td>\n",
       "      <td>29</td>\n",
       "      <td>29</td>\n",
       "      <td>29</td>\n",
       "      <td>29</td>\n",
       "    </tr>\n",
       "  </tbody>\n",
       "</table>\n",
       "</div>"
      ],
      "text/plain": [
       "         index  btor_time  real  sys  user\n",
       "status                                    \n",
       "sat         32         32    32   32    32\n",
       "unknown     38         38    38   38    38\n",
       "unsat       29         29    29   29    29"
      ]
     },
     "execution_count": 26,
     "metadata": {},
     "output_type": "execute_result"
    }
   ],
   "source": [
    "ite_phi.groupby('status').count()"
   ]
  },
  {
   "cell_type": "code",
   "execution_count": 27,
   "metadata": {},
   "outputs": [
    {
     "data": {
      "text/html": [
       "<div>\n",
       "<style scoped>\n",
       "    .dataframe tbody tr th:only-of-type {\n",
       "        vertical-align: middle;\n",
       "    }\n",
       "\n",
       "    .dataframe tbody tr th {\n",
       "        vertical-align: top;\n",
       "    }\n",
       "\n",
       "    .dataframe thead th {\n",
       "        text-align: right;\n",
       "    }\n",
       "</style>\n",
       "<table border=\"1\" class=\"dataframe\">\n",
       "  <thead>\n",
       "    <tr style=\"text-align: right;\">\n",
       "      <th></th>\n",
       "      <th>index</th>\n",
       "      <th>btor_time</th>\n",
       "      <th>real</th>\n",
       "      <th>sys</th>\n",
       "      <th>user</th>\n",
       "    </tr>\n",
       "    <tr>\n",
       "      <th>status</th>\n",
       "      <th></th>\n",
       "      <th></th>\n",
       "      <th></th>\n",
       "      <th></th>\n",
       "      <th></th>\n",
       "    </tr>\n",
       "  </thead>\n",
       "  <tbody>\n",
       "    <tr>\n",
       "      <td>sat</td>\n",
       "      <td>22</td>\n",
       "      <td>22</td>\n",
       "      <td>22</td>\n",
       "      <td>22</td>\n",
       "      <td>22</td>\n",
       "    </tr>\n",
       "    <tr>\n",
       "      <td>unknown</td>\n",
       "      <td>55</td>\n",
       "      <td>55</td>\n",
       "      <td>55</td>\n",
       "      <td>55</td>\n",
       "      <td>55</td>\n",
       "    </tr>\n",
       "    <tr>\n",
       "      <td>unsat</td>\n",
       "      <td>22</td>\n",
       "      <td>22</td>\n",
       "      <td>22</td>\n",
       "      <td>22</td>\n",
       "      <td>22</td>\n",
       "    </tr>\n",
       "  </tbody>\n",
       "</table>\n",
       "</div>"
      ],
      "text/plain": [
       "         index  btor_time  real  sys  user\n",
       "status                                    \n",
       "sat         22         22    22   22    22\n",
       "unknown     55         55    55   55    55\n",
       "unsat       22         22    22   22    22"
      ]
     },
     "execution_count": 27,
     "metadata": {},
     "output_type": "execute_result"
    }
   ],
   "source": [
    "noite_phi.groupby('status').count()"
   ]
  },
  {
   "cell_type": "code",
   "execution_count": 28,
   "metadata": {},
   "outputs": [],
   "source": [
    "# create a file column to join different result sets\n",
    "def index_to_file(df):\n",
    "    return df.assign(file=df['index'].str.extract(r'([^.]+)'))\n",
    "noite_phi = index_to_file(noite_phi)\n",
    "ite_phi = index_to_file(ite_phi)\n",
    "noite_gsa = index_to_file(noite_gsa)\n",
    "ite_gsa = index_to_file(ite_gsa)"
   ]
  },
  {
   "cell_type": "code",
   "execution_count": 29,
   "metadata": {},
   "outputs": [],
   "source": [
    "# join on file\n",
    "phi = ite_phi.merge(noite_phi, on='file', suffixes=('_ite', '_noite'))"
   ]
  },
  {
   "cell_type": "code",
   "execution_count": 30,
   "metadata": {},
   "outputs": [
    {
     "data": {
      "text/html": [
       "<div>\n",
       "<style scoped>\n",
       "    .dataframe tbody tr th:only-of-type {\n",
       "        vertical-align: middle;\n",
       "    }\n",
       "\n",
       "    .dataframe tbody tr th {\n",
       "        vertical-align: top;\n",
       "    }\n",
       "\n",
       "    .dataframe thead th {\n",
       "        text-align: right;\n",
       "    }\n",
       "</style>\n",
       "<table border=\"1\" class=\"dataframe\">\n",
       "  <thead>\n",
       "    <tr style=\"text-align: right;\">\n",
       "      <th></th>\n",
       "      <th></th>\n",
       "      <th>file</th>\n",
       "    </tr>\n",
       "    <tr>\n",
       "      <th>status_ite</th>\n",
       "      <th>status_noite</th>\n",
       "      <th></th>\n",
       "    </tr>\n",
       "  </thead>\n",
       "  <tbody>\n",
       "    <tr>\n",
       "      <td rowspan=\"2\" valign=\"top\">sat</td>\n",
       "      <td>sat</td>\n",
       "      <td>22</td>\n",
       "    </tr>\n",
       "    <tr>\n",
       "      <td>unknown</td>\n",
       "      <td>10</td>\n",
       "    </tr>\n",
       "    <tr>\n",
       "      <td rowspan=\"2\" valign=\"top\">unknown</td>\n",
       "      <td>unknown</td>\n",
       "      <td>37</td>\n",
       "    </tr>\n",
       "    <tr>\n",
       "      <td>unsat</td>\n",
       "      <td>1</td>\n",
       "    </tr>\n",
       "    <tr>\n",
       "      <td rowspan=\"2\" valign=\"top\">unsat</td>\n",
       "      <td>unknown</td>\n",
       "      <td>8</td>\n",
       "    </tr>\n",
       "    <tr>\n",
       "      <td>unsat</td>\n",
       "      <td>21</td>\n",
       "    </tr>\n",
       "  </tbody>\n",
       "</table>\n",
       "</div>"
      ],
      "text/plain": [
       "                         file\n",
       "status_ite status_noite      \n",
       "sat        sat             22\n",
       "           unknown         10\n",
       "unknown    unknown         37\n",
       "           unsat            1\n",
       "unsat      unknown          8\n",
       "           unsat           21"
      ]
     },
     "execution_count": 30,
     "metadata": {},
     "output_type": "execute_result"
    }
   ],
   "source": [
    "# solved / unsolved based on ite parameter\n",
    "phi.groupby(['status_ite', 'status_noite']).count()[['file']]"
   ]
  },
  {
   "cell_type": "code",
   "execution_count": 31,
   "metadata": {},
   "outputs": [
    {
     "data": {
      "text/html": [
       "<div>\n",
       "<style scoped>\n",
       "    .dataframe tbody tr th:only-of-type {\n",
       "        vertical-align: middle;\n",
       "    }\n",
       "\n",
       "    .dataframe tbody tr th {\n",
       "        vertical-align: top;\n",
       "    }\n",
       "\n",
       "    .dataframe thead th {\n",
       "        text-align: right;\n",
       "    }\n",
       "</style>\n",
       "<table border=\"1\" class=\"dataframe\">\n",
       "  <thead>\n",
       "    <tr style=\"text-align: right;\">\n",
       "      <th></th>\n",
       "      <th></th>\n",
       "      <th>file</th>\n",
       "    </tr>\n",
       "    <tr>\n",
       "      <th>status_ite</th>\n",
       "      <th>status_noite</th>\n",
       "      <th></th>\n",
       "    </tr>\n",
       "  </thead>\n",
       "  <tbody>\n",
       "    <tr>\n",
       "      <td>sat</td>\n",
       "      <td>sat</td>\n",
       "      <td>30</td>\n",
       "    </tr>\n",
       "    <tr>\n",
       "      <td rowspan=\"2\" valign=\"top\">unknown</td>\n",
       "      <td>sat</td>\n",
       "      <td>1</td>\n",
       "    </tr>\n",
       "    <tr>\n",
       "      <td>unknown</td>\n",
       "      <td>40</td>\n",
       "    </tr>\n",
       "    <tr>\n",
       "      <td>unsat</td>\n",
       "      <td>unsat</td>\n",
       "      <td>26</td>\n",
       "    </tr>\n",
       "  </tbody>\n",
       "</table>\n",
       "</div>"
      ],
      "text/plain": [
       "                         file\n",
       "status_ite status_noite      \n",
       "sat        sat             30\n",
       "unknown    sat              1\n",
       "           unknown         40\n",
       "unsat      unsat           26"
      ]
     },
     "execution_count": 31,
     "metadata": {},
     "output_type": "execute_result"
    }
   ],
   "source": [
    "# merge gsa sets and show solved / unsolved\n",
    "gsa = ite_gsa.merge(noite_gsa, on='file', suffixes=('_ite', '_noite'))\n",
    "gsa.groupby(['status_ite', 'status_noite']).count()[['file']]"
   ]
  },
  {
   "cell_type": "code",
   "execution_count": 32,
   "metadata": {},
   "outputs": [
    {
     "name": "stderr",
     "output_type": "stream",
     "text": [
      "'c' argument looks like a single numeric RGB or RGBA sequence, which should be avoided as value-mapping will have precedence in case its length matches with 'x' & 'y'.  Please use a 2-D array with a single row if you really want to specify the same RGB or RGBA value for all points.\n",
      "'c' argument looks like a single numeric RGB or RGBA sequence, which should be avoided as value-mapping will have precedence in case its length matches with 'x' & 'y'.  Please use a 2-D array with a single row if you really want to specify the same RGB or RGBA value for all points.\n"
     ]
    },
    {
     "data": {
      "text/plain": [
       "<matplotlib.axes._subplots.AxesSubplot at 0x121d47f50>"
      ]
     },
     "execution_count": 32,
     "metadata": {},
     "output_type": "execute_result"
    },
    {
     "data": {
      "image/png": "[encoded data removed]",
      "text/plain": [
       "<Figure size 1440x720 with 2 Axes>"
      ]
     },
     "metadata": {},
     "output_type": "display_data"
    }
   ],
   "source": [
    "# set default figure size for plots to be 7 by 7 inches\n",
    "plt.rcParams[\"figure.figsize\"] = (7, 7)\n",
    "# create a new figure 20 by 10 inches wide\n",
    "fig = plt.figure(figsize=(20,10))\n",
    "# break figure into two sub-plots\n",
    "# ax1: the number '121' is parsed as plot 1 of 1x2 grid\n",
    "ax1 = plt.subplot(121)\n",
    "# ax2: the number '122' is parsed as plot 2 of 1x2 grid\n",
    "ax2 = plt.subplot(122)\n",
    "# plot a diagonal line to make scatter plots easier to read\n",
    "x = np.linspace(-5, 950, 2)\n",
    "ax1.plot(x, x, color='red')\n",
    "ax2.plot(x, x, color='red')\n",
    "# plot succeeded instances\n",
    "gsa.query('status_ite==\"sat\" or status_ite==\"unsat\"').plot.scatter(x='user_ite', y='user_noite', ax=ax1, title='GSA')\n",
    "phi.query('status_noite==\"sat\" or status_ite==\"unsat\"').plot.scatter(x='user_ite', y='user_noite', ax=ax2, title='PHI')"
   ]
  },
  {
   "cell_type": "code",
   "execution_count": 33,
   "metadata": {},
   "outputs": [
    {
     "name": "stderr",
     "output_type": "stream",
     "text": [
      "'c' argument looks like a single numeric RGB or RGBA sequence, which should be avoided as value-mapping will have precedence in case its length matches with 'x' & 'y'.  Please use a 2-D array with a single row if you really want to specify the same RGB or RGBA value for all points.\n"
     ]
    },
    {
     "data": {
      "text/plain": [
       "[<matplotlib.lines.Line2D at 0x11d9a5490>]"
      ]
     },
     "execution_count": 33,
     "metadata": {},
     "output_type": "execute_result"
    },
    {
     "data": {
      "image/png": "[encoded data removed]",
      "text/plain": [
       "<Figure size 504x504 with 1 Axes>"
      ]
     },
     "metadata": {},
     "output_type": "display_data"
    }
   ],
   "source": [
    "# a single plot is easier to create\n",
    "ax = phi.query('status_noite==\"sat\"').plot.scatter(x='user_ite', y='user_noite')\n",
    "ax.plot(x, x, color='grey')"
   ]
  },
  {
   "cell_type": "code",
   "execution_count": 34,
   "metadata": {},
   "outputs": [
    {
     "data": {
      "text/html": [
       "<div>\n",
       "<style scoped>\n",
       "    .dataframe tbody tr th:only-of-type {\n",
       "        vertical-align: middle;\n",
       "    }\n",
       "\n",
       "    .dataframe tbody tr th {\n",
       "        vertical-align: top;\n",
       "    }\n",
       "\n",
       "    .dataframe thead tr th {\n",
       "        text-align: left;\n",
       "    }\n",
       "\n",
       "    .dataframe thead tr:last-of-type th {\n",
       "        text-align: right;\n",
       "    }\n",
       "</style>\n",
       "<table border=\"1\" class=\"dataframe\">\n",
       "  <thead>\n",
       "    <tr>\n",
       "      <th></th>\n",
       "      <th></th>\n",
       "      <th colspan=\"8\" halign=\"left\">user_ite</th>\n",
       "      <th colspan=\"8\" halign=\"left\">user_noite</th>\n",
       "    </tr>\n",
       "    <tr>\n",
       "      <th></th>\n",
       "      <th></th>\n",
       "      <th>count</th>\n",
       "      <th>mean</th>\n",
       "      <th>std</th>\n",
       "      <th>min</th>\n",
       "      <th>25%</th>\n",
       "      <th>50%</th>\n",
       "      <th>75%</th>\n",
       "      <th>max</th>\n",
       "      <th>count</th>\n",
       "      <th>mean</th>\n",
       "      <th>std</th>\n",
       "      <th>min</th>\n",
       "      <th>25%</th>\n",
       "      <th>50%</th>\n",
       "      <th>75%</th>\n",
       "      <th>max</th>\n",
       "    </tr>\n",
       "    <tr>\n",
       "      <th>status_ite</th>\n",
       "      <th>status_noite</th>\n",
       "      <th></th>\n",
       "      <th></th>\n",
       "      <th></th>\n",
       "      <th></th>\n",
       "      <th></th>\n",
       "      <th></th>\n",
       "      <th></th>\n",
       "      <th></th>\n",
       "      <th></th>\n",
       "      <th></th>\n",
       "      <th></th>\n",
       "      <th></th>\n",
       "      <th></th>\n",
       "      <th></th>\n",
       "      <th></th>\n",
       "      <th></th>\n",
       "    </tr>\n",
       "  </thead>\n",
       "  <tbody>\n",
       "    <tr>\n",
       "      <td rowspan=\"2\" valign=\"top\">sat</td>\n",
       "      <td>sat</td>\n",
       "      <td>22.0</td>\n",
       "      <td>30.687727</td>\n",
       "      <td>64.242872</td>\n",
       "      <td>0.00</td>\n",
       "      <td>2.0650</td>\n",
       "      <td>7.310</td>\n",
       "      <td>11.5675</td>\n",
       "      <td>263.64</td>\n",
       "      <td>22.0</td>\n",
       "      <td>191.683636</td>\n",
       "      <td>160.017191</td>\n",
       "      <td>0.00</td>\n",
       "      <td>69.530</td>\n",
       "      <td>155.295</td>\n",
       "      <td>328.9775</td>\n",
       "      <td>452.81</td>\n",
       "    </tr>\n",
       "    <tr>\n",
       "      <td>unknown</td>\n",
       "      <td>10.0</td>\n",
       "      <td>106.800000</td>\n",
       "      <td>267.878616</td>\n",
       "      <td>5.29</td>\n",
       "      <td>13.0775</td>\n",
       "      <td>18.945</td>\n",
       "      <td>38.6475</td>\n",
       "      <td>868.02</td>\n",
       "      <td>10.0</td>\n",
       "      <td>906.414000</td>\n",
       "      <td>14.541365</td>\n",
       "      <td>883.60</td>\n",
       "      <td>898.125</td>\n",
       "      <td>910.380</td>\n",
       "      <td>916.8350</td>\n",
       "      <td>923.36</td>\n",
       "    </tr>\n",
       "    <tr>\n",
       "      <td rowspan=\"2\" valign=\"top\">unknown</td>\n",
       "      <td>unknown</td>\n",
       "      <td>37.0</td>\n",
       "      <td>270.196486</td>\n",
       "      <td>420.814882</td>\n",
       "      <td>0.00</td>\n",
       "      <td>0.0800</td>\n",
       "      <td>0.280</td>\n",
       "      <td>891.1800</td>\n",
       "      <td>924.63</td>\n",
       "      <td>37.0</td>\n",
       "      <td>262.295946</td>\n",
       "      <td>408.804530</td>\n",
       "      <td>0.00</td>\n",
       "      <td>0.050</td>\n",
       "      <td>0.200</td>\n",
       "      <td>872.6300</td>\n",
       "      <td>905.09</td>\n",
       "    </tr>\n",
       "    <tr>\n",
       "      <td>unsat</td>\n",
       "      <td>1.0</td>\n",
       "      <td>851.890000</td>\n",
       "      <td>NaN</td>\n",
       "      <td>851.89</td>\n",
       "      <td>851.8900</td>\n",
       "      <td>851.890</td>\n",
       "      <td>851.8900</td>\n",
       "      <td>851.89</td>\n",
       "      <td>1.0</td>\n",
       "      <td>444.290000</td>\n",
       "      <td>NaN</td>\n",
       "      <td>444.29</td>\n",
       "      <td>444.290</td>\n",
       "      <td>444.290</td>\n",
       "      <td>444.2900</td>\n",
       "      <td>444.29</td>\n",
       "    </tr>\n",
       "    <tr>\n",
       "      <td rowspan=\"2\" valign=\"top\">unsat</td>\n",
       "      <td>unknown</td>\n",
       "      <td>8.0</td>\n",
       "      <td>103.743750</td>\n",
       "      <td>183.423608</td>\n",
       "      <td>0.28</td>\n",
       "      <td>6.2900</td>\n",
       "      <td>43.740</td>\n",
       "      <td>88.4325</td>\n",
       "      <td>545.90</td>\n",
       "      <td>8.0</td>\n",
       "      <td>907.570000</td>\n",
       "      <td>18.964581</td>\n",
       "      <td>876.36</td>\n",
       "      <td>897.015</td>\n",
       "      <td>918.500</td>\n",
       "      <td>920.4075</td>\n",
       "      <td>922.61</td>\n",
       "    </tr>\n",
       "    <tr>\n",
       "      <td>unsat</td>\n",
       "      <td>21.0</td>\n",
       "      <td>29.462857</td>\n",
       "      <td>53.236301</td>\n",
       "      <td>0.00</td>\n",
       "      <td>0.1600</td>\n",
       "      <td>10.090</td>\n",
       "      <td>12.7900</td>\n",
       "      <td>184.65</td>\n",
       "      <td>21.0</td>\n",
       "      <td>162.930476</td>\n",
       "      <td>265.626517</td>\n",
       "      <td>0.00</td>\n",
       "      <td>0.180</td>\n",
       "      <td>22.000</td>\n",
       "      <td>283.0700</td>\n",
       "      <td>883.14</td>\n",
       "    </tr>\n",
       "  </tbody>\n",
       "</table>\n",
       "</div>"
      ],
      "text/plain": [
       "                        user_ite                                            \\\n",
       "                           count        mean         std     min       25%   \n",
       "status_ite status_noite                                                      \n",
       "sat        sat              22.0   30.687727   64.242872    0.00    2.0650   \n",
       "           unknown          10.0  106.800000  267.878616    5.29   13.0775   \n",
       "unknown    unknown          37.0  270.196486  420.814882    0.00    0.0800   \n",
       "           unsat             1.0  851.890000         NaN  851.89  851.8900   \n",
       "unsat      unknown           8.0  103.743750  183.423608    0.28    6.2900   \n",
       "           unsat            21.0   29.462857   53.236301    0.00    0.1600   \n",
       "\n",
       "                                                   user_noite              \\\n",
       "                             50%       75%     max      count        mean   \n",
       "status_ite status_noite                                                     \n",
       "sat        sat             7.310   11.5675  263.64       22.0  191.683636   \n",
       "           unknown        18.945   38.6475  868.02       10.0  906.414000   \n",
       "unknown    unknown         0.280  891.1800  924.63       37.0  262.295946   \n",
       "           unsat         851.890  851.8900  851.89        1.0  444.290000   \n",
       "unsat      unknown        43.740   88.4325  545.90        8.0  907.570000   \n",
       "           unsat          10.090   12.7900  184.65       21.0  162.930476   \n",
       "\n",
       "                                                                         \\\n",
       "                                std     min      25%      50%       75%   \n",
       "status_ite status_noite                                                   \n",
       "sat        sat           160.017191    0.00   69.530  155.295  328.9775   \n",
       "           unknown        14.541365  883.60  898.125  910.380  916.8350   \n",
       "unknown    unknown       408.804530    0.00    0.050    0.200  872.6300   \n",
       "           unsat                NaN  444.29  444.290  444.290  444.2900   \n",
       "unsat      unknown        18.964581  876.36  897.015  918.500  920.4075   \n",
       "           unsat         265.626517    0.00    0.180   22.000  283.0700   \n",
       "\n",
       "                                 \n",
       "                            max  \n",
       "status_ite status_noite          \n",
       "sat        sat           452.81  \n",
       "           unknown       923.36  \n",
       "unknown    unknown       905.09  \n",
       "           unsat         444.29  \n",
       "unsat      unknown       922.61  \n",
       "           unsat         883.14  "
      ]
     },
     "execution_count": 34,
     "metadata": {},
     "output_type": "execute_result"
    }
   ],
   "source": [
    "# summary of the plot. Useful to validate what is visible from the picture\n",
    "phi.groupby(['status_ite', 'status_noite'])[['user_ite', 'user_noite']].describe()"
   ]
  },
  {
   "cell_type": "code",
   "execution_count": 35,
   "metadata": {},
   "outputs": [],
   "source": [
    "# seaborn provides useful fancy plots\n",
    "import seaborn as sns\n",
    "sns.set(style='ticks', palette='Set2')"
   ]
  },
  {
   "cell_type": "code",
   "execution_count": 36,
   "metadata": {},
   "outputs": [
    {
     "data": {
      "text/plain": [
       "[<matplotlib.lines.Line2D at 0x108fecfd0>]"
      ]
     },
     "execution_count": 36,
     "metadata": {},
     "output_type": "execute_result"
    },
    {
     "data": {
      "image/png": "[encoded data removed]",
      "text/plain": [
       "<Figure size 720x720 with 1 Axes>"
      ]
     },
     "metadata": {},
     "output_type": "display_data"
    }
   ],
   "source": [
    "# use additional semantic features to separate sat/unsat instances\n",
    "# there is a bug in display of the legend that only shows shapes but not colors\n",
    "fig = plt.figure(figsize=(10,10))\n",
    "g = sns.scatterplot(x=\"user_ite\", y=\"user_noite\", hue=\"status_noite\", style='status_ite', data=phi);\n",
    "sns.despine()\n",
    "g.plot(x, x)\n"
   ]
  },
  {
   "cell_type": "code",
   "execution_count": 38,
   "metadata": {},
   "outputs": [
    {
     "data": {
      "application/vnd.plotly.v1+json": {
       "config": {
        "plotlyServerURL": "https://plot.ly"
       },
       "data": [
        {
         "hoverlabel": {
          "namelength": 0
         },
         "hovertemplate": "status_noite=sat<br>status_ite=sat<br>btor_time_ite=%{x}<br>btor_time_noite=%{y}",
         "legendgroup": "status_noite=sat, status_ite=sat",
         "marker": {
          "color": "#636efa",
          "symbol": "circle"
         },
         "mode": "markers",
         "name": "status_noite=sat, status_ite=sat",
         "showlegend": true,
         "type": "scatter",
         "x": [
          0,
          0.9,
          2,
          0.9,
          1.6,
          5.5,
          263.6,
          3.6,
          6.4,
          9.9,
          7.7,
          7,
          10.2,
          5.6,
          51.1,
          9.5,
          0,
          0,
          33.9,
          167.3,
          8.4,
          55.3
         ],
         "xaxis": "x",
         "y": [
          0,
          1,
          112.1,
          4.6,
          152,
          108.3,
          429.5,
          406.8,
          253.6,
          382,
          151.8,
          270.4,
          58.6,
          223,
          421.4,
          343.1,
          0,
          0,
          100.3,
          196.8,
          450.2,
          81.7
         ],
         "yaxis": "y"
        },
        {
         "hoverlabel": {
          "namelength": 0
         },
         "hovertemplate": "status_noite=unknown<br>status_ite=sat<br>btor_time_ite=%{x}<br>btor_time_noite=%{y}",
         "legendgroup": "status_noite=unknown, status_ite=sat",
         "marker": {
          "color": "#EF553B",
          "symbol": "circle"
         },
         "mode": "markers",
         "name": "status_noite=unknown, status_ite=sat",
         "showlegend": true,
         "type": "scatter",
         "x": [
          4.8,
          11.7,
          6.3,
          17.4,
          50.8,
          12,
          17.5,
          26.3,
          37,
          886.9
         ],
         "xaxis": "x",
         "y": [
          924.5,
          924.1,
          919.7,
          915.6,
          918.5,
          890.4,
          900.4,
          905.3,
          897.3,
          878.8
         ],
         "yaxis": "y"
        },
        {
         "hoverlabel": {
          "namelength": 0
         },
         "hovertemplate": "status_noite=unknown<br>status_ite=unknown<br>btor_time_ite=%{x}<br>btor_time_noite=%{y}",
         "legendgroup": "status_noite=unknown, status_ite=unknown",
         "marker": {
          "color": "#EF553B",
          "symbol": "diamond"
         },
         "mode": "markers",
         "name": "status_noite=unknown, status_ite=unknown",
         "showlegend": true,
         "type": "scatter",
         "x": [
          900,
          900,
          900,
          900,
          900,
          900,
          900,
          900,
          900,
          900,
          900,
          900,
          900,
          900,
          900,
          877.7,
          900,
          900,
          900,
          921.4,
          900,
          900,
          900,
          900,
          900,
          900,
          866.4,
          913.3,
          920,
          912.2,
          898.5,
          896,
          900,
          900,
          124.1,
          139,
          917.4
         ],
         "xaxis": "x",
         "y": [
          900,
          900,
          900,
          900,
          900,
          900,
          900,
          900,
          900,
          900,
          900,
          900,
          900,
          900,
          900,
          841.1,
          900,
          900,
          900,
          912.6,
          900,
          900,
          900,
          900,
          900,
          900,
          679.2,
          198.5,
          913.5,
          904.6,
          915.8,
          887.5,
          900,
          900,
          236.6,
          909.3,
          898.9
         ],
         "yaxis": "y"
        },
        {
         "hoverlabel": {
          "namelength": 0
         },
         "hovertemplate": "status_noite=unknown<br>status_ite=unsat<br>btor_time_ite=%{x}<br>btor_time_noite=%{y}",
         "legendgroup": "status_noite=unknown, status_ite=unsat",
         "marker": {
          "color": "#EF553B",
          "symbol": "square"
         },
         "mode": "markers",
         "name": "status_noite=unknown, status_ite=unsat",
         "showlegend": true,
         "type": "scatter",
         "x": [
          1.7,
          900,
          7.4,
          87.2,
          80.2,
          9.6,
          68.9,
          470.1
         ],
         "xaxis": "x",
         "y": [
          926.7,
          920.8,
          892.3,
          914.7,
          622.6,
          908.1,
          880.3,
          854.3
         ],
         "yaxis": "y"
        },
        {
         "hoverlabel": {
          "namelength": 0
         },
         "hovertemplate": "status_noite=unsat<br>status_ite=unknown<br>btor_time_ite=%{x}<br>btor_time_noite=%{y}",
         "legendgroup": "status_noite=unsat, status_ite=unknown",
         "marker": {
          "color": "#00cc96",
          "symbol": "diamond"
         },
         "mode": "markers",
         "name": "status_noite=unsat, status_ite=unknown",
         "showlegend": true,
         "type": "scatter",
         "x": [
          784.3
         ],
         "xaxis": "x",
         "y": [
          451.3
         ],
         "yaxis": "y"
        },
        {
         "hoverlabel": {
          "namelength": 0
         },
         "hovertemplate": "status_noite=unsat<br>status_ite=unsat<br>btor_time_ite=%{x}<br>btor_time_noite=%{y}",
         "legendgroup": "status_noite=unsat, status_ite=unsat",
         "marker": {
          "color": "#00cc96",
          "symbol": "square"
         },
         "mode": "markers",
         "name": "status_noite=unsat, status_ite=unsat",
         "showlegend": true,
         "type": "scatter",
         "x": [
          900,
          900,
          900,
          900,
          900,
          7.8,
          3.8,
          7.9,
          9.2,
          10.7,
          0.7,
          9,
          900,
          160.8,
          185.5,
          9.4,
          15.8,
          7.6,
          77.4,
          900,
          71.5
         ],
         "xaxis": "x",
         "y": [
          900,
          900,
          900,
          900,
          900,
          45.3,
          34.8,
          752.6,
          28.2,
          305.4,
          1,
          12.9,
          900,
          254.8,
          876.8,
          17.2,
          451.4,
          8.4,
          413.3,
          900,
          80.3
         ],
         "yaxis": "y"
        }
       ],
       "layout": {
        "height": 600,
        "legend": {
         "tracegroupgap": 0
        },
        "margin": {
         "t": 60
        },
        "template": {
         "data": {
          "bar": [
           {
            "error_x": {
             "color": "#2a3f5f"
            },
            "error_y": {
             "color": "#2a3f5f"
            },
            "marker": {
             "line": {
              "color": "#E5ECF6",
              "width": 0.5
             }
            },
            "type": "bar"
           }
          ],
          "barpolar": [
           {
            "marker": {
             "line": {
              "color": "#E5ECF6",
              "width": 0.5
             }
            },
            "type": "barpolar"
           }
          ],
          "carpet": [
           {
            "aaxis": {
             "endlinecolor": "#2a3f5f",
             "gridcolor": "white",
             "linecolor": "white",
             "minorgridcolor": "white",
             "startlinecolor": "#2a3f5f"
            },
            "baxis": {
             "endlinecolor": "#2a3f5f",
             "gridcolor": "white",
             "linecolor": "white",
             "minorgridcolor": "white",
             "startlinecolor": "#2a3f5f"
            },
            "type": "carpet"
           }
          ],
          "choropleth": [
           {
            "colorbar": {
             "outlinewidth": 0,
             "ticks": ""
            },
            "type": "choropleth"
           }
          ],
          "contour": [
           {
            "colorbar": {
             "outlinewidth": 0,
             "ticks": ""
            },
            "colorscale": [
             [
              0,
              "#0d0887"
             ],
             [
              0.1111111111111111,
              "#46039f"
             ],
             [
              0.2222222222222222,
              "#7201a8"
             ],
             [
              0.3333333333333333,
              "#9c179e"
             ],
             [
              0.4444444444444444,
              "#bd3786"
             ],
             [
              0.5555555555555556,
              "#d8576b"
             ],
             [
              0.6666666666666666,
              "#ed7953"
             ],
             [
              0.7777777777777778,
              "#fb9f3a"
             ],
             [
              0.8888888888888888,
              "#fdca26"
             ],
             [
              1,
              "#f0f921"
             ]
            ],
            "type": "contour"
           }
          ],
          "contourcarpet": [
           {
            "colorbar": {
             "outlinewidth": 0,
             "ticks": ""
            },
            "type": "contourcarpet"
           }
          ],
          "heatmap": [
           {
            "colorbar": {
             "outlinewidth": 0,
             "ticks": ""
            },
            "colorscale": [
             [
              0,
              "#0d0887"
             ],
             [
              0.1111111111111111,
              "#46039f"
             ],
             [
              0.2222222222222222,
              "#7201a8"
             ],
             [
              0.3333333333333333,
              "#9c179e"
             ],
             [
              0.4444444444444444,
              "#bd3786"
             ],
             [
              0.5555555555555556,
              "#d8576b"
             ],
             [
              0.6666666666666666,
              "#ed7953"
             ],
             [
              0.7777777777777778,
              "#fb9f3a"
             ],
             [
              0.8888888888888888,
              "#fdca26"
             ],
             [
              1,
              "#f0f921"
             ]
            ],
            "type": "heatmap"
           }
          ],
          "heatmapgl": [
           {
            "colorbar": {
             "outlinewidth": 0,
             "ticks": ""
            },
            "colorscale": [
             [
              0,
              "#0d0887"
             ],
             [
              0.1111111111111111,
              "#46039f"
             ],
             [
              0.2222222222222222,
              "#7201a8"
             ],
             [
              0.3333333333333333,
              "#9c179e"
             ],
             [
              0.4444444444444444,
              "#bd3786"
             ],
             [
              0.5555555555555556,
              "#d8576b"
             ],
             [
              0.6666666666666666,
              "#ed7953"
             ],
             [
              0.7777777777777778,
              "#fb9f3a"
             ],
             [
              0.8888888888888888,
              "#fdca26"
             ],
             [
              1,
              "#f0f921"
             ]
            ],
            "type": "heatmapgl"
           }
          ],
          "histogram": [
           {
            "marker": {
             "colorbar": {
              "outlinewidth": 0,
              "ticks": ""
             }
            },
            "type": "histogram"
           }
          ],
          "histogram2d": [
           {
            "colorbar": {
             "outlinewidth": 0,
             "ticks": ""
            },
            "colorscale": [
             [
              0,
              "#0d0887"
             ],
             [
              0.1111111111111111,
              "#46039f"
             ],
             [
              0.2222222222222222,
              "#7201a8"
             ],
             [
              0.3333333333333333,
              "#9c179e"
             ],
             [
              0.4444444444444444,
              "#bd3786"
             ],
             [
              0.5555555555555556,
              "#d8576b"
             ],
             [
              0.6666666666666666,
              "#ed7953"
             ],
             [
              0.7777777777777778,
              "#fb9f3a"
             ],
             [
              0.8888888888888888,
              "#fdca26"
             ],
             [
              1,
              "#f0f921"
             ]
            ],
            "type": "histogram2d"
           }
          ],
          "histogram2dcontour": [
           {
            "colorbar": {
             "outlinewidth": 0,
             "ticks": ""
            },
            "colorscale": [
             [
              0,
              "#0d0887"
             ],
             [
              0.1111111111111111,
              "#46039f"
             ],
             [
              0.2222222222222222,
              "#7201a8"
             ],
             [
              0.3333333333333333,
              "#9c179e"
             ],
             [
              0.4444444444444444,
              "#bd3786"
             ],
             [
              0.5555555555555556,
              "#d8576b"
             ],
             [
              0.6666666666666666,
              "#ed7953"
             ],
             [
              0.7777777777777778,
              "#fb9f3a"
             ],
             [
              0.8888888888888888,
              "#fdca26"
             ],
             [
              1,
              "#f0f921"
             ]
            ],
            "type": "histogram2dcontour"
           }
          ],
          "mesh3d": [
           {
            "colorbar": {
             "outlinewidth": 0,
             "ticks": ""
            },
            "type": "mesh3d"
           }
          ],
          "parcoords": [
           {
            "line": {
             "colorbar": {
              "outlinewidth": 0,
              "ticks": ""
             }
            },
            "type": "parcoords"
           }
          ],
          "scatter": [
           {
            "marker": {
             "colorbar": {
              "outlinewidth": 0,
              "ticks": ""
             }
            },
            "type": "scatter"
           }
          ],
          "scatter3d": [
           {
            "line": {
             "colorbar": {
              "outlinewidth": 0,
              "ticks": ""
             }
            },
            "marker": {
             "colorbar": {
              "outlinewidth": 0,
              "ticks": ""
             }
            },
            "type": "scatter3d"
           }
          ],
          "scattercarpet": [
           {
            "marker": {
             "colorbar": {
              "outlinewidth": 0,
              "ticks": ""
             }
            },
            "type": "scattercarpet"
           }
          ],
          "scattergeo": [
           {
            "marker": {
             "colorbar": {
              "outlinewidth": 0,
              "ticks": ""
             }
            },
            "type": "scattergeo"
           }
          ],
          "scattergl": [
           {
            "marker": {
             "colorbar": {
              "outlinewidth": 0,
              "ticks": ""
             }
            },
            "type": "scattergl"
           }
          ],
          "scattermapbox": [
           {
            "marker": {
             "colorbar": {
              "outlinewidth": 0,
              "ticks": ""
             }
            },
            "type": "scattermapbox"
           }
          ],
          "scatterpolar": [
           {
            "marker": {
             "colorbar": {
              "outlinewidth": 0,
              "ticks": ""
             }
            },
            "type": "scatterpolar"
           }
          ],
          "scatterpolargl": [
           {
            "marker": {
             "colorbar": {
              "outlinewidth": 0,
              "ticks": ""
             }
            },
            "type": "scatterpolargl"
           }
          ],
          "scatterternary": [
           {
            "marker": {
             "colorbar": {
              "outlinewidth": 0,
              "ticks": ""
             }
            },
            "type": "scatterternary"
           }
          ],
          "surface": [
           {
            "colorbar": {
             "outlinewidth": 0,
             "ticks": ""
            },
            "colorscale": [
             [
              0,
              "#0d0887"
             ],
             [
              0.1111111111111111,
              "#46039f"
             ],
             [
              0.2222222222222222,
              "#7201a8"
             ],
             [
              0.3333333333333333,
              "#9c179e"
             ],
             [
              0.4444444444444444,
              "#bd3786"
             ],
             [
              0.5555555555555556,
              "#d8576b"
             ],
             [
              0.6666666666666666,
              "#ed7953"
             ],
             [
              0.7777777777777778,
              "#fb9f3a"
             ],
             [
              0.8888888888888888,
              "#fdca26"
             ],
             [
              1,
              "#f0f921"
             ]
            ],
            "type": "surface"
           }
          ],
          "table": [
           {
            "cells": {
             "fill": {
              "color": "#EBF0F8"
             },
             "line": {
              "color": "white"
             }
            },
            "header": {
             "fill": {
              "color": "#C8D4E3"
             },
             "line": {
              "color": "white"
             }
            },
            "type": "table"
           }
          ]
         },
         "layout": {
          "annotationdefaults": {
           "arrowcolor": "#2a3f5f",
           "arrowhead": 0,
           "arrowwidth": 1
          },
          "colorscale": {
           "diverging": [
            [
             0,
             "#8e0152"
            ],
            [
             0.1,
             "#c51b7d"
            ],
            [
             0.2,
             "#de77ae"
            ],
            [
             0.3,
             "#f1b6da"
            ],
            [
             0.4,
             "#fde0ef"
            ],
            [
             0.5,
             "#f7f7f7"
            ],
            [
             0.6,
             "#e6f5d0"
            ],
            [
             0.7,
             "#b8e186"
            ],
            [
             0.8,
             "#7fbc41"
            ],
            [
             0.9,
             "#4d9221"
            ],
            [
             1,
             "#276419"
            ]
           ],
           "sequential": [
            [
             0,
             "#0d0887"
            ],
            [
             0.1111111111111111,
             "#46039f"
            ],
            [
             0.2222222222222222,
             "#7201a8"
            ],
            [
             0.3333333333333333,
             "#9c179e"
            ],
            [
             0.4444444444444444,
             "#bd3786"
            ],
            [
             0.5555555555555556,
             "#d8576b"
            ],
            [
             0.6666666666666666,
             "#ed7953"
            ],
            [
             0.7777777777777778,
             "#fb9f3a"
            ],
            [
             0.8888888888888888,
             "#fdca26"
            ],
            [
             1,
             "#f0f921"
            ]
           ],
           "sequentialminus": [
            [
             0,
             "#0d0887"
            ],
            [
             0.1111111111111111,
             "#46039f"
            ],
            [
             0.2222222222222222,
             "#7201a8"
            ],
            [
             0.3333333333333333,
             "#9c179e"
            ],
            [
             0.4444444444444444,
             "#bd3786"
            ],
            [
             0.5555555555555556,
             "#d8576b"
            ],
            [
             0.6666666666666666,
             "#ed7953"
            ],
            [
             0.7777777777777778,
             "#fb9f3a"
            ],
            [
             0.8888888888888888,
             "#fdca26"
            ],
            [
             1,
             "#f0f921"
            ]
           ]
          },
          "colorway": [
           "#636efa",
           "#EF553B",
           "#00cc96",
           "#ab63fa",
           "#FFA15A",
           "#19d3f3",
           "#FF6692",
           "#B6E880",
           "#FF97FF",
           "#FECB52"
          ],
          "font": {
           "color": "#2a3f5f"
          },
          "geo": {
           "bgcolor": "white",
           "lakecolor": "white",
           "landcolor": "#E5ECF6",
           "showlakes": true,
           "showland": true,
           "subunitcolor": "white"
          },
          "hoverlabel": {
           "align": "left"
          },
          "hovermode": "closest",
          "mapbox": {
           "style": "light"
          },
          "paper_bgcolor": "white",
          "plot_bgcolor": "#E5ECF6",
          "polar": {
           "angularaxis": {
            "gridcolor": "white",
            "linecolor": "white",
            "ticks": ""
           },
           "bgcolor": "#E5ECF6",
           "radialaxis": {
            "gridcolor": "white",
            "linecolor": "white",
            "ticks": ""
           }
          },
          "scene": {
           "xaxis": {
            "backgroundcolor": "#E5ECF6",
            "gridcolor": "white",
            "gridwidth": 2,
            "linecolor": "white",
            "showbackground": true,
            "ticks": "",
            "zerolinecolor": "white"
           },
           "yaxis": {
            "backgroundcolor": "#E5ECF6",
            "gridcolor": "white",
            "gridwidth": 2,
            "linecolor": "white",
            "showbackground": true,
            "ticks": "",
            "zerolinecolor": "white"
           },
           "zaxis": {
            "backgroundcolor": "#E5ECF6",
            "gridcolor": "white",
            "gridwidth": 2,
            "linecolor": "white",
            "showbackground": true,
            "ticks": "",
            "zerolinecolor": "white"
           }
          },
          "shapedefaults": {
           "line": {
            "color": "#2a3f5f"
           }
          },
          "ternary": {
           "aaxis": {
            "gridcolor": "white",
            "linecolor": "white",
            "ticks": ""
           },
           "baxis": {
            "gridcolor": "white",
            "linecolor": "white",
            "ticks": ""
           },
           "bgcolor": "#E5ECF6",
           "caxis": {
            "gridcolor": "white",
            "linecolor": "white",
            "ticks": ""
           }
          },
          "title": {
           "x": 0.05
          },
          "xaxis": {
           "automargin": true,
           "gridcolor": "white",
           "linecolor": "white",
           "ticks": "",
           "zerolinecolor": "white",
           "zerolinewidth": 2
          },
          "yaxis": {
           "automargin": true,
           "gridcolor": "white",
           "linecolor": "white",
           "ticks": "",
           "zerolinecolor": "white",
           "zerolinewidth": 2
          }
         }
        },
        "xaxis": {
         "anchor": "y",
         "domain": [
          0,
          0.98
         ],
         "title": {
          "text": "btor_time_ite"
         }
        },
        "yaxis": {
         "anchor": "x",
         "domain": [
          0,
          1
         ],
         "title": {
          "text": "btor_time_noite"
         }
        }
       }
      },
      "text/html": [
       "<div>\n",
       "        \n",
       "        \n",
       "            <div id=\"0c026b3d-dc5d-4501-86bd-b12dd7acd143\" class=\"plotly-graph-div\" style=\"height:600px; width:100%;\"></div>\n",
       "            <script type=\"text/javascript\">\n",
       "                require([\"plotly\"], function(Plotly) {\n",
       "                    window.PLOTLYENV=window.PLOTLYENV || {};\n",
       "                    \n",
       "                if (document.getElementById(\"0c026b3d-dc5d-4501-86bd-b12dd7acd143\")) {\n",
       "                    Plotly.newPlot(\n",
       "                        '0c026b3d-dc5d-4501-86bd-b12dd7acd143',\n",
       "                        [{\"hoverlabel\": {\"namelength\": 0}, \"hovertemplate\": \"status_noite=sat<br>status_ite=sat<br>btor_time_ite=%{x}<br>btor_time_noite=%{y}\", \"legendgroup\": \"status_noite=sat, status_ite=sat\", \"marker\": {\"color\": \"#636efa\", \"symbol\": \"circle\"}, \"mode\": \"markers\", \"name\": \"status_noite=sat, status_ite=sat\", \"showlegend\": true, \"type\": \"scatter\", \"x\": [0.0, 0.9, 2.0, 0.9, 1.6, 5.5, 263.6, 3.6, 6.4, 9.9, 7.7, 7.0, 10.2, 5.6, 51.1, 9.5, 0.0, 0.0, 33.9, 167.3, 8.4, 55.3], \"xaxis\": \"x\", \"y\": [0.0, 1.0, 112.1, 4.6, 152.0, 108.3, 429.5, 406.8, 253.6, 382.0, 151.8, 270.4, 58.6, 223.0, 421.4, 343.1, 0.0, 0.0, 100.3, 196.8, 450.2, 81.7], \"yaxis\": \"y\"}, {\"hoverlabel\": {\"namelength\": 0}, \"hovertemplate\": \"status_noite=unknown<br>status_ite=sat<br>btor_time_ite=%{x}<br>btor_time_noite=%{y}\", \"legendgroup\": \"status_noite=unknown, status_ite=sat\", \"marker\": {\"color\": \"#EF553B\", \"symbol\": \"circle\"}, \"mode\": \"markers\", \"name\": \"status_noite=unknown, status_ite=sat\", \"showlegend\": true, \"type\": \"scatter\", \"x\": [4.8, 11.7, 6.3, 17.4, 50.8, 12.0, 17.5, 26.3, 37.0, 886.9], \"xaxis\": \"x\", \"y\": [924.5, 924.1, 919.7, 915.6, 918.5, 890.4, 900.4, 905.3, 897.3, 878.8], \"yaxis\": \"y\"}, {\"hoverlabel\": {\"namelength\": 0}, \"hovertemplate\": \"status_noite=unknown<br>status_ite=unknown<br>btor_time_ite=%{x}<br>btor_time_noite=%{y}\", \"legendgroup\": \"status_noite=unknown, status_ite=unknown\", \"marker\": {\"color\": \"#EF553B\", \"symbol\": \"diamond\"}, \"mode\": \"markers\", \"name\": \"status_noite=unknown, status_ite=unknown\", \"showlegend\": true, \"type\": \"scatter\", \"x\": [900.0, 900.0, 900.0, 900.0, 900.0, 900.0, 900.0, 900.0, 900.0, 900.0, 900.0, 900.0, 900.0, 900.0, 900.0, 877.7, 900.0, 900.0, 900.0, 921.4, 900.0, 900.0, 900.0, 900.0, 900.0, 900.0, 866.4, 913.3, 920.0, 912.2, 898.5, 896.0, 900.0, 900.0, 124.1, 139.0, 917.4], \"xaxis\": \"x\", \"y\": [900.0, 900.0, 900.0, 900.0, 900.0, 900.0, 900.0, 900.0, 900.0, 900.0, 900.0, 900.0, 900.0, 900.0, 900.0, 841.1, 900.0, 900.0, 900.0, 912.6, 900.0, 900.0, 900.0, 900.0, 900.0, 900.0, 679.2, 198.5, 913.5, 904.6, 915.8, 887.5, 900.0, 900.0, 236.6, 909.3, 898.9], \"yaxis\": \"y\"}, {\"hoverlabel\": {\"namelength\": 0}, \"hovertemplate\": \"status_noite=unknown<br>status_ite=unsat<br>btor_time_ite=%{x}<br>btor_time_noite=%{y}\", \"legendgroup\": \"status_noite=unknown, status_ite=unsat\", \"marker\": {\"color\": \"#EF553B\", \"symbol\": \"square\"}, \"mode\": \"markers\", \"name\": \"status_noite=unknown, status_ite=unsat\", \"showlegend\": true, \"type\": \"scatter\", \"x\": [1.7, 900.0, 7.4, 87.2, 80.2, 9.6, 68.9, 470.1], \"xaxis\": \"x\", \"y\": [926.7, 920.8, 892.3, 914.7, 622.6, 908.1, 880.3, 854.3], \"yaxis\": \"y\"}, {\"hoverlabel\": {\"namelength\": 0}, \"hovertemplate\": \"status_noite=unsat<br>status_ite=unknown<br>btor_time_ite=%{x}<br>btor_time_noite=%{y}\", \"legendgroup\": \"status_noite=unsat, status_ite=unknown\", \"marker\": {\"color\": \"#00cc96\", \"symbol\": \"diamond\"}, \"mode\": \"markers\", \"name\": \"status_noite=unsat, status_ite=unknown\", \"showlegend\": true, \"type\": \"scatter\", \"x\": [784.3], \"xaxis\": \"x\", \"y\": [451.3], \"yaxis\": \"y\"}, {\"hoverlabel\": {\"namelength\": 0}, \"hovertemplate\": \"status_noite=unsat<br>status_ite=unsat<br>btor_time_ite=%{x}<br>btor_time_noite=%{y}\", \"legendgroup\": \"status_noite=unsat, status_ite=unsat\", \"marker\": {\"color\": \"#00cc96\", \"symbol\": \"square\"}, \"mode\": \"markers\", \"name\": \"status_noite=unsat, status_ite=unsat\", \"showlegend\": true, \"type\": \"scatter\", \"x\": [900.0, 900.0, 900.0, 900.0, 900.0, 7.8, 3.8, 7.9, 9.2, 10.7, 0.7, 9.0, 900.0, 160.8, 185.5, 9.4, 15.8, 7.6, 77.4, 900.0, 71.5], \"xaxis\": \"x\", \"y\": [900.0, 900.0, 900.0, 900.0, 900.0, 45.3, 34.8, 752.6, 28.2, 305.4, 1.0, 12.9, 900.0, 254.8, 876.8, 17.2, 451.4, 8.4, 413.3, 900.0, 80.3], \"yaxis\": \"y\"}],\n",
       "                        {\"height\": 600, \"legend\": {\"tracegroupgap\": 0}, \"margin\": {\"t\": 60}, \"template\": {\"data\": {\"bar\": [{\"error_x\": {\"color\": \"#2a3f5f\"}, \"error_y\": {\"color\": \"#2a3f5f\"}, \"marker\": {\"line\": {\"color\": \"#E5ECF6\", \"width\": 0.5}}, \"type\": \"bar\"}], \"barpolar\": [{\"marker\": {\"line\": {\"color\": \"#E5ECF6\", \"width\": 0.5}}, \"type\": \"barpolar\"}], \"carpet\": [{\"aaxis\": {\"endlinecolor\": \"#2a3f5f\", \"gridcolor\": \"white\", \"linecolor\": \"white\", \"minorgridcolor\": \"white\", \"startlinecolor\": \"#2a3f5f\"}, \"baxis\": {\"endlinecolor\": \"#2a3f5f\", \"gridcolor\": \"white\", \"linecolor\": \"white\", \"minorgridcolor\": \"white\", \"startlinecolor\": \"#2a3f5f\"}, \"type\": \"carpet\"}], \"choropleth\": [{\"colorbar\": {\"outlinewidth\": 0, \"ticks\": \"\"}, \"type\": \"choropleth\"}], \"contour\": [{\"colorbar\": {\"outlinewidth\": 0, \"ticks\": \"\"}, \"colorscale\": [[0.0, \"#0d0887\"], [0.1111111111111111, \"#46039f\"], [0.2222222222222222, \"#7201a8\"], [0.3333333333333333, \"#9c179e\"], [0.4444444444444444, \"#bd3786\"], [0.5555555555555556, \"#d8576b\"], [0.6666666666666666, \"#ed7953\"], [0.7777777777777778, \"#fb9f3a\"], [0.8888888888888888, \"#fdca26\"], [1.0, \"#f0f921\"]], \"type\": \"contour\"}], \"contourcarpet\": [{\"colorbar\": {\"outlinewidth\": 0, \"ticks\": \"\"}, \"type\": \"contourcarpet\"}], \"heatmap\": [{\"colorbar\": {\"outlinewidth\": 0, \"ticks\": \"\"}, \"colorscale\": [[0.0, \"#0d0887\"], [0.1111111111111111, \"#46039f\"], [0.2222222222222222, \"#7201a8\"], [0.3333333333333333, \"#9c179e\"], [0.4444444444444444, \"#bd3786\"], [0.5555555555555556, \"#d8576b\"], [0.6666666666666666, \"#ed7953\"], [0.7777777777777778, \"#fb9f3a\"], [0.8888888888888888, \"#fdca26\"], [1.0, \"#f0f921\"]], \"type\": \"heatmap\"}], \"heatmapgl\": [{\"colorbar\": {\"outlinewidth\": 0, \"ticks\": \"\"}, \"colorscale\": [[0.0, \"#0d0887\"], [0.1111111111111111, \"#46039f\"], [0.2222222222222222, \"#7201a8\"], [0.3333333333333333, \"#9c179e\"], [0.4444444444444444, \"#bd3786\"], [0.5555555555555556, \"#d8576b\"], [0.6666666666666666, \"#ed7953\"], [0.7777777777777778, \"#fb9f3a\"], [0.8888888888888888, \"#fdca26\"], [1.0, \"#f0f921\"]], \"type\": \"heatmapgl\"}], \"histogram\": [{\"marker\": {\"colorbar\": {\"outlinewidth\": 0, \"ticks\": \"\"}}, \"type\": \"histogram\"}], \"histogram2d\": [{\"colorbar\": {\"outlinewidth\": 0, \"ticks\": \"\"}, \"colorscale\": [[0.0, \"#0d0887\"], [0.1111111111111111, \"#46039f\"], [0.2222222222222222, \"#7201a8\"], [0.3333333333333333, \"#9c179e\"], [0.4444444444444444, \"#bd3786\"], [0.5555555555555556, \"#d8576b\"], [0.6666666666666666, \"#ed7953\"], [0.7777777777777778, \"#fb9f3a\"], [0.8888888888888888, \"#fdca26\"], [1.0, \"#f0f921\"]], \"type\": \"histogram2d\"}], \"histogram2dcontour\": [{\"colorbar\": {\"outlinewidth\": 0, \"ticks\": \"\"}, \"colorscale\": [[0.0, \"#0d0887\"], [0.1111111111111111, \"#46039f\"], [0.2222222222222222, \"#7201a8\"], [0.3333333333333333, \"#9c179e\"], [0.4444444444444444, \"#bd3786\"], [0.5555555555555556, \"#d8576b\"], [0.6666666666666666, \"#ed7953\"], [0.7777777777777778, \"#fb9f3a\"], [0.8888888888888888, \"#fdca26\"], [1.0, \"#f0f921\"]], \"type\": \"histogram2dcontour\"}], \"mesh3d\": [{\"colorbar\": {\"outlinewidth\": 0, \"ticks\": \"\"}, \"type\": \"mesh3d\"}], \"parcoords\": [{\"line\": {\"colorbar\": {\"outlinewidth\": 0, \"ticks\": \"\"}}, \"type\": \"parcoords\"}], \"scatter\": [{\"marker\": {\"colorbar\": {\"outlinewidth\": 0, \"ticks\": \"\"}}, \"type\": \"scatter\"}], \"scatter3d\": [{\"line\": {\"colorbar\": {\"outlinewidth\": 0, \"ticks\": \"\"}}, \"marker\": {\"colorbar\": {\"outlinewidth\": 0, \"ticks\": \"\"}}, \"type\": \"scatter3d\"}], \"scattercarpet\": [{\"marker\": {\"colorbar\": {\"outlinewidth\": 0, \"ticks\": \"\"}}, \"type\": \"scattercarpet\"}], \"scattergeo\": [{\"marker\": {\"colorbar\": {\"outlinewidth\": 0, \"ticks\": \"\"}}, \"type\": \"scattergeo\"}], \"scattergl\": [{\"marker\": {\"colorbar\": {\"outlinewidth\": 0, \"ticks\": \"\"}}, \"type\": \"scattergl\"}], \"scattermapbox\": [{\"marker\": {\"colorbar\": {\"outlinewidth\": 0, \"ticks\": \"\"}}, \"type\": \"scattermapbox\"}], \"scatterpolar\": [{\"marker\": {\"colorbar\": {\"outlinewidth\": 0, \"ticks\": \"\"}}, \"type\": \"scatterpolar\"}], \"scatterpolargl\": [{\"marker\": {\"colorbar\": {\"outlinewidth\": 0, \"ticks\": \"\"}}, \"type\": \"scatterpolargl\"}], \"scatterternary\": [{\"marker\": {\"colorbar\": {\"outlinewidth\": 0, \"ticks\": \"\"}}, \"type\": \"scatterternary\"}], \"surface\": [{\"colorbar\": {\"outlinewidth\": 0, \"ticks\": \"\"}, \"colorscale\": [[0.0, \"#0d0887\"], [0.1111111111111111, \"#46039f\"], [0.2222222222222222, \"#7201a8\"], [0.3333333333333333, \"#9c179e\"], [0.4444444444444444, \"#bd3786\"], [0.5555555555555556, \"#d8576b\"], [0.6666666666666666, \"#ed7953\"], [0.7777777777777778, \"#fb9f3a\"], [0.8888888888888888, \"#fdca26\"], [1.0, \"#f0f921\"]], \"type\": \"surface\"}], \"table\": [{\"cells\": {\"fill\": {\"color\": \"#EBF0F8\"}, \"line\": {\"color\": \"white\"}}, \"header\": {\"fill\": {\"color\": \"#C8D4E3\"}, \"line\": {\"color\": \"white\"}}, \"type\": \"table\"}]}, \"layout\": {\"annotationdefaults\": {\"arrowcolor\": \"#2a3f5f\", \"arrowhead\": 0, \"arrowwidth\": 1}, \"colorscale\": {\"diverging\": [[0, \"#8e0152\"], [0.1, \"#c51b7d\"], [0.2, \"#de77ae\"], [0.3, \"#f1b6da\"], [0.4, \"#fde0ef\"], [0.5, \"#f7f7f7\"], [0.6, \"#e6f5d0\"], [0.7, \"#b8e186\"], [0.8, \"#7fbc41\"], [0.9, \"#4d9221\"], [1, \"#276419\"]], \"sequential\": [[0.0, \"#0d0887\"], [0.1111111111111111, \"#46039f\"], [0.2222222222222222, \"#7201a8\"], [0.3333333333333333, \"#9c179e\"], [0.4444444444444444, \"#bd3786\"], [0.5555555555555556, \"#d8576b\"], [0.6666666666666666, \"#ed7953\"], [0.7777777777777778, \"#fb9f3a\"], [0.8888888888888888, \"#fdca26\"], [1.0, \"#f0f921\"]], \"sequentialminus\": [[0.0, \"#0d0887\"], [0.1111111111111111, \"#46039f\"], [0.2222222222222222, \"#7201a8\"], [0.3333333333333333, \"#9c179e\"], [0.4444444444444444, \"#bd3786\"], [0.5555555555555556, \"#d8576b\"], [0.6666666666666666, \"#ed7953\"], [0.7777777777777778, \"#fb9f3a\"], [0.8888888888888888, \"#fdca26\"], [1.0, \"#f0f921\"]]}, \"colorway\": [\"#636efa\", \"#EF553B\", \"#00cc96\", \"#ab63fa\", \"#FFA15A\", \"#19d3f3\", \"#FF6692\", \"#B6E880\", \"#FF97FF\", \"#FECB52\"], \"font\": {\"color\": \"#2a3f5f\"}, \"geo\": {\"bgcolor\": \"white\", \"lakecolor\": \"white\", \"landcolor\": \"#E5ECF6\", \"showlakes\": true, \"showland\": true, \"subunitcolor\": \"white\"}, \"hoverlabel\": {\"align\": \"left\"}, \"hovermode\": \"closest\", \"mapbox\": {\"style\": \"light\"}, \"paper_bgcolor\": \"white\", \"plot_bgcolor\": \"#E5ECF6\", \"polar\": {\"angularaxis\": {\"gridcolor\": \"white\", \"linecolor\": \"white\", \"ticks\": \"\"}, \"bgcolor\": \"#E5ECF6\", \"radialaxis\": {\"gridcolor\": \"white\", \"linecolor\": \"white\", \"ticks\": \"\"}}, \"scene\": {\"xaxis\": {\"backgroundcolor\": \"#E5ECF6\", \"gridcolor\": \"white\", \"gridwidth\": 2, \"linecolor\": \"white\", \"showbackground\": true, \"ticks\": \"\", \"zerolinecolor\": \"white\"}, \"yaxis\": {\"backgroundcolor\": \"#E5ECF6\", \"gridcolor\": \"white\", \"gridwidth\": 2, \"linecolor\": \"white\", \"showbackground\": true, \"ticks\": \"\", \"zerolinecolor\": \"white\"}, \"zaxis\": {\"backgroundcolor\": \"#E5ECF6\", \"gridcolor\": \"white\", \"gridwidth\": 2, \"linecolor\": \"white\", \"showbackground\": true, \"ticks\": \"\", \"zerolinecolor\": \"white\"}}, \"shapedefaults\": {\"line\": {\"color\": \"#2a3f5f\"}}, \"ternary\": {\"aaxis\": {\"gridcolor\": \"white\", \"linecolor\": \"white\", \"ticks\": \"\"}, \"baxis\": {\"gridcolor\": \"white\", \"linecolor\": \"white\", \"ticks\": \"\"}, \"bgcolor\": \"#E5ECF6\", \"caxis\": {\"gridcolor\": \"white\", \"linecolor\": \"white\", \"ticks\": \"\"}}, \"title\": {\"x\": 0.05}, \"xaxis\": {\"automargin\": true, \"gridcolor\": \"white\", \"linecolor\": \"white\", \"ticks\": \"\", \"zerolinecolor\": \"white\", \"zerolinewidth\": 2}, \"yaxis\": {\"automargin\": true, \"gridcolor\": \"white\", \"linecolor\": \"white\", \"ticks\": \"\", \"zerolinecolor\": \"white\", \"zerolinewidth\": 2}}}, \"xaxis\": {\"anchor\": \"y\", \"domain\": [0.0, 0.98], \"title\": {\"text\": \"btor_time_ite\"}}, \"yaxis\": {\"anchor\": \"x\", \"domain\": [0.0, 1.0], \"title\": {\"text\": \"btor_time_noite\"}}},\n",
       "                        {\"responsive\": true}\n",
       "                    ).then(function(){\n",
       "                            \n",
       "var gd = document.getElementById('0c026b3d-dc5d-4501-86bd-b12dd7acd143');\n",
       "var x = new MutationObserver(function (mutations, observer) {{\n",
       "        var display = window.getComputedStyle(gd).display;\n",
       "        if (!display || display === 'none') {{\n",
       "            console.log([gd, 'removed!']);\n",
       "            Plotly.purge(gd);\n",
       "            observer.disconnect();\n",
       "        }}\n",
       "}});\n",
       "\n",
       "// Listen for the removal of the full notebook cells\n",
       "var notebookContainer = gd.closest('#notebook-container');\n",
       "if (notebookContainer) {{\n",
       "    x.observe(notebookContainer, {childList: true});\n",
       "}}\n",
       "\n",
       "// Listen for the clearing of the current output cell\n",
       "var outputEl = gd.closest('.output');\n",
       "if (outputEl) {{\n",
       "    x.observe(outputEl, {childList: true});\n",
       "}}\n",
       "\n",
       "                        })\n",
       "                };\n",
       "                });\n",
       "            </script>\n",
       "        </div>"
      ]
     },
     "metadata": {},
     "output_type": "display_data"
    }
   ],
   "source": [
    "import plotly.express as px\n",
    "fig = px.scatter(phi, x=\"btor_time_ite\", y=\"btor_time_noite\", color=\"status_noite\", symbol=\"status_ite\")\n",
    "fig.show()"
   ]
  },
  {
   "cell_type": "code",
   "execution_count": 44,
   "metadata": {},
   "outputs": [
    {
     "data": {
      "text/html": [
       "<div>\n",
       "<style scoped>\n",
       "    .dataframe tbody tr th:only-of-type {\n",
       "        vertical-align: middle;\n",
       "    }\n",
       "\n",
       "    .dataframe tbody tr th {\n",
       "        vertical-align: top;\n",
       "    }\n",
       "\n",
       "    .dataframe thead th {\n",
       "        text-align: right;\n",
       "    }\n",
       "</style>\n",
       "<table border=\"1\" class=\"dataframe\">\n",
       "  <thead>\n",
       "    <tr style=\"text-align: right;\">\n",
       "      <th></th>\n",
       "      <th>index_ite</th>\n",
       "      <th>max_memory_ite</th>\n",
       "      <th>memory_ite</th>\n",
       "      <th>status_ite</th>\n",
       "      <th>time_ite</th>\n",
       "      <th>file</th>\n",
       "      <th>index_noite</th>\n",
       "      <th>max_memory_noite</th>\n",
       "      <th>memory_noite</th>\n",
       "      <th>status_noite</th>\n",
       "      <th>time_noite</th>\n",
       "    </tr>\n",
       "  </thead>\n",
       "  <tbody>\n",
       "    <tr>\n",
       "      <td>1</td>\n",
       "      <td>ldv-cat-0001.c.ite.phi.smt2</td>\n",
       "      <td>3.31</td>\n",
       "      <td>3.01</td>\n",
       "      <td>unsat</td>\n",
       "      <td>0.01</td>\n",
       "      <td>ldv-cat-0001</td>\n",
       "      <td>ldv-cat-0001.c.noite.phi.smt2</td>\n",
       "      <td>3.32</td>\n",
       "      <td>3.01</td>\n",
       "      <td>unsat</td>\n",
       "      <td>0.01</td>\n",
       "    </tr>\n",
       "    <tr>\n",
       "      <td>2</td>\n",
       "      <td>ldv-cat-0002.c.ite.phi.smt2</td>\n",
       "      <td>3.37</td>\n",
       "      <td>3.13</td>\n",
       "      <td>unsat</td>\n",
       "      <td>0.01</td>\n",
       "      <td>ldv-cat-0002</td>\n",
       "      <td>ldv-cat-0002.c.noite.phi.smt2</td>\n",
       "      <td>3.37</td>\n",
       "      <td>3.13</td>\n",
       "      <td>unsat</td>\n",
       "      <td>0.01</td>\n",
       "    </tr>\n",
       "    <tr>\n",
       "      <td>3</td>\n",
       "      <td>ldv-cat-0003.c.ite.phi.smt2</td>\n",
       "      <td>3.31</td>\n",
       "      <td>3.01</td>\n",
       "      <td>unsat</td>\n",
       "      <td>0.01</td>\n",
       "      <td>ldv-cat-0003</td>\n",
       "      <td>ldv-cat-0003.c.noite.phi.smt2</td>\n",
       "      <td>3.31</td>\n",
       "      <td>3.01</td>\n",
       "      <td>unsat</td>\n",
       "      <td>0.01</td>\n",
       "    </tr>\n",
       "    <tr>\n",
       "      <td>4</td>\n",
       "      <td>ldv-cat-0004.c.ite.phi.smt2</td>\n",
       "      <td>3.45</td>\n",
       "      <td>3.14</td>\n",
       "      <td>unsat</td>\n",
       "      <td>0.01</td>\n",
       "      <td>ldv-cat-0004</td>\n",
       "      <td>ldv-cat-0004.c.noite.phi.smt2</td>\n",
       "      <td>3.45</td>\n",
       "      <td>3.14</td>\n",
       "      <td>unsat</td>\n",
       "      <td>0.01</td>\n",
       "    </tr>\n",
       "    <tr>\n",
       "      <td>5</td>\n",
       "      <td>ldv-cat-0005.c.ite.phi.smt2</td>\n",
       "      <td>3.74</td>\n",
       "      <td>3.43</td>\n",
       "      <td>unsat</td>\n",
       "      <td>0.01</td>\n",
       "      <td>ldv-cat-0005</td>\n",
       "      <td>ldv-cat-0005.c.noite.phi.smt2</td>\n",
       "      <td>3.74</td>\n",
       "      <td>3.43</td>\n",
       "      <td>unsat</td>\n",
       "      <td>0.01</td>\n",
       "    </tr>\n",
       "    <tr>\n",
       "      <td>6</td>\n",
       "      <td>ldv-cat-0006.c.ite.phi.smt2</td>\n",
       "      <td>3.74</td>\n",
       "      <td>3.46</td>\n",
       "      <td>unsat</td>\n",
       "      <td>0.01</td>\n",
       "      <td>ldv-cat-0006</td>\n",
       "      <td>ldv-cat-0006.c.noite.phi.smt2</td>\n",
       "      <td>3.75</td>\n",
       "      <td>3.45</td>\n",
       "      <td>unsat</td>\n",
       "      <td>0.01</td>\n",
       "    </tr>\n",
       "    <tr>\n",
       "      <td>7</td>\n",
       "      <td>ldv-cat-0007.c.ite.phi.smt2</td>\n",
       "      <td>4.13</td>\n",
       "      <td>3.87</td>\n",
       "      <td>unsat</td>\n",
       "      <td>0.02</td>\n",
       "      <td>ldv-cat-0007</td>\n",
       "      <td>ldv-cat-0007.c.noite.phi.smt2</td>\n",
       "      <td>4.22</td>\n",
       "      <td>3.97</td>\n",
       "      <td>unsat</td>\n",
       "      <td>0.01</td>\n",
       "    </tr>\n",
       "    <tr>\n",
       "      <td>8</td>\n",
       "      <td>ldv-cat-0008.c.ite.phi.smt2</td>\n",
       "      <td>6.36</td>\n",
       "      <td>5.40</td>\n",
       "      <td>unsat</td>\n",
       "      <td>0.03</td>\n",
       "      <td>ldv-cat-0008</td>\n",
       "      <td>ldv-cat-0008.c.noite.phi.smt2</td>\n",
       "      <td>6.23</td>\n",
       "      <td>5.34</td>\n",
       "      <td>unsat</td>\n",
       "      <td>0.03</td>\n",
       "    </tr>\n",
       "    <tr>\n",
       "      <td>25</td>\n",
       "      <td>ldv-cat-0025.c.ite.phi.smt2</td>\n",
       "      <td>20.35</td>\n",
       "      <td>16.28</td>\n",
       "      <td>unsat</td>\n",
       "      <td>0.10</td>\n",
       "      <td>ldv-cat-0025</td>\n",
       "      <td>ldv-cat-0025.c.noite.phi.smt2</td>\n",
       "      <td>20.21</td>\n",
       "      <td>16.77</td>\n",
       "      <td>unsat</td>\n",
       "      <td>0.11</td>\n",
       "    </tr>\n",
       "    <tr>\n",
       "      <td>11</td>\n",
       "      <td>ldv-cat-0011.c.ite.phi.smt2</td>\n",
       "      <td>38.06</td>\n",
       "      <td>12.29</td>\n",
       "      <td>unsat</td>\n",
       "      <td>0.26</td>\n",
       "      <td>ldv-cat-0011</td>\n",
       "      <td>ldv-cat-0011.c.noite.phi.smt2</td>\n",
       "      <td>49.03</td>\n",
       "      <td>16.74</td>\n",
       "      <td>unsat</td>\n",
       "      <td>0.57</td>\n",
       "    </tr>\n",
       "    <tr>\n",
       "      <td>12</td>\n",
       "      <td>ldv-cat-0012.c.ite.phi.smt2</td>\n",
       "      <td>38.06</td>\n",
       "      <td>12.29</td>\n",
       "      <td>unsat</td>\n",
       "      <td>0.24</td>\n",
       "      <td>ldv-cat-0012</td>\n",
       "      <td>ldv-cat-0012.c.noite.phi.smt2</td>\n",
       "      <td>49.09</td>\n",
       "      <td>16.74</td>\n",
       "      <td>unsat</td>\n",
       "      <td>0.58</td>\n",
       "    </tr>\n",
       "    <tr>\n",
       "      <td>13</td>\n",
       "      <td>ldv-cat-0013.i.ite.phi.smt2</td>\n",
       "      <td>35.75</td>\n",
       "      <td>12.00</td>\n",
       "      <td>unsat</td>\n",
       "      <td>0.22</td>\n",
       "      <td>ldv-cat-0013</td>\n",
       "      <td>ldv-cat-0013.i.noite.phi.smt2</td>\n",
       "      <td>41.10</td>\n",
       "      <td>12.81</td>\n",
       "      <td>unsat</td>\n",
       "      <td>0.65</td>\n",
       "    </tr>\n",
       "    <tr>\n",
       "      <td>10</td>\n",
       "      <td>ldv-cat-0010.c.ite.phi.smt2</td>\n",
       "      <td>29.28</td>\n",
       "      <td>10.13</td>\n",
       "      <td>sat</td>\n",
       "      <td>0.78</td>\n",
       "      <td>ldv-cat-0010</td>\n",
       "      <td>ldv-cat-0010.c.noite.phi.smt2</td>\n",
       "      <td>33.12</td>\n",
       "      <td>10.80</td>\n",
       "      <td>sat</td>\n",
       "      <td>0.92</td>\n",
       "    </tr>\n",
       "    <tr>\n",
       "      <td>9</td>\n",
       "      <td>ldv-cat-0009.c.ite.phi.smt2</td>\n",
       "      <td>23.84</td>\n",
       "      <td>7.27</td>\n",
       "      <td>sat</td>\n",
       "      <td>0.28</td>\n",
       "      <td>ldv-cat-0009</td>\n",
       "      <td>ldv-cat-0009.c.noite.phi.smt2</td>\n",
       "      <td>24.53</td>\n",
       "      <td>7.31</td>\n",
       "      <td>sat</td>\n",
       "      <td>1.03</td>\n",
       "    </tr>\n",
       "    <tr>\n",
       "      <td>14</td>\n",
       "      <td>ldv-cat-0014.c.ite.phi.smt2</td>\n",
       "      <td>48.77</td>\n",
       "      <td>14.53</td>\n",
       "      <td>unsat</td>\n",
       "      <td>0.46</td>\n",
       "      <td>ldv-cat-0014</td>\n",
       "      <td>ldv-cat-0014.c.noite.phi.smt2</td>\n",
       "      <td>56.72</td>\n",
       "      <td>17.97</td>\n",
       "      <td>unsat</td>\n",
       "      <td>1.48</td>\n",
       "    </tr>\n",
       "    <tr>\n",
       "      <td>87</td>\n",
       "      <td>ldv-cat-0087.c.ite.phi.smt2</td>\n",
       "      <td>385.56</td>\n",
       "      <td>298.18</td>\n",
       "      <td>unsat</td>\n",
       "      <td>2.47</td>\n",
       "      <td>ldv-cat-0087</td>\n",
       "      <td>ldv-cat-0087.c.noite.phi.smt2</td>\n",
       "      <td>367.74</td>\n",
       "      <td>292.17</td>\n",
       "      <td>unsat</td>\n",
       "      <td>2.28</td>\n",
       "    </tr>\n",
       "    <tr>\n",
       "      <td>17</td>\n",
       "      <td>ldv-cat-0017.c.ite.phi.smt2</td>\n",
       "      <td>284.74</td>\n",
       "      <td>69.58</td>\n",
       "      <td>unsat</td>\n",
       "      <td>1.78</td>\n",
       "      <td>ldv-cat-0017</td>\n",
       "      <td>ldv-cat-0017.c.noite.phi.smt2</td>\n",
       "      <td>286.31</td>\n",
       "      <td>70.14</td>\n",
       "      <td>unsat</td>\n",
       "      <td>2.32</td>\n",
       "    </tr>\n",
       "    <tr>\n",
       "      <td>18</td>\n",
       "      <td>ldv-cat-0018.c.ite.phi.smt2</td>\n",
       "      <td>50.75</td>\n",
       "      <td>17.92</td>\n",
       "      <td>unsat</td>\n",
       "      <td>1.52</td>\n",
       "      <td>ldv-cat-0018</td>\n",
       "      <td>ldv-cat-0018.c.noite.phi.smt2</td>\n",
       "      <td>60.65</td>\n",
       "      <td>18.86</td>\n",
       "      <td>unsat</td>\n",
       "      <td>2.98</td>\n",
       "    </tr>\n",
       "    <tr>\n",
       "      <td>20</td>\n",
       "      <td>ldv-cat-0020.c.ite.phi.smt2</td>\n",
       "      <td>190.03</td>\n",
       "      <td>48.88</td>\n",
       "      <td>unsat</td>\n",
       "      <td>1.70</td>\n",
       "      <td>ldv-cat-0020</td>\n",
       "      <td>ldv-cat-0020.c.noite.phi.smt2</td>\n",
       "      <td>247.98</td>\n",
       "      <td>69.06</td>\n",
       "      <td>unsat</td>\n",
       "      <td>3.09</td>\n",
       "    </tr>\n",
       "    <tr>\n",
       "      <td>22</td>\n",
       "      <td>ldv-cat-0022.i.ite.phi.smt2</td>\n",
       "      <td>75.61</td>\n",
       "      <td>19.31</td>\n",
       "      <td>unsat</td>\n",
       "      <td>3.18</td>\n",
       "      <td>ldv-cat-0022</td>\n",
       "      <td>ldv-cat-0022.i.noite.phi.smt2</td>\n",
       "      <td>80.25</td>\n",
       "      <td>20.57</td>\n",
       "      <td>unsat</td>\n",
       "      <td>3.33</td>\n",
       "    </tr>\n",
       "    <tr>\n",
       "      <td>16</td>\n",
       "      <td>ldv-cat-0016.c.ite.phi.smt2</td>\n",
       "      <td>41.59</td>\n",
       "      <td>11.99</td>\n",
       "      <td>sat</td>\n",
       "      <td>3.44</td>\n",
       "      <td>ldv-cat-0016</td>\n",
       "      <td>ldv-cat-0016.c.noite.phi.smt2</td>\n",
       "      <td>49.60</td>\n",
       "      <td>13.27</td>\n",
       "      <td>sat</td>\n",
       "      <td>3.81</td>\n",
       "    </tr>\n",
       "    <tr>\n",
       "      <td>23</td>\n",
       "      <td>ldv-cat-0023.c.ite.phi.smt2</td>\n",
       "      <td>116.00</td>\n",
       "      <td>34.09</td>\n",
       "      <td>sat</td>\n",
       "      <td>15.39</td>\n",
       "      <td>ldv-cat-0023</td>\n",
       "      <td>ldv-cat-0023.c.noite.phi.smt2</td>\n",
       "      <td>118.77</td>\n",
       "      <td>34.07</td>\n",
       "      <td>sat</td>\n",
       "      <td>5.18</td>\n",
       "    </tr>\n",
       "    <tr>\n",
       "      <td>29</td>\n",
       "      <td>ldv-cat-0029.c.ite.phi.smt2</td>\n",
       "      <td>258.16</td>\n",
       "      <td>62.81</td>\n",
       "      <td>unsat</td>\n",
       "      <td>60.30</td>\n",
       "      <td>ldv-cat-0029</td>\n",
       "      <td>ldv-cat-0029.c.noite.phi.smt2</td>\n",
       "      <td>228.21</td>\n",
       "      <td>51.73</td>\n",
       "      <td>unsat</td>\n",
       "      <td>6.43</td>\n",
       "    </tr>\n",
       "    <tr>\n",
       "      <td>15</td>\n",
       "      <td>ldv-cat-0015.c.ite.phi.smt2</td>\n",
       "      <td>333.82</td>\n",
       "      <td>73.57</td>\n",
       "      <td>unsat</td>\n",
       "      <td>1.92</td>\n",
       "      <td>ldv-cat-0015</td>\n",
       "      <td>ldv-cat-0015.c.noite.phi.smt2</td>\n",
       "      <td>344.58</td>\n",
       "      <td>73.94</td>\n",
       "      <td>unsat</td>\n",
       "      <td>7.20</td>\n",
       "    </tr>\n",
       "    <tr>\n",
       "      <td>48</td>\n",
       "      <td>ldv-cat-0048.c.ite.phi.smt2</td>\n",
       "      <td>155.51</td>\n",
       "      <td>93.98</td>\n",
       "      <td>unsat</td>\n",
       "      <td>3.99</td>\n",
       "      <td>ldv-cat-0048</td>\n",
       "      <td>ldv-cat-0048.c.noite.phi.smt2</td>\n",
       "      <td>160.14</td>\n",
       "      <td>66.30</td>\n",
       "      <td>unsat</td>\n",
       "      <td>7.48</td>\n",
       "    </tr>\n",
       "    <tr>\n",
       "      <td>26</td>\n",
       "      <td>ldv-cat-0026.c.ite.phi.smt2</td>\n",
       "      <td>847.80</td>\n",
       "      <td>258.99</td>\n",
       "      <td>unsat</td>\n",
       "      <td>6.32</td>\n",
       "      <td>ldv-cat-0026</td>\n",
       "      <td>ldv-cat-0026.c.noite.phi.smt2</td>\n",
       "      <td>962.35</td>\n",
       "      <td>279.38</td>\n",
       "      <td>unsat</td>\n",
       "      <td>8.25</td>\n",
       "    </tr>\n",
       "    <tr>\n",
       "      <td>21</td>\n",
       "      <td>ldv-cat-0021.c.ite.phi.smt2</td>\n",
       "      <td>29.10</td>\n",
       "      <td>8.85</td>\n",
       "      <td>sat</td>\n",
       "      <td>5.55</td>\n",
       "      <td>ldv-cat-0021</td>\n",
       "      <td>ldv-cat-0021.c.noite.phi.smt2</td>\n",
       "      <td>38.42</td>\n",
       "      <td>11.09</td>\n",
       "      <td>sat</td>\n",
       "      <td>8.55</td>\n",
       "    </tr>\n",
       "    <tr>\n",
       "      <td>19</td>\n",
       "      <td>ldv-cat-0019.i.ite.phi.smt2</td>\n",
       "      <td>81.65</td>\n",
       "      <td>20.15</td>\n",
       "      <td>unsat</td>\n",
       "      <td>4.09</td>\n",
       "      <td>ldv-cat-0019</td>\n",
       "      <td>ldv-cat-0019.i.noite.phi.smt2</td>\n",
       "      <td>86.96</td>\n",
       "      <td>21.33</td>\n",
       "      <td>unsat</td>\n",
       "      <td>8.75</td>\n",
       "    </tr>\n",
       "    <tr>\n",
       "      <td>28</td>\n",
       "      <td>ldv-cat-0028.c.ite.phi.smt2</td>\n",
       "      <td>167.00</td>\n",
       "      <td>42.72</td>\n",
       "      <td>unsat</td>\n",
       "      <td>1.27</td>\n",
       "      <td>ldv-cat-0028</td>\n",
       "      <td>ldv-cat-0028.c.noite.phi.smt2</td>\n",
       "      <td>184.31</td>\n",
       "      <td>46.03</td>\n",
       "      <td>unsat</td>\n",
       "      <td>9.30</td>\n",
       "    </tr>\n",
       "    <tr>\n",
       "      <td>33</td>\n",
       "      <td>ldv-cat-0033.c.ite.phi.smt2</td>\n",
       "      <td>1103.94</td>\n",
       "      <td>270.40</td>\n",
       "      <td>unsat</td>\n",
       "      <td>8.98</td>\n",
       "      <td>ldv-cat-0033</td>\n",
       "      <td>ldv-cat-0033.c.noite.phi.smt2</td>\n",
       "      <td>1206.96</td>\n",
       "      <td>282.42</td>\n",
       "      <td>unsat</td>\n",
       "      <td>10.51</td>\n",
       "    </tr>\n",
       "    <tr>\n",
       "      <td>62</td>\n",
       "      <td>ldv-cat-0062.c.ite.phi.smt2</td>\n",
       "      <td>756.85</td>\n",
       "      <td>242.80</td>\n",
       "      <td>unsat</td>\n",
       "      <td>13.56</td>\n",
       "      <td>ldv-cat-0062</td>\n",
       "      <td>ldv-cat-0062.c.noite.phi.smt2</td>\n",
       "      <td>770.14</td>\n",
       "      <td>246.89</td>\n",
       "      <td>unsat</td>\n",
       "      <td>11.12</td>\n",
       "    </tr>\n",
       "    <tr>\n",
       "      <td>52</td>\n",
       "      <td>ldv-cat-0052.c.ite.phi.smt2</td>\n",
       "      <td>188.62</td>\n",
       "      <td>61.95</td>\n",
       "      <td>sat</td>\n",
       "      <td>28.55</td>\n",
       "      <td>ldv-cat-0052</td>\n",
       "      <td>ldv-cat-0052.c.noite.phi.smt2</td>\n",
       "      <td>245.40</td>\n",
       "      <td>70.26</td>\n",
       "      <td>sat</td>\n",
       "      <td>12.11</td>\n",
       "    </tr>\n",
       "    <tr>\n",
       "      <td>30</td>\n",
       "      <td>ldv-cat-0030.c.ite.phi.smt2</td>\n",
       "      <td>18.81</td>\n",
       "      <td>13.28</td>\n",
       "      <td>unsat</td>\n",
       "      <td>0.31</td>\n",
       "      <td>ldv-cat-0030</td>\n",
       "      <td>ldv-cat-0030.c.noite.phi.smt2</td>\n",
       "      <td>222.08</td>\n",
       "      <td>51.16</td>\n",
       "      <td>unsat</td>\n",
       "      <td>12.92</td>\n",
       "    </tr>\n",
       "    <tr>\n",
       "      <td>31</td>\n",
       "      <td>ldv-cat-0031.i.ite.phi.smt2</td>\n",
       "      <td>81.52</td>\n",
       "      <td>20.75</td>\n",
       "      <td>sat</td>\n",
       "      <td>10.18</td>\n",
       "      <td>ldv-cat-0031</td>\n",
       "      <td>ldv-cat-0031.i.noite.phi.smt2</td>\n",
       "      <td>87.73</td>\n",
       "      <td>21.42</td>\n",
       "      <td>sat</td>\n",
       "      <td>14.14</td>\n",
       "    </tr>\n",
       "    <tr>\n",
       "      <td>35</td>\n",
       "      <td>ldv-cat-0035.c.ite.phi.smt2</td>\n",
       "      <td>286.77</td>\n",
       "      <td>78.67</td>\n",
       "      <td>unsat</td>\n",
       "      <td>5.22</td>\n",
       "      <td>ldv-cat-0035</td>\n",
       "      <td>ldv-cat-0035.c.noite.phi.smt2</td>\n",
       "      <td>377.69</td>\n",
       "      <td>93.92</td>\n",
       "      <td>unsat</td>\n",
       "      <td>17.40</td>\n",
       "    </tr>\n",
       "    <tr>\n",
       "      <td>59</td>\n",
       "      <td>ldv-cat-0059.c.ite.phi.smt2</td>\n",
       "      <td>71.85</td>\n",
       "      <td>58.88</td>\n",
       "      <td>unsat</td>\n",
       "      <td>0.99</td>\n",
       "      <td>ldv-cat-0059</td>\n",
       "      <td>ldv-cat-0059.c.noite.phi.smt2</td>\n",
       "      <td>1487.27</td>\n",
       "      <td>349.20</td>\n",
       "      <td>unsat</td>\n",
       "      <td>19.12</td>\n",
       "    </tr>\n",
       "    <tr>\n",
       "      <td>27</td>\n",
       "      <td>ldv-cat-0027.c.ite.phi.smt2</td>\n",
       "      <td>194.73</td>\n",
       "      <td>43.26</td>\n",
       "      <td>sat</td>\n",
       "      <td>18.14</td>\n",
       "      <td>ldv-cat-0027</td>\n",
       "      <td>ldv-cat-0027.c.noite.phi.smt2</td>\n",
       "      <td>221.11</td>\n",
       "      <td>46.92</td>\n",
       "      <td>sat</td>\n",
       "      <td>19.93</td>\n",
       "    </tr>\n",
       "    <tr>\n",
       "      <td>32</td>\n",
       "      <td>ldv-cat-0032.c.ite.phi.smt2</td>\n",
       "      <td>704.39</td>\n",
       "      <td>596.57</td>\n",
       "      <td>timeout</td>\n",
       "      <td>929.93</td>\n",
       "      <td>ldv-cat-0032</td>\n",
       "      <td>ldv-cat-0032.c.noite.phi.smt2</td>\n",
       "      <td>92.46</td>\n",
       "      <td>24.91</td>\n",
       "      <td>sat</td>\n",
       "      <td>21.06</td>\n",
       "    </tr>\n",
       "    <tr>\n",
       "      <td>36</td>\n",
       "      <td>ldv-cat-0036.c.ite.phi.smt2</td>\n",
       "      <td>647.68</td>\n",
       "      <td>153.13</td>\n",
       "      <td>unsat</td>\n",
       "      <td>13.59</td>\n",
       "      <td>ldv-cat-0036</td>\n",
       "      <td>ldv-cat-0036.c.noite.phi.smt2</td>\n",
       "      <td>809.23</td>\n",
       "      <td>176.17</td>\n",
       "      <td>unsat</td>\n",
       "      <td>21.41</td>\n",
       "    </tr>\n",
       "    <tr>\n",
       "      <td>45</td>\n",
       "      <td>ldv-cat-0045.c.ite.phi.smt2</td>\n",
       "      <td>484.83</td>\n",
       "      <td>136.88</td>\n",
       "      <td>unsat</td>\n",
       "      <td>32.25</td>\n",
       "      <td>ldv-cat-0045</td>\n",
       "      <td>ldv-cat-0045.c.noite.phi.smt2</td>\n",
       "      <td>652.36</td>\n",
       "      <td>164.78</td>\n",
       "      <td>unsat</td>\n",
       "      <td>21.89</td>\n",
       "    </tr>\n",
       "    <tr>\n",
       "      <td>24</td>\n",
       "      <td>ldv-cat-0024.i.ite.phi.smt2</td>\n",
       "      <td>1234.38</td>\n",
       "      <td>272.88</td>\n",
       "      <td>unsat</td>\n",
       "      <td>27.45</td>\n",
       "      <td>ldv-cat-0024</td>\n",
       "      <td>ldv-cat-0024.i.noite.phi.smt2</td>\n",
       "      <td>1245.66</td>\n",
       "      <td>276.50</td>\n",
       "      <td>unsat</td>\n",
       "      <td>22.54</td>\n",
       "    </tr>\n",
       "    <tr>\n",
       "      <td>40</td>\n",
       "      <td>ldv-cat-0040.c.ite.phi.smt2</td>\n",
       "      <td>52.69</td>\n",
       "      <td>34.18</td>\n",
       "      <td>unsat</td>\n",
       "      <td>1.03</td>\n",
       "      <td>ldv-cat-0040</td>\n",
       "      <td>ldv-cat-0040.c.noite.phi.smt2</td>\n",
       "      <td>722.99</td>\n",
       "      <td>144.97</td>\n",
       "      <td>unsat</td>\n",
       "      <td>23.82</td>\n",
       "    </tr>\n",
       "    <tr>\n",
       "      <td>49</td>\n",
       "      <td>ldv-cat-0049.c.ite.phi.smt2</td>\n",
       "      <td>55.79</td>\n",
       "      <td>37.24</td>\n",
       "      <td>unsat</td>\n",
       "      <td>20.45</td>\n",
       "      <td>ldv-cat-0049</td>\n",
       "      <td>ldv-cat-0049.c.noite.phi.smt2</td>\n",
       "      <td>633.99</td>\n",
       "      <td>154.50</td>\n",
       "      <td>unsat</td>\n",
       "      <td>28.41</td>\n",
       "    </tr>\n",
       "    <tr>\n",
       "      <td>39</td>\n",
       "      <td>ldv-cat-0039.c.ite.phi.smt2</td>\n",
       "      <td>210.44</td>\n",
       "      <td>65.65</td>\n",
       "      <td>unsat</td>\n",
       "      <td>4.60</td>\n",
       "      <td>ldv-cat-0039</td>\n",
       "      <td>ldv-cat-0039.c.noite.phi.smt2</td>\n",
       "      <td>258.26</td>\n",
       "      <td>73.39</td>\n",
       "      <td>unsat</td>\n",
       "      <td>32.30</td>\n",
       "    </tr>\n",
       "    <tr>\n",
       "      <td>37</td>\n",
       "      <td>ldv-cat-0037.c.ite.phi.smt2</td>\n",
       "      <td>164.52</td>\n",
       "      <td>47.66</td>\n",
       "      <td>sat</td>\n",
       "      <td>47.93</td>\n",
       "      <td>ldv-cat-0037</td>\n",
       "      <td>ldv-cat-0037.c.noite.phi.smt2</td>\n",
       "      <td>187.59</td>\n",
       "      <td>59.85</td>\n",
       "      <td>sat</td>\n",
       "      <td>32.70</td>\n",
       "    </tr>\n",
       "    <tr>\n",
       "      <td>46</td>\n",
       "      <td>ldv-cat-0046.i.ite.phi.smt2</td>\n",
       "      <td>137.05</td>\n",
       "      <td>33.64</td>\n",
       "      <td>sat</td>\n",
       "      <td>50.98</td>\n",
       "      <td>ldv-cat-0046</td>\n",
       "      <td>ldv-cat-0046.i.noite.phi.smt2</td>\n",
       "      <td>141.68</td>\n",
       "      <td>33.38</td>\n",
       "      <td>sat</td>\n",
       "      <td>42.04</td>\n",
       "    </tr>\n",
       "    <tr>\n",
       "      <td>65</td>\n",
       "      <td>ldv-cat-0065.c.ite.phi.smt2</td>\n",
       "      <td>144.04</td>\n",
       "      <td>106.13</td>\n",
       "      <td>unsat</td>\n",
       "      <td>2.64</td>\n",
       "      <td>ldv-cat-0065</td>\n",
       "      <td>ldv-cat-0065.c.noite.phi.smt2</td>\n",
       "      <td>694.18</td>\n",
       "      <td>237.79</td>\n",
       "      <td>unsat</td>\n",
       "      <td>43.34</td>\n",
       "    </tr>\n",
       "    <tr>\n",
       "      <td>58</td>\n",
       "      <td>ldv-cat-0058.c.ite.phi.smt2</td>\n",
       "      <td>3760.31</td>\n",
       "      <td>780.78</td>\n",
       "      <td>unsat</td>\n",
       "      <td>28.28</td>\n",
       "      <td>ldv-cat-0058</td>\n",
       "      <td>ldv-cat-0058.c.noite.phi.smt2</td>\n",
       "      <td>3675.44</td>\n",
       "      <td>755.01</td>\n",
       "      <td>unsat</td>\n",
       "      <td>46.00</td>\n",
       "    </tr>\n",
       "  </tbody>\n",
       "</table>\n",
       "</div>"
      ],
      "text/plain": [
       "                      index_ite  max_memory_ite  memory_ite status_ite  \\\n",
       "1   ldv-cat-0001.c.ite.phi.smt2            3.31        3.01      unsat   \n",
       "2   ldv-cat-0002.c.ite.phi.smt2            3.37        3.13      unsat   \n",
       "3   ldv-cat-0003.c.ite.phi.smt2            3.31        3.01      unsat   \n",
       "4   ldv-cat-0004.c.ite.phi.smt2            3.45        3.14      unsat   \n",
       "5   ldv-cat-0005.c.ite.phi.smt2            3.74        3.43      unsat   \n",
       "6   ldv-cat-0006.c.ite.phi.smt2            3.74        3.46      unsat   \n",
       "7   ldv-cat-0007.c.ite.phi.smt2            4.13        3.87      unsat   \n",
       "8   ldv-cat-0008.c.ite.phi.smt2            6.36        5.40      unsat   \n",
       "25  ldv-cat-0025.c.ite.phi.smt2           20.35       16.28      unsat   \n",
       "11  ldv-cat-0011.c.ite.phi.smt2           38.06       12.29      unsat   \n",
       "12  ldv-cat-0012.c.ite.phi.smt2           38.06       12.29      unsat   \n",
       "13  ldv-cat-0013.i.ite.phi.smt2           35.75       12.00      unsat   \n",
       "10  ldv-cat-0010.c.ite.phi.smt2           29.28       10.13        sat   \n",
       "9   ldv-cat-0009.c.ite.phi.smt2           23.84        7.27        sat   \n",
       "14  ldv-cat-0014.c.ite.phi.smt2           48.77       14.53      unsat   \n",
       "87  ldv-cat-0087.c.ite.phi.smt2          385.56      298.18      unsat   \n",
       "17  ldv-cat-0017.c.ite.phi.smt2          284.74       69.58      unsat   \n",
       "18  ldv-cat-0018.c.ite.phi.smt2           50.75       17.92      unsat   \n",
       "20  ldv-cat-0020.c.ite.phi.smt2          190.03       48.88      unsat   \n",
       "22  ldv-cat-0022.i.ite.phi.smt2           75.61       19.31      unsat   \n",
       "16  ldv-cat-0016.c.ite.phi.smt2           41.59       11.99        sat   \n",
       "23  ldv-cat-0023.c.ite.phi.smt2          116.00       34.09        sat   \n",
       "29  ldv-cat-0029.c.ite.phi.smt2          258.16       62.81      unsat   \n",
       "15  ldv-cat-0015.c.ite.phi.smt2          333.82       73.57      unsat   \n",
       "48  ldv-cat-0048.c.ite.phi.smt2          155.51       93.98      unsat   \n",
       "26  ldv-cat-0026.c.ite.phi.smt2          847.80      258.99      unsat   \n",
       "21  ldv-cat-0021.c.ite.phi.smt2           29.10        8.85        sat   \n",
       "19  ldv-cat-0019.i.ite.phi.smt2           81.65       20.15      unsat   \n",
       "28  ldv-cat-0028.c.ite.phi.smt2          167.00       42.72      unsat   \n",
       "33  ldv-cat-0033.c.ite.phi.smt2         1103.94      270.40      unsat   \n",
       "62  ldv-cat-0062.c.ite.phi.smt2          756.85      242.80      unsat   \n",
       "52  ldv-cat-0052.c.ite.phi.smt2          188.62       61.95        sat   \n",
       "30  ldv-cat-0030.c.ite.phi.smt2           18.81       13.28      unsat   \n",
       "31  ldv-cat-0031.i.ite.phi.smt2           81.52       20.75        sat   \n",
       "35  ldv-cat-0035.c.ite.phi.smt2          286.77       78.67      unsat   \n",
       "59  ldv-cat-0059.c.ite.phi.smt2           71.85       58.88      unsat   \n",
       "27  ldv-cat-0027.c.ite.phi.smt2          194.73       43.26        sat   \n",
       "32  ldv-cat-0032.c.ite.phi.smt2          704.39      596.57    timeout   \n",
       "36  ldv-cat-0036.c.ite.phi.smt2          647.68      153.13      unsat   \n",
       "45  ldv-cat-0045.c.ite.phi.smt2          484.83      136.88      unsat   \n",
       "24  ldv-cat-0024.i.ite.phi.smt2         1234.38      272.88      unsat   \n",
       "40  ldv-cat-0040.c.ite.phi.smt2           52.69       34.18      unsat   \n",
       "49  ldv-cat-0049.c.ite.phi.smt2           55.79       37.24      unsat   \n",
       "39  ldv-cat-0039.c.ite.phi.smt2          210.44       65.65      unsat   \n",
       "37  ldv-cat-0037.c.ite.phi.smt2          164.52       47.66        sat   \n",
       "46  ldv-cat-0046.i.ite.phi.smt2          137.05       33.64        sat   \n",
       "65  ldv-cat-0065.c.ite.phi.smt2          144.04      106.13      unsat   \n",
       "58  ldv-cat-0058.c.ite.phi.smt2         3760.31      780.78      unsat   \n",
       "\n",
       "    time_ite          file                    index_noite  max_memory_noite  \\\n",
       "1       0.01  ldv-cat-0001  ldv-cat-0001.c.noite.phi.smt2              3.32   \n",
       "2       0.01  ldv-cat-0002  ldv-cat-0002.c.noite.phi.smt2              3.37   \n",
       "3       0.01  ldv-cat-0003  ldv-cat-0003.c.noite.phi.smt2              3.31   \n",
       "4       0.01  ldv-cat-0004  ldv-cat-0004.c.noite.phi.smt2              3.45   \n",
       "5       0.01  ldv-cat-0005  ldv-cat-0005.c.noite.phi.smt2              3.74   \n",
       "6       0.01  ldv-cat-0006  ldv-cat-0006.c.noite.phi.smt2              3.75   \n",
       "7       0.02  ldv-cat-0007  ldv-cat-0007.c.noite.phi.smt2              4.22   \n",
       "8       0.03  ldv-cat-0008  ldv-cat-0008.c.noite.phi.smt2              6.23   \n",
       "25      0.10  ldv-cat-0025  ldv-cat-0025.c.noite.phi.smt2             20.21   \n",
       "11      0.26  ldv-cat-0011  ldv-cat-0011.c.noite.phi.smt2             49.03   \n",
       "12      0.24  ldv-cat-0012  ldv-cat-0012.c.noite.phi.smt2             49.09   \n",
       "13      0.22  ldv-cat-0013  ldv-cat-0013.i.noite.phi.smt2             41.10   \n",
       "10      0.78  ldv-cat-0010  ldv-cat-0010.c.noite.phi.smt2             33.12   \n",
       "9       0.28  ldv-cat-0009  ldv-cat-0009.c.noite.phi.smt2             24.53   \n",
       "14      0.46  ldv-cat-0014  ldv-cat-0014.c.noite.phi.smt2             56.72   \n",
       "87      2.47  ldv-cat-0087  ldv-cat-0087.c.noite.phi.smt2            367.74   \n",
       "17      1.78  ldv-cat-0017  ldv-cat-0017.c.noite.phi.smt2            286.31   \n",
       "18      1.52  ldv-cat-0018  ldv-cat-0018.c.noite.phi.smt2             60.65   \n",
       "20      1.70  ldv-cat-0020  ldv-cat-0020.c.noite.phi.smt2            247.98   \n",
       "22      3.18  ldv-cat-0022  ldv-cat-0022.i.noite.phi.smt2             80.25   \n",
       "16      3.44  ldv-cat-0016  ldv-cat-0016.c.noite.phi.smt2             49.60   \n",
       "23     15.39  ldv-cat-0023  ldv-cat-0023.c.noite.phi.smt2            118.77   \n",
       "29     60.30  ldv-cat-0029  ldv-cat-0029.c.noite.phi.smt2            228.21   \n",
       "15      1.92  ldv-cat-0015  ldv-cat-0015.c.noite.phi.smt2            344.58   \n",
       "48      3.99  ldv-cat-0048  ldv-cat-0048.c.noite.phi.smt2            160.14   \n",
       "26      6.32  ldv-cat-0026  ldv-cat-0026.c.noite.phi.smt2            962.35   \n",
       "21      5.55  ldv-cat-0021  ldv-cat-0021.c.noite.phi.smt2             38.42   \n",
       "19      4.09  ldv-cat-0019  ldv-cat-0019.i.noite.phi.smt2             86.96   \n",
       "28      1.27  ldv-cat-0028  ldv-cat-0028.c.noite.phi.smt2            184.31   \n",
       "33      8.98  ldv-cat-0033  ldv-cat-0033.c.noite.phi.smt2           1206.96   \n",
       "62     13.56  ldv-cat-0062  ldv-cat-0062.c.noite.phi.smt2            770.14   \n",
       "52     28.55  ldv-cat-0052  ldv-cat-0052.c.noite.phi.smt2            245.40   \n",
       "30      0.31  ldv-cat-0030  ldv-cat-0030.c.noite.phi.smt2            222.08   \n",
       "31     10.18  ldv-cat-0031  ldv-cat-0031.i.noite.phi.smt2             87.73   \n",
       "35      5.22  ldv-cat-0035  ldv-cat-0035.c.noite.phi.smt2            377.69   \n",
       "59      0.99  ldv-cat-0059  ldv-cat-0059.c.noite.phi.smt2           1487.27   \n",
       "27     18.14  ldv-cat-0027  ldv-cat-0027.c.noite.phi.smt2            221.11   \n",
       "32    929.93  ldv-cat-0032  ldv-cat-0032.c.noite.phi.smt2             92.46   \n",
       "36     13.59  ldv-cat-0036  ldv-cat-0036.c.noite.phi.smt2            809.23   \n",
       "45     32.25  ldv-cat-0045  ldv-cat-0045.c.noite.phi.smt2            652.36   \n",
       "24     27.45  ldv-cat-0024  ldv-cat-0024.i.noite.phi.smt2           1245.66   \n",
       "40      1.03  ldv-cat-0040  ldv-cat-0040.c.noite.phi.smt2            722.99   \n",
       "49     20.45  ldv-cat-0049  ldv-cat-0049.c.noite.phi.smt2            633.99   \n",
       "39      4.60  ldv-cat-0039  ldv-cat-0039.c.noite.phi.smt2            258.26   \n",
       "37     47.93  ldv-cat-0037  ldv-cat-0037.c.noite.phi.smt2            187.59   \n",
       "46     50.98  ldv-cat-0046  ldv-cat-0046.i.noite.phi.smt2            141.68   \n",
       "65      2.64  ldv-cat-0065  ldv-cat-0065.c.noite.phi.smt2            694.18   \n",
       "58     28.28  ldv-cat-0058  ldv-cat-0058.c.noite.phi.smt2           3675.44   \n",
       "\n",
       "    memory_noite status_noite  time_noite  \n",
       "1           3.01        unsat        0.01  \n",
       "2           3.13        unsat        0.01  \n",
       "3           3.01        unsat        0.01  \n",
       "4           3.14        unsat        0.01  \n",
       "5           3.43        unsat        0.01  \n",
       "6           3.45        unsat        0.01  \n",
       "7           3.97        unsat        0.01  \n",
       "8           5.34        unsat        0.03  \n",
       "25         16.77        unsat        0.11  \n",
       "11         16.74        unsat        0.57  \n",
       "12         16.74        unsat        0.58  \n",
       "13         12.81        unsat        0.65  \n",
       "10         10.80          sat        0.92  \n",
       "9           7.31          sat        1.03  \n",
       "14         17.97        unsat        1.48  \n",
       "87        292.17        unsat        2.28  \n",
       "17         70.14        unsat        2.32  \n",
       "18         18.86        unsat        2.98  \n",
       "20         69.06        unsat        3.09  \n",
       "22         20.57        unsat        3.33  \n",
       "16         13.27          sat        3.81  \n",
       "23         34.07          sat        5.18  \n",
       "29         51.73        unsat        6.43  \n",
       "15         73.94        unsat        7.20  \n",
       "48         66.30        unsat        7.48  \n",
       "26        279.38        unsat        8.25  \n",
       "21         11.09          sat        8.55  \n",
       "19         21.33        unsat        8.75  \n",
       "28         46.03        unsat        9.30  \n",
       "33        282.42        unsat       10.51  \n",
       "62        246.89        unsat       11.12  \n",
       "52         70.26          sat       12.11  \n",
       "30         51.16        unsat       12.92  \n",
       "31         21.42          sat       14.14  \n",
       "35         93.92        unsat       17.40  \n",
       "59        349.20        unsat       19.12  \n",
       "27         46.92          sat       19.93  \n",
       "32         24.91          sat       21.06  \n",
       "36        176.17        unsat       21.41  \n",
       "45        164.78        unsat       21.89  \n",
       "24        276.50        unsat       22.54  \n",
       "40        144.97        unsat       23.82  \n",
       "49        154.50        unsat       28.41  \n",
       "39         73.39        unsat       32.30  \n",
       "37         59.85          sat       32.70  \n",
       "46         33.38          sat       42.04  \n",
       "65        237.79        unsat       43.34  \n",
       "58        755.01        unsat       46.00  "
      ]
     },
     "execution_count": 44,
     "metadata": {},
     "output_type": "execute_result"
    }
   ],
   "source": [
    "phi.query('time_noite < 50').sort_values('time_noite')"
   ]
  },
  {
   "cell_type": "code",
   "execution_count": null,
   "metadata": {},
   "outputs": [],
   "source": []
  },
  {
   "cell_type": "code",
   "execution_count": null,
   "metadata": {},
   "outputs": [],
   "source": []
  },
  {
   "cell_type": "code",
   "execution_count": null,
   "metadata": {},
   "outputs": [],
   "source": []
  },
  {
   "cell_type": "code",
   "execution_count": null,
   "metadata": {},
   "outputs": [],
   "source": []
  },
  {
   "cell_type": "code",
   "execution_count": null,
   "metadata": {},
   "outputs": [],
   "source": []
  },
  {
   "cell_type": "code",
   "execution_count": null,
   "metadata": {},
   "outputs": [],
   "source": []
  },
  {
   "cell_type": "code",
   "execution_count": null,
   "metadata": {},
   "outputs": [],
   "source": []
  }
 ],
 "metadata": {
  "kernelspec": {
   "display_name": "Python 3",
   "language": "python",
   "name": "python3"
  },
  "language_info": {
   "codemirror_mode": {
    "name": "ipython",
    "version": 3
   },
   "file_extension": ".py",
   "mimetype": "text/x-python",
   "name": "python",
   "nbconvert_exporter": "python",
   "pygments_lexer": "ipython3",
   "version": "3.7.4"
  }
 },
 "nbformat": 4,
 "nbformat_minor": 2
}
