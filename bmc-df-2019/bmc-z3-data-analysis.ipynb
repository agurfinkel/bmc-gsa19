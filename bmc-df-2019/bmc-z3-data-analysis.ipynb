{
 "cells": [
  {
   "cell_type": "markdown",
   "metadata": {},
   "source": [
    "# Analysis of BMC solving with Z3\n",
    "\n",
    "Pandas cheatsheet: https://pandas.pydata.org/Pandas_Cheat_Sheet.pdf\n",
    "\n",
    "There are 4 different encoding parameters:\n",
    "\n",
    "  - **phi** whether the VC is encoded with phi-assignments. This is traditional encoding for `SeaHorn`\n",
    "  - **gsa** whether the program is converted to Gated SSA before VCGen. In this case, there are no phi-assignments\n",
    "  - **ite** whether phi-nodes are encoded with ite-expressions\n",
    "  - **noite** whether phi-nodes are encoded with disjunction and equalities (traditional for `SeaHorn`)\n",
    "  \n",
    "Four combinations are considered: {ite, noite} x {phi, gsa}. \n",
    "The combination (ite, phi) is traditional for `SeaHorn`. The combination (ite, gsa) is meaningles since under gsa, there are no phi-nodes, and ite has no effect. Yet, the result show some difference between (ite, gsa) and (noite, gsa). This needs to be investigated further. Possibly the difference is due to usual SAT-solver non-determinism."
   ]
  },
  {
   "cell_type": "code",
   "execution_count": 25,
   "metadata": {},
   "outputs": [],
   "source": [
    "import pandas as pd\n",
    "import numpy as np\n",
    "import matplotlib.pyplot as plt "
   ]
  },
  {
   "cell_type": "code",
   "execution_count": 26,
   "metadata": {},
   "outputs": [
    {
     "data": {
      "text/html": [
       "<div>\n",
       "<style scoped>\n",
       "    .dataframe tbody tr th:only-of-type {\n",
       "        vertical-align: middle;\n",
       "    }\n",
       "\n",
       "    .dataframe tbody tr th {\n",
       "        vertical-align: top;\n",
       "    }\n",
       "\n",
       "    .dataframe thead th {\n",
       "        text-align: right;\n",
       "    }\n",
       "</style>\n",
       "<table border=\"1\" class=\"dataframe\">\n",
       "  <thead>\n",
       "    <tr style=\"text-align: right;\">\n",
       "      <th></th>\n",
       "      <th>index</th>\n",
       "      <th>max_memory</th>\n",
       "      <th>memory</th>\n",
       "      <th>status</th>\n",
       "      <th>time</th>\n",
       "    </tr>\n",
       "  </thead>\n",
       "  <tbody>\n",
       "    <tr>\n",
       "      <td>0</td>\n",
       "      <td>ldv-cat-0000.c.ite.gsa.smt2</td>\n",
       "      <td>0.09</td>\n",
       "      <td>0.09</td>\n",
       "      <td>unknown</td>\n",
       "      <td>900.00</td>\n",
       "    </tr>\n",
       "    <tr>\n",
       "      <td>1</td>\n",
       "      <td>ldv-cat-0000.c.ite.phi.smt2</td>\n",
       "      <td>0.09</td>\n",
       "      <td>0.09</td>\n",
       "      <td>unknown</td>\n",
       "      <td>900.00</td>\n",
       "    </tr>\n",
       "    <tr>\n",
       "      <td>2</td>\n",
       "      <td>ldv-cat-0000.c.noite.gsa.smt2</td>\n",
       "      <td>0.09</td>\n",
       "      <td>0.09</td>\n",
       "      <td>unknown</td>\n",
       "      <td>900.00</td>\n",
       "    </tr>\n",
       "    <tr>\n",
       "      <td>3</td>\n",
       "      <td>ldv-cat-0000.c.noite.phi.smt2</td>\n",
       "      <td>0.09</td>\n",
       "      <td>0.09</td>\n",
       "      <td>unknown</td>\n",
       "      <td>900.00</td>\n",
       "    </tr>\n",
       "    <tr>\n",
       "      <td>4</td>\n",
       "      <td>ldv-cat-0001.c.ite.gsa.smt2</td>\n",
       "      <td>3.31</td>\n",
       "      <td>3.01</td>\n",
       "      <td>unsat</td>\n",
       "      <td>0.01</td>\n",
       "    </tr>\n",
       "  </tbody>\n",
       "</table>\n",
       "</div>"
      ],
      "text/plain": [
       "                           index  max_memory  memory   status    time\n",
       "0    ldv-cat-0000.c.ite.gsa.smt2        0.09    0.09  unknown  900.00\n",
       "1    ldv-cat-0000.c.ite.phi.smt2        0.09    0.09  unknown  900.00\n",
       "2  ldv-cat-0000.c.noite.gsa.smt2        0.09    0.09  unknown  900.00\n",
       "3  ldv-cat-0000.c.noite.phi.smt2        0.09    0.09  unknown  900.00\n",
       "4    ldv-cat-0001.c.ite.gsa.smt2        3.31    3.01    unsat    0.01"
      ]
     },
     "execution_count": 26,
     "metadata": {},
     "output_type": "execute_result"
    }
   ],
   "source": [
    "fname='bmc-z3-sep30.csv'\n",
    "df = pd.read_csv(fname)\n",
    "# move timeout and unknown to maximal time\n",
    "df['time'].fillna(value=900, inplace=True)\n",
    "# show a snapshot of data for visual validation\n",
    "df.head()"
   ]
  },
  {
   "cell_type": "code",
   "execution_count": 27,
   "metadata": {},
   "outputs": [
    {
     "data": {
      "text/html": [
       "<div>\n",
       "<style scoped>\n",
       "    .dataframe tbody tr th:only-of-type {\n",
       "        vertical-align: middle;\n",
       "    }\n",
       "\n",
       "    .dataframe tbody tr th {\n",
       "        vertical-align: top;\n",
       "    }\n",
       "\n",
       "    .dataframe thead th {\n",
       "        text-align: right;\n",
       "    }\n",
       "</style>\n",
       "<table border=\"1\" class=\"dataframe\">\n",
       "  <thead>\n",
       "    <tr style=\"text-align: right;\">\n",
       "      <th></th>\n",
       "      <th>index</th>\n",
       "    </tr>\n",
       "    <tr>\n",
       "      <th>status</th>\n",
       "      <th></th>\n",
       "    </tr>\n",
       "  </thead>\n",
       "  <tbody>\n",
       "    <tr>\n",
       "      <td>memout</td>\n",
       "      <td>2</td>\n",
       "    </tr>\n",
       "    <tr>\n",
       "      <td>sat</td>\n",
       "      <td>102</td>\n",
       "    </tr>\n",
       "    <tr>\n",
       "      <td>timeout</td>\n",
       "      <td>89</td>\n",
       "    </tr>\n",
       "    <tr>\n",
       "      <td>unknown</td>\n",
       "      <td>11</td>\n",
       "    </tr>\n",
       "    <tr>\n",
       "      <td>unsat</td>\n",
       "      <td>190</td>\n",
       "    </tr>\n",
       "  </tbody>\n",
       "</table>\n",
       "</div>"
      ],
      "text/plain": [
       "         index\n",
       "status        \n",
       "memout       2\n",
       "sat        102\n",
       "timeout     89\n",
       "unknown     11\n",
       "unsat      190"
      ]
     },
     "execution_count": 27,
     "metadata": {},
     "output_type": "execute_result"
    }
   ],
   "source": [
    "# quick overview of solved/unsolved instances\n",
    "df[['status','index']].groupby(['status']).count()"
   ]
  },
  {
   "cell_type": "code",
   "execution_count": 28,
   "metadata": {},
   "outputs": [
    {
     "data": {
      "text/html": [
       "<div>\n",
       "<style scoped>\n",
       "    .dataframe tbody tr th:only-of-type {\n",
       "        vertical-align: middle;\n",
       "    }\n",
       "\n",
       "    .dataframe tbody tr th {\n",
       "        vertical-align: top;\n",
       "    }\n",
       "\n",
       "    .dataframe thead th {\n",
       "        text-align: right;\n",
       "    }\n",
       "</style>\n",
       "<table border=\"1\" class=\"dataframe\">\n",
       "  <thead>\n",
       "    <tr style=\"text-align: right;\">\n",
       "      <th></th>\n",
       "      <th>index</th>\n",
       "      <th>max_memory</th>\n",
       "      <th>memory</th>\n",
       "      <th>status</th>\n",
       "      <th>time</th>\n",
       "    </tr>\n",
       "  </thead>\n",
       "  <tbody>\n",
       "    <tr>\n",
       "      <td>0</td>\n",
       "      <td>ldv-cat-0000.c.ite.gsa.smt2</td>\n",
       "      <td>0.09</td>\n",
       "      <td>0.09</td>\n",
       "      <td>unknown</td>\n",
       "      <td>900.0</td>\n",
       "    </tr>\n",
       "    <tr>\n",
       "      <td>1</td>\n",
       "      <td>ldv-cat-0000.c.ite.phi.smt2</td>\n",
       "      <td>0.09</td>\n",
       "      <td>0.09</td>\n",
       "      <td>unknown</td>\n",
       "      <td>900.0</td>\n",
       "    </tr>\n",
       "    <tr>\n",
       "      <td>2</td>\n",
       "      <td>ldv-cat-0000.c.noite.gsa.smt2</td>\n",
       "      <td>0.09</td>\n",
       "      <td>0.09</td>\n",
       "      <td>unknown</td>\n",
       "      <td>900.0</td>\n",
       "    </tr>\n",
       "    <tr>\n",
       "      <td>3</td>\n",
       "      <td>ldv-cat-0000.c.noite.phi.smt2</td>\n",
       "      <td>0.09</td>\n",
       "      <td>0.09</td>\n",
       "      <td>unknown</td>\n",
       "      <td>900.0</td>\n",
       "    </tr>\n",
       "    <tr>\n",
       "      <td>332</td>\n",
       "      <td>ldv-cat-0083.c.ite.phi.smt2</td>\n",
       "      <td>0.09</td>\n",
       "      <td>0.09</td>\n",
       "      <td>unknown</td>\n",
       "      <td>900.0</td>\n",
       "    </tr>\n",
       "    <tr>\n",
       "      <td>334</td>\n",
       "      <td>ldv-cat-0083.c.noite.phi.smt2</td>\n",
       "      <td>0.09</td>\n",
       "      <td>0.09</td>\n",
       "      <td>unknown</td>\n",
       "      <td>900.0</td>\n",
       "    </tr>\n",
       "    <tr>\n",
       "      <td>335</td>\n",
       "      <td>ldv-cat-0084.c.ite.gsa.smt2</td>\n",
       "      <td>0.09</td>\n",
       "      <td>0.09</td>\n",
       "      <td>unknown</td>\n",
       "      <td>900.0</td>\n",
       "    </tr>\n",
       "    <tr>\n",
       "      <td>336</td>\n",
       "      <td>ldv-cat-0084.c.ite.phi.smt2</td>\n",
       "      <td>0.09</td>\n",
       "      <td>0.09</td>\n",
       "      <td>unknown</td>\n",
       "      <td>900.0</td>\n",
       "    </tr>\n",
       "    <tr>\n",
       "      <td>337</td>\n",
       "      <td>ldv-cat-0084.c.noite.gsa.smt2</td>\n",
       "      <td>0.09</td>\n",
       "      <td>0.09</td>\n",
       "      <td>unknown</td>\n",
       "      <td>900.0</td>\n",
       "    </tr>\n",
       "    <tr>\n",
       "      <td>338</td>\n",
       "      <td>ldv-cat-0084.c.noite.phi.smt2</td>\n",
       "      <td>0.09</td>\n",
       "      <td>0.09</td>\n",
       "      <td>unknown</td>\n",
       "      <td>900.0</td>\n",
       "    </tr>\n",
       "    <tr>\n",
       "      <td>392</td>\n",
       "      <td>ldv-cat-0098.i.noite.gsa.smt2</td>\n",
       "      <td>0.09</td>\n",
       "      <td>0.09</td>\n",
       "      <td>unknown</td>\n",
       "      <td>900.0</td>\n",
       "    </tr>\n",
       "  </tbody>\n",
       "</table>\n",
       "</div>"
      ],
      "text/plain": [
       "                             index  max_memory  memory   status   time\n",
       "0      ldv-cat-0000.c.ite.gsa.smt2        0.09    0.09  unknown  900.0\n",
       "1      ldv-cat-0000.c.ite.phi.smt2        0.09    0.09  unknown  900.0\n",
       "2    ldv-cat-0000.c.noite.gsa.smt2        0.09    0.09  unknown  900.0\n",
       "3    ldv-cat-0000.c.noite.phi.smt2        0.09    0.09  unknown  900.0\n",
       "332    ldv-cat-0083.c.ite.phi.smt2        0.09    0.09  unknown  900.0\n",
       "334  ldv-cat-0083.c.noite.phi.smt2        0.09    0.09  unknown  900.0\n",
       "335    ldv-cat-0084.c.ite.gsa.smt2        0.09    0.09  unknown  900.0\n",
       "336    ldv-cat-0084.c.ite.phi.smt2        0.09    0.09  unknown  900.0\n",
       "337  ldv-cat-0084.c.noite.gsa.smt2        0.09    0.09  unknown  900.0\n",
       "338  ldv-cat-0084.c.noite.phi.smt2        0.09    0.09  unknown  900.0\n",
       "392  ldv-cat-0098.i.noite.gsa.smt2        0.09    0.09  unknown  900.0"
      ]
     },
     "execution_count": 28,
     "metadata": {},
     "output_type": "execute_result"
    }
   ],
   "source": [
    "# find all unknown results. Usually means that something went wrong, not just timeout\n",
    "df.query('status == \"unknown\"')"
   ]
  },
  {
   "cell_type": "code",
   "execution_count": 29,
   "metadata": {},
   "outputs": [],
   "source": [
    "# split results into 4 groups\n",
    "def flt_index(df, s):\n",
    "    return df[df['index'].str.contains(s)]\n",
    "\n",
    "noite_gsa = flt_index(df, r'\\.noite.gsa')\n",
    "ite_gsa = flt_index(df, r'\\.ite.gsa')\n",
    "ite_phi = flt_index(df, r'\\.ite.phi')\n",
    "noite_phi = flt_index(df, r'\\.noite.phi')"
   ]
  },
  {
   "cell_type": "markdown",
   "metadata": {},
   "source": [
    "## Solved / Unsolved for each group"
   ]
  },
  {
   "cell_type": "code",
   "execution_count": 30,
   "metadata": {},
   "outputs": [
    {
     "data": {
      "text/html": [
       "<div>\n",
       "<style scoped>\n",
       "    .dataframe tbody tr th:only-of-type {\n",
       "        vertical-align: middle;\n",
       "    }\n",
       "\n",
       "    .dataframe tbody tr th {\n",
       "        vertical-align: top;\n",
       "    }\n",
       "\n",
       "    .dataframe thead th {\n",
       "        text-align: right;\n",
       "    }\n",
       "</style>\n",
       "<table border=\"1\" class=\"dataframe\">\n",
       "  <thead>\n",
       "    <tr style=\"text-align: right;\">\n",
       "      <th></th>\n",
       "      <th>index</th>\n",
       "      <th>max_memory</th>\n",
       "      <th>memory</th>\n",
       "      <th>time</th>\n",
       "    </tr>\n",
       "    <tr>\n",
       "      <th>status</th>\n",
       "      <th></th>\n",
       "      <th></th>\n",
       "      <th></th>\n",
       "      <th></th>\n",
       "    </tr>\n",
       "  </thead>\n",
       "  <tbody>\n",
       "    <tr>\n",
       "      <td>memout</td>\n",
       "      <td>1</td>\n",
       "      <td>0</td>\n",
       "      <td>0</td>\n",
       "      <td>1</td>\n",
       "    </tr>\n",
       "    <tr>\n",
       "      <td>sat</td>\n",
       "      <td>21</td>\n",
       "      <td>21</td>\n",
       "      <td>21</td>\n",
       "      <td>21</td>\n",
       "    </tr>\n",
       "    <tr>\n",
       "      <td>timeout</td>\n",
       "      <td>26</td>\n",
       "      <td>26</td>\n",
       "      <td>26</td>\n",
       "      <td>26</td>\n",
       "    </tr>\n",
       "    <tr>\n",
       "      <td>unknown</td>\n",
       "      <td>3</td>\n",
       "      <td>3</td>\n",
       "      <td>3</td>\n",
       "      <td>3</td>\n",
       "    </tr>\n",
       "    <tr>\n",
       "      <td>unsat</td>\n",
       "      <td>48</td>\n",
       "      <td>48</td>\n",
       "      <td>48</td>\n",
       "      <td>48</td>\n",
       "    </tr>\n",
       "  </tbody>\n",
       "</table>\n",
       "</div>"
      ],
      "text/plain": [
       "         index  max_memory  memory  time\n",
       "status                                  \n",
       "memout       1           0       0     1\n",
       "sat         21          21      21    21\n",
       "timeout     26          26      26    26\n",
       "unknown      3           3       3     3\n",
       "unsat       48          48      48    48"
      ]
     },
     "execution_count": 30,
     "metadata": {},
     "output_type": "execute_result"
    }
   ],
   "source": [
    "noite_gsa.groupby('status').count()"
   ]
  },
  {
   "cell_type": "code",
   "execution_count": 31,
   "metadata": {},
   "outputs": [
    {
     "data": {
      "text/html": [
       "<div>\n",
       "<style scoped>\n",
       "    .dataframe tbody tr th:only-of-type {\n",
       "        vertical-align: middle;\n",
       "    }\n",
       "\n",
       "    .dataframe tbody tr th {\n",
       "        vertical-align: top;\n",
       "    }\n",
       "\n",
       "    .dataframe thead th {\n",
       "        text-align: right;\n",
       "    }\n",
       "</style>\n",
       "<table border=\"1\" class=\"dataframe\">\n",
       "  <thead>\n",
       "    <tr style=\"text-align: right;\">\n",
       "      <th></th>\n",
       "      <th>index</th>\n",
       "      <th>max_memory</th>\n",
       "      <th>memory</th>\n",
       "      <th>time</th>\n",
       "    </tr>\n",
       "    <tr>\n",
       "      <th>status</th>\n",
       "      <th></th>\n",
       "      <th></th>\n",
       "      <th></th>\n",
       "      <th></th>\n",
       "    </tr>\n",
       "  </thead>\n",
       "  <tbody>\n",
       "    <tr>\n",
       "      <td>memout</td>\n",
       "      <td>1</td>\n",
       "      <td>0</td>\n",
       "      <td>0</td>\n",
       "      <td>1</td>\n",
       "    </tr>\n",
       "    <tr>\n",
       "      <td>sat</td>\n",
       "      <td>21</td>\n",
       "      <td>21</td>\n",
       "      <td>21</td>\n",
       "      <td>21</td>\n",
       "    </tr>\n",
       "    <tr>\n",
       "      <td>timeout</td>\n",
       "      <td>25</td>\n",
       "      <td>25</td>\n",
       "      <td>25</td>\n",
       "      <td>25</td>\n",
       "    </tr>\n",
       "    <tr>\n",
       "      <td>unknown</td>\n",
       "      <td>2</td>\n",
       "      <td>2</td>\n",
       "      <td>2</td>\n",
       "      <td>2</td>\n",
       "    </tr>\n",
       "    <tr>\n",
       "      <td>unsat</td>\n",
       "      <td>48</td>\n",
       "      <td>48</td>\n",
       "      <td>48</td>\n",
       "      <td>48</td>\n",
       "    </tr>\n",
       "  </tbody>\n",
       "</table>\n",
       "</div>"
      ],
      "text/plain": [
       "         index  max_memory  memory  time\n",
       "status                                  \n",
       "memout       1           0       0     1\n",
       "sat         21          21      21    21\n",
       "timeout     25          25      25    25\n",
       "unknown      2           2       2     2\n",
       "unsat       48          48      48    48"
      ]
     },
     "execution_count": 31,
     "metadata": {},
     "output_type": "execute_result"
    }
   ],
   "source": [
    "ite_gsa.groupby('status').count()"
   ]
  },
  {
   "cell_type": "code",
   "execution_count": 32,
   "metadata": {},
   "outputs": [
    {
     "data": {
      "text/html": [
       "<div>\n",
       "<style scoped>\n",
       "    .dataframe tbody tr th:only-of-type {\n",
       "        vertical-align: middle;\n",
       "    }\n",
       "\n",
       "    .dataframe tbody tr th {\n",
       "        vertical-align: top;\n",
       "    }\n",
       "\n",
       "    .dataframe thead th {\n",
       "        text-align: right;\n",
       "    }\n",
       "</style>\n",
       "<table border=\"1\" class=\"dataframe\">\n",
       "  <thead>\n",
       "    <tr style=\"text-align: right;\">\n",
       "      <th></th>\n",
       "      <th>index</th>\n",
       "      <th>max_memory</th>\n",
       "      <th>memory</th>\n",
       "      <th>time</th>\n",
       "    </tr>\n",
       "    <tr>\n",
       "      <th>status</th>\n",
       "      <th></th>\n",
       "      <th></th>\n",
       "      <th></th>\n",
       "      <th></th>\n",
       "    </tr>\n",
       "  </thead>\n",
       "  <tbody>\n",
       "    <tr>\n",
       "      <td>sat</td>\n",
       "      <td>26</td>\n",
       "      <td>26</td>\n",
       "      <td>26</td>\n",
       "      <td>26</td>\n",
       "    </tr>\n",
       "    <tr>\n",
       "      <td>timeout</td>\n",
       "      <td>23</td>\n",
       "      <td>23</td>\n",
       "      <td>23</td>\n",
       "      <td>23</td>\n",
       "    </tr>\n",
       "    <tr>\n",
       "      <td>unknown</td>\n",
       "      <td>3</td>\n",
       "      <td>3</td>\n",
       "      <td>3</td>\n",
       "      <td>3</td>\n",
       "    </tr>\n",
       "    <tr>\n",
       "      <td>unsat</td>\n",
       "      <td>47</td>\n",
       "      <td>47</td>\n",
       "      <td>47</td>\n",
       "      <td>47</td>\n",
       "    </tr>\n",
       "  </tbody>\n",
       "</table>\n",
       "</div>"
      ],
      "text/plain": [
       "         index  max_memory  memory  time\n",
       "status                                  \n",
       "sat         26          26      26    26\n",
       "timeout     23          23      23    23\n",
       "unknown      3           3       3     3\n",
       "unsat       47          47      47    47"
      ]
     },
     "execution_count": 32,
     "metadata": {},
     "output_type": "execute_result"
    }
   ],
   "source": [
    "ite_phi.groupby('status').count()"
   ]
  },
  {
   "cell_type": "code",
   "execution_count": 33,
   "metadata": {},
   "outputs": [
    {
     "data": {
      "text/html": [
       "<div>\n",
       "<style scoped>\n",
       "    .dataframe tbody tr th:only-of-type {\n",
       "        vertical-align: middle;\n",
       "    }\n",
       "\n",
       "    .dataframe tbody tr th {\n",
       "        vertical-align: top;\n",
       "    }\n",
       "\n",
       "    .dataframe thead th {\n",
       "        text-align: right;\n",
       "    }\n",
       "</style>\n",
       "<table border=\"1\" class=\"dataframe\">\n",
       "  <thead>\n",
       "    <tr style=\"text-align: right;\">\n",
       "      <th></th>\n",
       "      <th>index</th>\n",
       "      <th>max_memory</th>\n",
       "      <th>memory</th>\n",
       "      <th>time</th>\n",
       "    </tr>\n",
       "    <tr>\n",
       "      <th>status</th>\n",
       "      <th></th>\n",
       "      <th></th>\n",
       "      <th></th>\n",
       "      <th></th>\n",
       "    </tr>\n",
       "  </thead>\n",
       "  <tbody>\n",
       "    <tr>\n",
       "      <td>sat</td>\n",
       "      <td>34</td>\n",
       "      <td>34</td>\n",
       "      <td>34</td>\n",
       "      <td>34</td>\n",
       "    </tr>\n",
       "    <tr>\n",
       "      <td>timeout</td>\n",
       "      <td>15</td>\n",
       "      <td>15</td>\n",
       "      <td>15</td>\n",
       "      <td>15</td>\n",
       "    </tr>\n",
       "    <tr>\n",
       "      <td>unknown</td>\n",
       "      <td>3</td>\n",
       "      <td>3</td>\n",
       "      <td>3</td>\n",
       "      <td>3</td>\n",
       "    </tr>\n",
       "    <tr>\n",
       "      <td>unsat</td>\n",
       "      <td>47</td>\n",
       "      <td>47</td>\n",
       "      <td>47</td>\n",
       "      <td>47</td>\n",
       "    </tr>\n",
       "  </tbody>\n",
       "</table>\n",
       "</div>"
      ],
      "text/plain": [
       "         index  max_memory  memory  time\n",
       "status                                  \n",
       "sat         34          34      34    34\n",
       "timeout     15          15      15    15\n",
       "unknown      3           3       3     3\n",
       "unsat       47          47      47    47"
      ]
     },
     "execution_count": 33,
     "metadata": {},
     "output_type": "execute_result"
    }
   ],
   "source": [
    "noite_phi.groupby('status').count()"
   ]
  },
  {
   "cell_type": "code",
   "execution_count": 34,
   "metadata": {},
   "outputs": [],
   "source": [
    "# create a file column to join different result sets\n",
    "def index_to_file(df):\n",
    "    return df.assign(file=df['index'].str.extract(r'([^.]+)'))\n",
    "noite_phi = index_to_file(noite_phi)\n",
    "ite_phi = index_to_file(ite_phi)\n",
    "noite_gsa = index_to_file(noite_gsa)\n",
    "ite_gsa = index_to_file(ite_gsa)"
   ]
  },
  {
   "cell_type": "code",
   "execution_count": 35,
   "metadata": {},
   "outputs": [],
   "source": [
    "# join on file\n",
    "phi = ite_phi.merge(noite_phi, on='file', suffixes=('_ite', '_noite'))"
   ]
  },
  {
   "cell_type": "code",
   "execution_count": 36,
   "metadata": {},
   "outputs": [
    {
     "data": {
      "text/html": [
       "<div>\n",
       "<style scoped>\n",
       "    .dataframe tbody tr th:only-of-type {\n",
       "        vertical-align: middle;\n",
       "    }\n",
       "\n",
       "    .dataframe tbody tr th {\n",
       "        vertical-align: top;\n",
       "    }\n",
       "\n",
       "    .dataframe thead th {\n",
       "        text-align: right;\n",
       "    }\n",
       "</style>\n",
       "<table border=\"1\" class=\"dataframe\">\n",
       "  <thead>\n",
       "    <tr style=\"text-align: right;\">\n",
       "      <th></th>\n",
       "      <th></th>\n",
       "      <th>file</th>\n",
       "    </tr>\n",
       "    <tr>\n",
       "      <th>status_ite</th>\n",
       "      <th>status_noite</th>\n",
       "      <th></th>\n",
       "    </tr>\n",
       "  </thead>\n",
       "  <tbody>\n",
       "    <tr>\n",
       "      <td rowspan=\"2\" valign=\"top\">sat</td>\n",
       "      <td>sat</td>\n",
       "      <td>25</td>\n",
       "    </tr>\n",
       "    <tr>\n",
       "      <td>timeout</td>\n",
       "      <td>1</td>\n",
       "    </tr>\n",
       "    <tr>\n",
       "      <td rowspan=\"2\" valign=\"top\">timeout</td>\n",
       "      <td>sat</td>\n",
       "      <td>9</td>\n",
       "    </tr>\n",
       "    <tr>\n",
       "      <td>timeout</td>\n",
       "      <td>14</td>\n",
       "    </tr>\n",
       "    <tr>\n",
       "      <td>unknown</td>\n",
       "      <td>unknown</td>\n",
       "      <td>3</td>\n",
       "    </tr>\n",
       "    <tr>\n",
       "      <td>unsat</td>\n",
       "      <td>unsat</td>\n",
       "      <td>47</td>\n",
       "    </tr>\n",
       "  </tbody>\n",
       "</table>\n",
       "</div>"
      ],
      "text/plain": [
       "                         file\n",
       "status_ite status_noite      \n",
       "sat        sat             25\n",
       "           timeout          1\n",
       "timeout    sat              9\n",
       "           timeout         14\n",
       "unknown    unknown          3\n",
       "unsat      unsat           47"
      ]
     },
     "execution_count": 36,
     "metadata": {},
     "output_type": "execute_result"
    }
   ],
   "source": [
    "# solved / unsolved based on ite parameter\n",
    "phi.groupby(['status_ite', 'status_noite']).count()[['file']]"
   ]
  },
  {
   "cell_type": "code",
   "execution_count": 37,
   "metadata": {},
   "outputs": [
    {
     "data": {
      "text/html": [
       "<div>\n",
       "<style scoped>\n",
       "    .dataframe tbody tr th:only-of-type {\n",
       "        vertical-align: middle;\n",
       "    }\n",
       "\n",
       "    .dataframe tbody tr th {\n",
       "        vertical-align: top;\n",
       "    }\n",
       "\n",
       "    .dataframe thead th {\n",
       "        text-align: right;\n",
       "    }\n",
       "</style>\n",
       "<table border=\"1\" class=\"dataframe\">\n",
       "  <thead>\n",
       "    <tr style=\"text-align: right;\">\n",
       "      <th></th>\n",
       "      <th></th>\n",
       "      <th>file</th>\n",
       "    </tr>\n",
       "    <tr>\n",
       "      <th>status_ite</th>\n",
       "      <th>status_noite</th>\n",
       "      <th></th>\n",
       "    </tr>\n",
       "  </thead>\n",
       "  <tbody>\n",
       "    <tr>\n",
       "      <td>memout</td>\n",
       "      <td>memout</td>\n",
       "      <td>1</td>\n",
       "    </tr>\n",
       "    <tr>\n",
       "      <td>sat</td>\n",
       "      <td>sat</td>\n",
       "      <td>21</td>\n",
       "    </tr>\n",
       "    <tr>\n",
       "      <td>timeout</td>\n",
       "      <td>timeout</td>\n",
       "      <td>25</td>\n",
       "    </tr>\n",
       "    <tr>\n",
       "      <td>unknown</td>\n",
       "      <td>unknown</td>\n",
       "      <td>2</td>\n",
       "    </tr>\n",
       "    <tr>\n",
       "      <td>unsat</td>\n",
       "      <td>unsat</td>\n",
       "      <td>48</td>\n",
       "    </tr>\n",
       "  </tbody>\n",
       "</table>\n",
       "</div>"
      ],
      "text/plain": [
       "                         file\n",
       "status_ite status_noite      \n",
       "memout     memout           1\n",
       "sat        sat             21\n",
       "timeout    timeout         25\n",
       "unknown    unknown          2\n",
       "unsat      unsat           48"
      ]
     },
     "execution_count": 37,
     "metadata": {},
     "output_type": "execute_result"
    }
   ],
   "source": [
    "# merge gsa sets and show solved / unsolved\n",
    "gsa = ite_gsa.merge(noite_gsa, on='file', suffixes=('_ite', '_noite'))\n",
    "gsa.groupby(['status_ite', 'status_noite']).count()[['file']]"
   ]
  },
  {
   "cell_type": "code",
   "execution_count": 38,
   "metadata": {},
   "outputs": [
    {
     "name": "stderr",
     "output_type": "stream",
     "text": [
      "'c' argument looks like a single numeric RGB or RGBA sequence, which should be avoided as value-mapping will have precedence in case its length matches with 'x' & 'y'.  Please use a 2-D array with a single row if you really want to specify the same RGB or RGBA value for all points.\n",
      "'c' argument looks like a single numeric RGB or RGBA sequence, which should be avoided as value-mapping will have precedence in case its length matches with 'x' & 'y'.  Please use a 2-D array with a single row if you really want to specify the same RGB or RGBA value for all points.\n"
     ]
    },
    {
     "data": {
      "text/plain": [
       "<matplotlib.axes._subplots.AxesSubplot at 0x110e58350>"
      ]
     },
     "execution_count": 38,
     "metadata": {},
     "output_type": "execute_result"
    },
    {
     "data": {
      "image/png": "[encoded data removed]",
      "text/plain": [
       "<Figure size 1440x720 with 2 Axes>"
      ]
     },
     "metadata": {},
     "output_type": "display_data"
    }
   ],
   "source": [
    "# set default figure size for plots to be 7 by 7 inches\n",
    "plt.rcParams[\"figure.figsize\"] = (7, 7)\n",
    "# create a new figure 20 by 10 inches wide\n",
    "fig = plt.figure(figsize=(20,10))\n",
    "# break figure into two sub-plots\n",
    "# ax1: the number '121' is parsed as plot 1 of 1x2 grid\n",
    "ax1 = plt.subplot(121)\n",
    "# ax2: the number '122' is parsed as plot 2 of 1x2 grid\n",
    "ax2 = plt.subplot(122)\n",
    "# plot a diagonal line to make scatter plots easier to read\n",
    "x = np.linspace(-5, 950, 2)\n",
    "ax1.plot(x, x, color='red')\n",
    "ax2.plot(x, x, color='red')\n",
    "# plot succeeded instances\n",
    "gsa.query('status_ite==\"sat\" or status_ite==\"unsat\"').plot.scatter(x='time_ite', y='time_noite', ax=ax1, title='GSA')\n",
    "phi.query('status_noite==\"sat\" or status_ite==\"unsat\"').plot.scatter(x='time_ite', y='time_noite', ax=ax2, title='PHI')"
   ]
  },
  {
   "cell_type": "code",
   "execution_count": 39,
   "metadata": {},
   "outputs": [
    {
     "name": "stderr",
     "output_type": "stream",
     "text": [
      "'c' argument looks like a single numeric RGB or RGBA sequence, which should be avoided as value-mapping will have precedence in case its length matches with 'x' & 'y'.  Please use a 2-D array with a single row if you really want to specify the same RGB or RGBA value for all points.\n"
     ]
    },
    {
     "data": {
      "text/plain": [
       "[<matplotlib.lines.Line2D at 0x11be76490>]"
      ]
     },
     "execution_count": 39,
     "metadata": {},
     "output_type": "execute_result"
    },
    {
     "data": {
      "image/png": "[encoded data removed]",
      "text/plain": [
       "<Figure size 504x504 with 1 Axes>"
      ]
     },
     "metadata": {},
     "output_type": "display_data"
    }
   ],
   "source": [
    "# a single plot is easier to create\n",
    "ax = phi.query('status_noite==\"sat\"').plot.scatter(x='time_ite', y='time_noite')\n",
    "ax.plot(x, x, color='grey')"
   ]
  },
  {
   "cell_type": "code",
   "execution_count": 40,
   "metadata": {},
   "outputs": [
    {
     "data": {
      "text/html": [
       "<div>\n",
       "<style scoped>\n",
       "    .dataframe tbody tr th:only-of-type {\n",
       "        vertical-align: middle;\n",
       "    }\n",
       "\n",
       "    .dataframe tbody tr th {\n",
       "        vertical-align: top;\n",
       "    }\n",
       "\n",
       "    .dataframe thead tr th {\n",
       "        text-align: left;\n",
       "    }\n",
       "\n",
       "    .dataframe thead tr:last-of-type th {\n",
       "        text-align: right;\n",
       "    }\n",
       "</style>\n",
       "<table border=\"1\" class=\"dataframe\">\n",
       "  <thead>\n",
       "    <tr>\n",
       "      <th></th>\n",
       "      <th></th>\n",
       "      <th colspan=\"8\" halign=\"left\">time_ite</th>\n",
       "      <th colspan=\"8\" halign=\"left\">time_noite</th>\n",
       "    </tr>\n",
       "    <tr>\n",
       "      <th></th>\n",
       "      <th></th>\n",
       "      <th>count</th>\n",
       "      <th>mean</th>\n",
       "      <th>std</th>\n",
       "      <th>min</th>\n",
       "      <th>25%</th>\n",
       "      <th>50%</th>\n",
       "      <th>75%</th>\n",
       "      <th>max</th>\n",
       "      <th>count</th>\n",
       "      <th>mean</th>\n",
       "      <th>std</th>\n",
       "      <th>min</th>\n",
       "      <th>25%</th>\n",
       "      <th>50%</th>\n",
       "      <th>75%</th>\n",
       "      <th>max</th>\n",
       "    </tr>\n",
       "    <tr>\n",
       "      <th>status_ite</th>\n",
       "      <th>status_noite</th>\n",
       "      <th></th>\n",
       "      <th></th>\n",
       "      <th></th>\n",
       "      <th></th>\n",
       "      <th></th>\n",
       "      <th></th>\n",
       "      <th></th>\n",
       "      <th></th>\n",
       "      <th></th>\n",
       "      <th></th>\n",
       "      <th></th>\n",
       "      <th></th>\n",
       "      <th></th>\n",
       "      <th></th>\n",
       "      <th></th>\n",
       "      <th></th>\n",
       "    </tr>\n",
       "  </thead>\n",
       "  <tbody>\n",
       "    <tr>\n",
       "      <td rowspan=\"2\" valign=\"top\">sat</td>\n",
       "      <td>sat</td>\n",
       "      <td>25.0</td>\n",
       "      <td>117.251200</td>\n",
       "      <td>163.308958</td>\n",
       "      <td>0.28</td>\n",
       "      <td>10.180</td>\n",
       "      <td>47.930</td>\n",
       "      <td>186.340</td>\n",
       "      <td>554.74</td>\n",
       "      <td>25.0</td>\n",
       "      <td>150.931600</td>\n",
       "      <td>208.426704</td>\n",
       "      <td>0.92</td>\n",
       "      <td>14.140</td>\n",
       "      <td>63.49</td>\n",
       "      <td>185.880</td>\n",
       "      <td>852.80</td>\n",
       "    </tr>\n",
       "    <tr>\n",
       "      <td>timeout</td>\n",
       "      <td>1.0</td>\n",
       "      <td>716.620000</td>\n",
       "      <td>NaN</td>\n",
       "      <td>716.62</td>\n",
       "      <td>716.620</td>\n",
       "      <td>716.620</td>\n",
       "      <td>716.620</td>\n",
       "      <td>716.62</td>\n",
       "      <td>1.0</td>\n",
       "      <td>929.510000</td>\n",
       "      <td>NaN</td>\n",
       "      <td>929.51</td>\n",
       "      <td>929.510</td>\n",
       "      <td>929.51</td>\n",
       "      <td>929.510</td>\n",
       "      <td>929.51</td>\n",
       "    </tr>\n",
       "    <tr>\n",
       "      <td rowspan=\"2\" valign=\"top\">timeout</td>\n",
       "      <td>sat</td>\n",
       "      <td>9.0</td>\n",
       "      <td>929.705556</td>\n",
       "      <td>0.320043</td>\n",
       "      <td>928.92</td>\n",
       "      <td>929.610</td>\n",
       "      <td>929.830</td>\n",
       "      <td>929.880</td>\n",
       "      <td>929.93</td>\n",
       "      <td>9.0</td>\n",
       "      <td>360.122222</td>\n",
       "      <td>345.973244</td>\n",
       "      <td>21.06</td>\n",
       "      <td>88.800</td>\n",
       "      <td>208.75</td>\n",
       "      <td>515.820</td>\n",
       "      <td>924.63</td>\n",
       "    </tr>\n",
       "    <tr>\n",
       "      <td>timeout</td>\n",
       "      <td>14.0</td>\n",
       "      <td>929.291429</td>\n",
       "      <td>0.384405</td>\n",
       "      <td>928.69</td>\n",
       "      <td>928.995</td>\n",
       "      <td>929.335</td>\n",
       "      <td>929.500</td>\n",
       "      <td>929.86</td>\n",
       "      <td>14.0</td>\n",
       "      <td>929.122857</td>\n",
       "      <td>0.542890</td>\n",
       "      <td>928.07</td>\n",
       "      <td>928.805</td>\n",
       "      <td>929.17</td>\n",
       "      <td>929.475</td>\n",
       "      <td>929.84</td>\n",
       "    </tr>\n",
       "    <tr>\n",
       "      <td>unknown</td>\n",
       "      <td>unknown</td>\n",
       "      <td>3.0</td>\n",
       "      <td>900.000000</td>\n",
       "      <td>0.000000</td>\n",
       "      <td>900.00</td>\n",
       "      <td>900.000</td>\n",
       "      <td>900.000</td>\n",
       "      <td>900.000</td>\n",
       "      <td>900.00</td>\n",
       "      <td>3.0</td>\n",
       "      <td>900.000000</td>\n",
       "      <td>0.000000</td>\n",
       "      <td>900.00</td>\n",
       "      <td>900.000</td>\n",
       "      <td>900.00</td>\n",
       "      <td>900.000</td>\n",
       "      <td>900.00</td>\n",
       "    </tr>\n",
       "    <tr>\n",
       "      <td>unsat</td>\n",
       "      <td>unsat</td>\n",
       "      <td>47.0</td>\n",
       "      <td>20.701489</td>\n",
       "      <td>47.878819</td>\n",
       "      <td>0.01</td>\n",
       "      <td>0.285</td>\n",
       "      <td>2.640</td>\n",
       "      <td>17.015</td>\n",
       "      <td>240.42</td>\n",
       "      <td>47.0</td>\n",
       "      <td>42.272128</td>\n",
       "      <td>83.658887</td>\n",
       "      <td>0.01</td>\n",
       "      <td>1.065</td>\n",
       "      <td>9.30</td>\n",
       "      <td>37.820</td>\n",
       "      <td>482.72</td>\n",
       "    </tr>\n",
       "  </tbody>\n",
       "</table>\n",
       "</div>"
      ],
      "text/plain": [
       "                        time_ite                                           \\\n",
       "                           count        mean         std     min      25%   \n",
       "status_ite status_noite                                                     \n",
       "sat        sat              25.0  117.251200  163.308958    0.28   10.180   \n",
       "           timeout           1.0  716.620000         NaN  716.62  716.620   \n",
       "timeout    sat               9.0  929.705556    0.320043  928.92  929.610   \n",
       "           timeout          14.0  929.291429    0.384405  928.69  928.995   \n",
       "unknown    unknown           3.0  900.000000    0.000000  900.00  900.000   \n",
       "unsat      unsat            47.0   20.701489   47.878819    0.01    0.285   \n",
       "\n",
       "                                                  time_noite              \\\n",
       "                             50%      75%     max      count        mean   \n",
       "status_ite status_noite                                                    \n",
       "sat        sat            47.930  186.340  554.74       25.0  150.931600   \n",
       "           timeout       716.620  716.620  716.62        1.0  929.510000   \n",
       "timeout    sat           929.830  929.880  929.93        9.0  360.122222   \n",
       "           timeout       929.335  929.500  929.86       14.0  929.122857   \n",
       "unknown    unknown       900.000  900.000  900.00        3.0  900.000000   \n",
       "unsat      unsat           2.640   17.015  240.42       47.0   42.272128   \n",
       "\n",
       "                                                                               \n",
       "                                std     min      25%     50%      75%     max  \n",
       "status_ite status_noite                                                        \n",
       "sat        sat           208.426704    0.92   14.140   63.49  185.880  852.80  \n",
       "           timeout              NaN  929.51  929.510  929.51  929.510  929.51  \n",
       "timeout    sat           345.973244   21.06   88.800  208.75  515.820  924.63  \n",
       "           timeout         0.542890  928.07  928.805  929.17  929.475  929.84  \n",
       "unknown    unknown         0.000000  900.00  900.000  900.00  900.000  900.00  \n",
       "unsat      unsat          83.658887    0.01    1.065    9.30   37.820  482.72  "
      ]
     },
     "execution_count": 40,
     "metadata": {},
     "output_type": "execute_result"
    }
   ],
   "source": [
    "# summary of the plot. Useful to validate what is visible from the picture\n",
    "phi.groupby(['status_ite', 'status_noite'])[['time_ite', 'time_noite']].describe()"
   ]
  },
  {
   "cell_type": "code",
   "execution_count": 41,
   "metadata": {},
   "outputs": [],
   "source": [
    "# seaborn provides useful fancy plots\n",
    "import seaborn as sns\n",
    "sns.set(style='ticks', palette='Set2')"
   ]
  },
  {
   "cell_type": "code",
   "execution_count": 42,
   "metadata": {},
   "outputs": [
    {
     "data": {
      "text/plain": [
       "[<matplotlib.lines.Line2D at 0x104856a50>]"
      ]
     },
     "execution_count": 42,
     "metadata": {},
     "output_type": "execute_result"
    },
    {
     "data": {
      "image/png": "[encoded data removed]",
      "text/plain": [
       "<Figure size 720x720 with 1 Axes>"
      ]
     },
     "metadata": {},
     "output_type": "display_data"
    }
   ],
   "source": [
    "# use additional semantic features to separate sat/unsat instances\n",
    "# there is a bug in display of the legend that only shows shapes but not colors\n",
    "fig = plt.figure(figsize=(10,10))\n",
    "g = sns.scatterplot(x=\"time_ite\", y=\"time_noite\", hue=\"status_noite\", style='status_ite', data=phi);\n",
    "sns.despine()\n",
    "g.plot(x, x)\n"
   ]
  },
  {
   "cell_type": "code",
   "execution_count": 43,
   "metadata": {},
   "outputs": [
    {
     "data": {
      "application/vnd.plotly.v1+json": {
       "config": {
        "plotlyServerURL": "https://plot.ly"
       },
       "data": [
        {
         "hoverlabel": {
          "namelength": 0
         },
         "hovertemplate": "status_noite=unknown<br>status_ite=unknown<br>time_ite=%{x}<br>time_noite=%{y}",
         "legendgroup": "status_noite=unknown, status_ite=unknown",
         "marker": {
          "color": "#636efa",
          "symbol": "circle"
         },
         "mode": "markers",
         "name": "status_noite=unknown, status_ite=unknown",
         "showlegend": true,
         "type": "scatter",
         "x": [
          900,
          900,
          900
         ],
         "xaxis": "x",
         "y": [
          900,
          900,
          900
         ],
         "yaxis": "y"
        },
        {
         "hoverlabel": {
          "namelength": 0
         },
         "hovertemplate": "status_noite=unsat<br>status_ite=unsat<br>time_ite=%{x}<br>time_noite=%{y}",
         "legendgroup": "status_noite=unsat, status_ite=unsat",
         "marker": {
          "color": "#EF553B",
          "symbol": "diamond"
         },
         "mode": "markers",
         "name": "status_noite=unsat, status_ite=unsat",
         "showlegend": true,
         "type": "scatter",
         "x": [
          0.01,
          0.01,
          0.01,
          0.01,
          0.01,
          0.01,
          0.02,
          0.03,
          0.26,
          0.24,
          0.22,
          0.46,
          1.92,
          1.78,
          1.52,
          4.09,
          1.7,
          3.18,
          27.45,
          0.1,
          6.32,
          1.27,
          60.3,
          0.31,
          8.98,
          5.22,
          13.59,
          4.6,
          1.03,
          20.44,
          1.61,
          32.25,
          11.23,
          3.99,
          20.45,
          28.28,
          0.99,
          28.91,
          13.56,
          79.17,
          2.64,
          78.49,
          7.32,
          240.42,
          2.47,
          44.76,
          211.34
         ],
         "xaxis": "x",
         "y": [
          0.01,
          0.01,
          0.01,
          0.01,
          0.01,
          0.01,
          0.01,
          0.03,
          0.57,
          0.58,
          0.65,
          1.48,
          7.2,
          2.32,
          2.98,
          8.75,
          3.09,
          3.33,
          22.54,
          0.11,
          8.25,
          9.3,
          6.43,
          12.92,
          10.51,
          17.4,
          21.41,
          32.3,
          23.82,
          74.51,
          59.47,
          21.89,
          77.1,
          7.48,
          28.41,
          46,
          19.12,
          110.75,
          11.12,
          203.33,
          43.34,
          96.81,
          162.69,
          170.31,
          2.28,
          482.72,
          173.42
         ],
         "yaxis": "y"
        },
        {
         "hoverlabel": {
          "namelength": 0
         },
         "hovertemplate": "status_noite=sat<br>status_ite=sat<br>time_ite=%{x}<br>time_noite=%{y}",
         "legendgroup": "status_noite=sat, status_ite=sat",
         "marker": {
          "color": "#00cc96",
          "symbol": "square"
         },
         "mode": "markers",
         "name": "status_noite=sat, status_ite=sat",
         "showlegend": true,
         "type": "scatter",
         "x": [
          0.28,
          0.78,
          3.44,
          5.55,
          15.39,
          18.14,
          10.18,
          61.99,
          47.93,
          2.71,
          4.41,
          17.33,
          50.98,
          218.55,
          60.28,
          28.55,
          425.76,
          143.84,
          244.27,
          499.51,
          63.8,
          186.34,
          554.74,
          252.83,
          13.7
         ],
         "xaxis": "x",
         "y": [
          1.03,
          0.92,
          3.81,
          8.55,
          5.18,
          19.93,
          14.14,
          74.56,
          32.7,
          68.39,
          63.49,
          51.91,
          42.04,
          165.15,
          57.44,
          12.11,
          221.85,
          145.3,
          347.22,
          245.74,
          185.88,
          852.8,
          427.96,
          588.07,
          137.12
         ],
         "yaxis": "y"
        },
        {
         "hoverlabel": {
          "namelength": 0
         },
         "hovertemplate": "status_noite=sat<br>status_ite=timeout<br>time_ite=%{x}<br>time_noite=%{y}",
         "legendgroup": "status_noite=sat, status_ite=timeout",
         "marker": {
          "color": "#00cc96",
          "symbol": "x"
         },
         "mode": "markers",
         "name": "status_noite=sat, status_ite=timeout",
         "showlegend": true,
         "type": "scatter",
         "x": [
          929.93,
          929.79,
          929.88,
          929.88,
          929.92,
          929.59,
          929.83,
          928.92,
          929.61
         ],
         "xaxis": "x",
         "y": [
          21.06,
          114.98,
          68.42,
          208.75,
          88.8,
          436.34,
          515.82,
          862.3,
          924.63
         ],
         "yaxis": "y"
        },
        {
         "hoverlabel": {
          "namelength": 0
         },
         "hovertemplate": "status_noite=timeout<br>status_ite=sat<br>time_ite=%{x}<br>time_noite=%{y}",
         "legendgroup": "status_noite=timeout, status_ite=sat",
         "marker": {
          "color": "#ab63fa",
          "symbol": "square"
         },
         "mode": "markers",
         "name": "status_noite=timeout, status_ite=sat",
         "showlegend": true,
         "type": "scatter",
         "x": [
          716.62
         ],
         "xaxis": "x",
         "y": [
          929.51
         ],
         "yaxis": "y"
        },
        {
         "hoverlabel": {
          "namelength": 0
         },
         "hovertemplate": "status_noite=timeout<br>status_ite=timeout<br>time_ite=%{x}<br>time_noite=%{y}",
         "legendgroup": "status_noite=timeout, status_ite=timeout",
         "marker": {
          "color": "#ab63fa",
          "symbol": "x"
         },
         "mode": "markers",
         "name": "status_noite=timeout, status_ite=timeout",
         "showlegend": true,
         "type": "scatter",
         "x": [
          929.86,
          929.1,
          929.47,
          929.22,
          929.38,
          929.51,
          929.47,
          929.85,
          928.96,
          929.69,
          929.29,
          928.77,
          928.82,
          928.69
         ],
         "xaxis": "x",
         "y": [
          929.84,
          929.18,
          929.53,
          929.16,
          929.03,
          929.31,
          929.24,
          929.84,
          928.07,
          929.79,
          929.04,
          928.35,
          928.61,
          928.73
         ],
         "yaxis": "y"
        }
       ],
       "layout": {
        "height": 600,
        "legend": {
         "tracegroupgap": 0
        },
        "margin": {
         "t": 60
        },
        "template": {
         "data": {
          "bar": [
           {
            "error_x": {
             "color": "#2a3f5f"
            },
            "error_y": {
             "color": "#2a3f5f"
            },
            "marker": {
             "line": {
              "color": "#E5ECF6",
              "width": 0.5
             }
            },
            "type": "bar"
           }
          ],
          "barpolar": [
           {
            "marker": {
             "line": {
              "color": "#E5ECF6",
              "width": 0.5
             }
            },
            "type": "barpolar"
           }
          ],
          "carpet": [
           {
            "aaxis": {
             "endlinecolor": "#2a3f5f",
             "gridcolor": "white",
             "linecolor": "white",
             "minorgridcolor": "white",
             "startlinecolor": "#2a3f5f"
            },
            "baxis": {
             "endlinecolor": "#2a3f5f",
             "gridcolor": "white",
             "linecolor": "white",
             "minorgridcolor": "white",
             "startlinecolor": "#2a3f5f"
            },
            "type": "carpet"
           }
          ],
          "choropleth": [
           {
            "colorbar": {
             "outlinewidth": 0,
             "ticks": ""
            },
            "type": "choropleth"
           }
          ],
          "contour": [
           {
            "colorbar": {
             "outlinewidth": 0,
             "ticks": ""
            },
            "colorscale": [
             [
              0,
              "#0d0887"
             ],
             [
              0.1111111111111111,
              "#46039f"
             ],
             [
              0.2222222222222222,
              "#7201a8"
             ],
             [
              0.3333333333333333,
              "#9c179e"
             ],
             [
              0.4444444444444444,
              "#bd3786"
             ],
             [
              0.5555555555555556,
              "#d8576b"
             ],
             [
              0.6666666666666666,
              "#ed7953"
             ],
             [
              0.7777777777777778,
              "#fb9f3a"
             ],
             [
              0.8888888888888888,
              "#fdca26"
             ],
             [
              1,
              "#f0f921"
             ]
            ],
            "type": "contour"
           }
          ],
          "contourcarpet": [
           {
            "colorbar": {
             "outlinewidth": 0,
             "ticks": ""
            },
            "type": "contourcarpet"
           }
          ],
          "heatmap": [
           {
            "colorbar": {
             "outlinewidth": 0,
             "ticks": ""
            },
            "colorscale": [
             [
              0,
              "#0d0887"
             ],
             [
              0.1111111111111111,
              "#46039f"
             ],
             [
              0.2222222222222222,
              "#7201a8"
             ],
             [
              0.3333333333333333,
              "#9c179e"
             ],
             [
              0.4444444444444444,
              "#bd3786"
             ],
             [
              0.5555555555555556,
              "#d8576b"
             ],
             [
              0.6666666666666666,
              "#ed7953"
             ],
             [
              0.7777777777777778,
              "#fb9f3a"
             ],
             [
              0.8888888888888888,
              "#fdca26"
             ],
             [
              1,
              "#f0f921"
             ]
            ],
            "type": "heatmap"
           }
          ],
          "heatmapgl": [
           {
            "colorbar": {
             "outlinewidth": 0,
             "ticks": ""
            },
            "colorscale": [
             [
              0,
              "#0d0887"
             ],
             [
              0.1111111111111111,
              "#46039f"
             ],
             [
              0.2222222222222222,
              "#7201a8"
             ],
             [
              0.3333333333333333,
              "#9c179e"
             ],
             [
              0.4444444444444444,
              "#bd3786"
             ],
             [
              0.5555555555555556,
              "#d8576b"
             ],
             [
              0.6666666666666666,
              "#ed7953"
             ],
             [
              0.7777777777777778,
              "#fb9f3a"
             ],
             [
              0.8888888888888888,
              "#fdca26"
             ],
             [
              1,
              "#f0f921"
             ]
            ],
            "type": "heatmapgl"
           }
          ],
          "histogram": [
           {
            "marker": {
             "colorbar": {
              "outlinewidth": 0,
              "ticks": ""
             }
            },
            "type": "histogram"
           }
          ],
          "histogram2d": [
           {
            "colorbar": {
             "outlinewidth": 0,
             "ticks": ""
            },
            "colorscale": [
             [
              0,
              "#0d0887"
             ],
             [
              0.1111111111111111,
              "#46039f"
             ],
             [
              0.2222222222222222,
              "#7201a8"
             ],
             [
              0.3333333333333333,
              "#9c179e"
             ],
             [
              0.4444444444444444,
              "#bd3786"
             ],
             [
              0.5555555555555556,
              "#d8576b"
             ],
             [
              0.6666666666666666,
              "#ed7953"
             ],
             [
              0.7777777777777778,
              "#fb9f3a"
             ],
             [
              0.8888888888888888,
              "#fdca26"
             ],
             [
              1,
              "#f0f921"
             ]
            ],
            "type": "histogram2d"
           }
          ],
          "histogram2dcontour": [
           {
            "colorbar": {
             "outlinewidth": 0,
             "ticks": ""
            },
            "colorscale": [
             [
              0,
              "#0d0887"
             ],
             [
              0.1111111111111111,
              "#46039f"
             ],
             [
              0.2222222222222222,
              "#7201a8"
             ],
             [
              0.3333333333333333,
              "#9c179e"
             ],
             [
              0.4444444444444444,
              "#bd3786"
             ],
             [
              0.5555555555555556,
              "#d8576b"
             ],
             [
              0.6666666666666666,
              "#ed7953"
             ],
             [
              0.7777777777777778,
              "#fb9f3a"
             ],
             [
              0.8888888888888888,
              "#fdca26"
             ],
             [
              1,
              "#f0f921"
             ]
            ],
            "type": "histogram2dcontour"
           }
          ],
          "mesh3d": [
           {
            "colorbar": {
             "outlinewidth": 0,
             "ticks": ""
            },
            "type": "mesh3d"
           }
          ],
          "parcoords": [
           {
            "line": {
             "colorbar": {
              "outlinewidth": 0,
              "ticks": ""
             }
            },
            "type": "parcoords"
           }
          ],
          "scatter": [
           {
            "marker": {
             "colorbar": {
              "outlinewidth": 0,
              "ticks": ""
             }
            },
            "type": "scatter"
           }
          ],
          "scatter3d": [
           {
            "line": {
             "colorbar": {
              "outlinewidth": 0,
              "ticks": ""
             }
            },
            "marker": {
             "colorbar": {
              "outlinewidth": 0,
              "ticks": ""
             }
            },
            "type": "scatter3d"
           }
          ],
          "scattercarpet": [
           {
            "marker": {
             "colorbar": {
              "outlinewidth": 0,
              "ticks": ""
             }
            },
            "type": "scattercarpet"
           }
          ],
          "scattergeo": [
           {
            "marker": {
             "colorbar": {
              "outlinewidth": 0,
              "ticks": ""
             }
            },
            "type": "scattergeo"
           }
          ],
          "scattergl": [
           {
            "marker": {
             "colorbar": {
              "outlinewidth": 0,
              "ticks": ""
             }
            },
            "type": "scattergl"
           }
          ],
          "scattermapbox": [
           {
            "marker": {
             "colorbar": {
              "outlinewidth": 0,
              "ticks": ""
             }
            },
            "type": "scattermapbox"
           }
          ],
          "scatterpolar": [
           {
            "marker": {
             "colorbar": {
              "outlinewidth": 0,
              "ticks": ""
             }
            },
            "type": "scatterpolar"
           }
          ],
          "scatterpolargl": [
           {
            "marker": {
             "colorbar": {
              "outlinewidth": 0,
              "ticks": ""
             }
            },
            "type": "scatterpolargl"
           }
          ],
          "scatterternary": [
           {
            "marker": {
             "colorbar": {
              "outlinewidth": 0,
              "ticks": ""
             }
            },
            "type": "scatterternary"
           }
          ],
          "surface": [
           {
            "colorbar": {
             "outlinewidth": 0,
             "ticks": ""
            },
            "colorscale": [
             [
              0,
              "#0d0887"
             ],
             [
              0.1111111111111111,
              "#46039f"
             ],
             [
              0.2222222222222222,
              "#7201a8"
             ],
             [
              0.3333333333333333,
              "#9c179e"
             ],
             [
              0.4444444444444444,
              "#bd3786"
             ],
             [
              0.5555555555555556,
              "#d8576b"
             ],
             [
              0.6666666666666666,
              "#ed7953"
             ],
             [
              0.7777777777777778,
              "#fb9f3a"
             ],
             [
              0.8888888888888888,
              "#fdca26"
             ],
             [
              1,
              "#f0f921"
             ]
            ],
            "type": "surface"
           }
          ],
          "table": [
           {
            "cells": {
             "fill": {
              "color": "#EBF0F8"
             },
             "line": {
              "color": "white"
             }
            },
            "header": {
             "fill": {
              "color": "#C8D4E3"
             },
             "line": {
              "color": "white"
             }
            },
            "type": "table"
           }
          ]
         },
         "layout": {
          "annotationdefaults": {
           "arrowcolor": "#2a3f5f",
           "arrowhead": 0,
           "arrowwidth": 1
          },
          "colorscale": {
           "diverging": [
            [
             0,
             "#8e0152"
            ],
            [
             0.1,
             "#c51b7d"
            ],
            [
             0.2,
             "#de77ae"
            ],
            [
             0.3,
             "#f1b6da"
            ],
            [
             0.4,
             "#fde0ef"
            ],
            [
             0.5,
             "#f7f7f7"
            ],
            [
             0.6,
             "#e6f5d0"
            ],
            [
             0.7,
             "#b8e186"
            ],
            [
             0.8,
             "#7fbc41"
            ],
            [
             0.9,
             "#4d9221"
            ],
            [
             1,
             "#276419"
            ]
           ],
           "sequential": [
            [
             0,
             "#0d0887"
            ],
            [
             0.1111111111111111,
             "#46039f"
            ],
            [
             0.2222222222222222,
             "#7201a8"
            ],
            [
             0.3333333333333333,
             "#9c179e"
            ],
            [
             0.4444444444444444,
             "#bd3786"
            ],
            [
             0.5555555555555556,
             "#d8576b"
            ],
            [
             0.6666666666666666,
             "#ed7953"
            ],
            [
             0.7777777777777778,
             "#fb9f3a"
            ],
            [
             0.8888888888888888,
             "#fdca26"
            ],
            [
             1,
             "#f0f921"
            ]
           ],
           "sequentialminus": [
            [
             0,
             "#0d0887"
            ],
            [
             0.1111111111111111,
             "#46039f"
            ],
            [
             0.2222222222222222,
             "#7201a8"
            ],
            [
             0.3333333333333333,
             "#9c179e"
            ],
            [
             0.4444444444444444,
             "#bd3786"
            ],
            [
             0.5555555555555556,
             "#d8576b"
            ],
            [
             0.6666666666666666,
             "#ed7953"
            ],
            [
             0.7777777777777778,
             "#fb9f3a"
            ],
            [
             0.8888888888888888,
             "#fdca26"
            ],
            [
             1,
             "#f0f921"
            ]
           ]
          },
          "colorway": [
           "#636efa",
           "#EF553B",
           "#00cc96",
           "#ab63fa",
           "#FFA15A",
           "#19d3f3",
           "#FF6692",
           "#B6E880",
           "#FF97FF",
           "#FECB52"
          ],
          "font": {
           "color": "#2a3f5f"
          },
          "geo": {
           "bgcolor": "white",
           "lakecolor": "white",
           "landcolor": "#E5ECF6",
           "showlakes": true,
           "showland": true,
           "subunitcolor": "white"
          },
          "hoverlabel": {
           "align": "left"
          },
          "hovermode": "closest",
          "mapbox": {
           "style": "light"
          },
          "paper_bgcolor": "white",
          "plot_bgcolor": "#E5ECF6",
          "polar": {
           "angularaxis": {
            "gridcolor": "white",
            "linecolor": "white",
            "ticks": ""
           },
           "bgcolor": "#E5ECF6",
           "radialaxis": {
            "gridcolor": "white",
            "linecolor": "white",
            "ticks": ""
           }
          },
          "scene": {
           "xaxis": {
            "backgroundcolor": "#E5ECF6",
            "gridcolor": "white",
            "gridwidth": 2,
            "linecolor": "white",
            "showbackground": true,
            "ticks": "",
            "zerolinecolor": "white"
           },
           "yaxis": {
            "backgroundcolor": "#E5ECF6",
            "gridcolor": "white",
            "gridwidth": 2,
            "linecolor": "white",
            "showbackground": true,
            "ticks": "",
            "zerolinecolor": "white"
           },
           "zaxis": {
            "backgroundcolor": "#E5ECF6",
            "gridcolor": "white",
            "gridwidth": 2,
            "linecolor": "white",
            "showbackground": true,
            "ticks": "",
            "zerolinecolor": "white"
           }
          },
          "shapedefaults": {
           "line": {
            "color": "#2a3f5f"
           }
          },
          "ternary": {
           "aaxis": {
            "gridcolor": "white",
            "linecolor": "white",
            "ticks": ""
           },
           "baxis": {
            "gridcolor": "white",
            "linecolor": "white",
            "ticks": ""
           },
           "bgcolor": "#E5ECF6",
           "caxis": {
            "gridcolor": "white",
            "linecolor": "white",
            "ticks": ""
           }
          },
          "title": {
           "x": 0.05
          },
          "xaxis": {
           "automargin": true,
           "gridcolor": "white",
           "linecolor": "white",
           "ticks": "",
           "zerolinecolor": "white",
           "zerolinewidth": 2
          },
          "yaxis": {
           "automargin": true,
           "gridcolor": "white",
           "linecolor": "white",
           "ticks": "",
           "zerolinecolor": "white",
           "zerolinewidth": 2
          }
         }
        },
        "xaxis": {
         "anchor": "y",
         "domain": [
          0,
          0.98
         ],
         "title": {
          "text": "time_ite"
         }
        },
        "yaxis": {
         "anchor": "x",
         "domain": [
          0,
          1
         ],
         "title": {
          "text": "time_noite"
         }
        }
       }
      },
      "text/html": [
       "<div>\n",
       "        \n",
       "        \n",
       "            <div id=\"eaae44e4-43a9-45cb-9f60-f27fa4008c2a\" class=\"plotly-graph-div\" style=\"height:600px; width:100%;\"></div>\n",
       "            <script type=\"text/javascript\">\n",
       "                require([\"plotly\"], function(Plotly) {\n",
       "                    window.PLOTLYENV=window.PLOTLYENV || {};\n",
       "                    \n",
       "                if (document.getElementById(\"eaae44e4-43a9-45cb-9f60-f27fa4008c2a\")) {\n",
       "                    Plotly.newPlot(\n",
       "                        'eaae44e4-43a9-45cb-9f60-f27fa4008c2a',\n",
       "                        [{\"hoverlabel\": {\"namelength\": 0}, \"hovertemplate\": \"status_noite=unknown<br>status_ite=unknown<br>time_ite=%{x}<br>time_noite=%{y}\", \"legendgroup\": \"status_noite=unknown, status_ite=unknown\", \"marker\": {\"color\": \"#636efa\", \"symbol\": \"circle\"}, \"mode\": \"markers\", \"name\": \"status_noite=unknown, status_ite=unknown\", \"showlegend\": true, \"type\": \"scatter\", \"x\": [900.0, 900.0, 900.0], \"xaxis\": \"x\", \"y\": [900.0, 900.0, 900.0], \"yaxis\": \"y\"}, {\"hoverlabel\": {\"namelength\": 0}, \"hovertemplate\": \"status_noite=unsat<br>status_ite=unsat<br>time_ite=%{x}<br>time_noite=%{y}\", \"legendgroup\": \"status_noite=unsat, status_ite=unsat\", \"marker\": {\"color\": \"#EF553B\", \"symbol\": \"diamond\"}, \"mode\": \"markers\", \"name\": \"status_noite=unsat, status_ite=unsat\", \"showlegend\": true, \"type\": \"scatter\", \"x\": [0.01, 0.01, 0.01, 0.01, 0.01, 0.01, 0.02, 0.03, 0.26, 0.24, 0.22, 0.46, 1.92, 1.78, 1.52, 4.09, 1.7, 3.18, 27.45, 0.1, 6.32, 1.27, 60.3, 0.31, 8.98, 5.22, 13.59, 4.6, 1.03, 20.44, 1.61, 32.25, 11.23, 3.99, 20.45, 28.28, 0.99, 28.91, 13.56, 79.17, 2.64, 78.49, 7.32, 240.42, 2.47, 44.76, 211.34], \"xaxis\": \"x\", \"y\": [0.01, 0.01, 0.01, 0.01, 0.01, 0.01, 0.01, 0.03, 0.57, 0.58, 0.65, 1.48, 7.2, 2.32, 2.98, 8.75, 3.09, 3.33, 22.54, 0.11, 8.25, 9.3, 6.43, 12.92, 10.51, 17.4, 21.41, 32.3, 23.82, 74.51, 59.47, 21.89, 77.1, 7.48, 28.41, 46.0, 19.12, 110.75, 11.12, 203.33, 43.34, 96.81, 162.69, 170.31, 2.28, 482.72, 173.42], \"yaxis\": \"y\"}, {\"hoverlabel\": {\"namelength\": 0}, \"hovertemplate\": \"status_noite=sat<br>status_ite=sat<br>time_ite=%{x}<br>time_noite=%{y}\", \"legendgroup\": \"status_noite=sat, status_ite=sat\", \"marker\": {\"color\": \"#00cc96\", \"symbol\": \"square\"}, \"mode\": \"markers\", \"name\": \"status_noite=sat, status_ite=sat\", \"showlegend\": true, \"type\": \"scatter\", \"x\": [0.28, 0.78, 3.44, 5.55, 15.39, 18.14, 10.18, 61.99, 47.93, 2.71, 4.41, 17.33, 50.98, 218.55, 60.28, 28.55, 425.76, 143.84, 244.27, 499.51, 63.8, 186.34, 554.74, 252.83, 13.7], \"xaxis\": \"x\", \"y\": [1.03, 0.92, 3.81, 8.55, 5.18, 19.93, 14.14, 74.56, 32.7, 68.39, 63.49, 51.91, 42.04, 165.15, 57.44, 12.11, 221.85, 145.3, 347.22, 245.74, 185.88, 852.8, 427.96, 588.07, 137.12], \"yaxis\": \"y\"}, {\"hoverlabel\": {\"namelength\": 0}, \"hovertemplate\": \"status_noite=sat<br>status_ite=timeout<br>time_ite=%{x}<br>time_noite=%{y}\", \"legendgroup\": \"status_noite=sat, status_ite=timeout\", \"marker\": {\"color\": \"#00cc96\", \"symbol\": \"x\"}, \"mode\": \"markers\", \"name\": \"status_noite=sat, status_ite=timeout\", \"showlegend\": true, \"type\": \"scatter\", \"x\": [929.93, 929.79, 929.88, 929.88, 929.92, 929.59, 929.83, 928.92, 929.61], \"xaxis\": \"x\", \"y\": [21.06, 114.98, 68.42, 208.75, 88.8, 436.34, 515.82, 862.3, 924.63], \"yaxis\": \"y\"}, {\"hoverlabel\": {\"namelength\": 0}, \"hovertemplate\": \"status_noite=timeout<br>status_ite=sat<br>time_ite=%{x}<br>time_noite=%{y}\", \"legendgroup\": \"status_noite=timeout, status_ite=sat\", \"marker\": {\"color\": \"#ab63fa\", \"symbol\": \"square\"}, \"mode\": \"markers\", \"name\": \"status_noite=timeout, status_ite=sat\", \"showlegend\": true, \"type\": \"scatter\", \"x\": [716.62], \"xaxis\": \"x\", \"y\": [929.51], \"yaxis\": \"y\"}, {\"hoverlabel\": {\"namelength\": 0}, \"hovertemplate\": \"status_noite=timeout<br>status_ite=timeout<br>time_ite=%{x}<br>time_noite=%{y}\", \"legendgroup\": \"status_noite=timeout, status_ite=timeout\", \"marker\": {\"color\": \"#ab63fa\", \"symbol\": \"x\"}, \"mode\": \"markers\", \"name\": \"status_noite=timeout, status_ite=timeout\", \"showlegend\": true, \"type\": \"scatter\", \"x\": [929.86, 929.1, 929.47, 929.22, 929.38, 929.51, 929.47, 929.85, 928.96, 929.69, 929.29, 928.77, 928.82, 928.69], \"xaxis\": \"x\", \"y\": [929.84, 929.18, 929.53, 929.16, 929.03, 929.31, 929.24, 929.84, 928.07, 929.79, 929.04, 928.35, 928.61, 928.73], \"yaxis\": \"y\"}],\n",
       "                        {\"height\": 600, \"legend\": {\"tracegroupgap\": 0}, \"margin\": {\"t\": 60}, \"template\": {\"data\": {\"bar\": [{\"error_x\": {\"color\": \"#2a3f5f\"}, \"error_y\": {\"color\": \"#2a3f5f\"}, \"marker\": {\"line\": {\"color\": \"#E5ECF6\", \"width\": 0.5}}, \"type\": \"bar\"}], \"barpolar\": [{\"marker\": {\"line\": {\"color\": \"#E5ECF6\", \"width\": 0.5}}, \"type\": \"barpolar\"}], \"carpet\": [{\"aaxis\": {\"endlinecolor\": \"#2a3f5f\", \"gridcolor\": \"white\", \"linecolor\": \"white\", \"minorgridcolor\": \"white\", \"startlinecolor\": \"#2a3f5f\"}, \"baxis\": {\"endlinecolor\": \"#2a3f5f\", \"gridcolor\": \"white\", \"linecolor\": \"white\", \"minorgridcolor\": \"white\", \"startlinecolor\": \"#2a3f5f\"}, \"type\": \"carpet\"}], \"choropleth\": [{\"colorbar\": {\"outlinewidth\": 0, \"ticks\": \"\"}, \"type\": \"choropleth\"}], \"contour\": [{\"colorbar\": {\"outlinewidth\": 0, \"ticks\": \"\"}, \"colorscale\": [[0.0, \"#0d0887\"], [0.1111111111111111, \"#46039f\"], [0.2222222222222222, \"#7201a8\"], [0.3333333333333333, \"#9c179e\"], [0.4444444444444444, \"#bd3786\"], [0.5555555555555556, \"#d8576b\"], [0.6666666666666666, \"#ed7953\"], [0.7777777777777778, \"#fb9f3a\"], [0.8888888888888888, \"#fdca26\"], [1.0, \"#f0f921\"]], \"type\": \"contour\"}], \"contourcarpet\": [{\"colorbar\": {\"outlinewidth\": 0, \"ticks\": \"\"}, \"type\": \"contourcarpet\"}], \"heatmap\": [{\"colorbar\": {\"outlinewidth\": 0, \"ticks\": \"\"}, \"colorscale\": [[0.0, \"#0d0887\"], [0.1111111111111111, \"#46039f\"], [0.2222222222222222, \"#7201a8\"], [0.3333333333333333, \"#9c179e\"], [0.4444444444444444, \"#bd3786\"], [0.5555555555555556, \"#d8576b\"], [0.6666666666666666, \"#ed7953\"], [0.7777777777777778, \"#fb9f3a\"], [0.8888888888888888, \"#fdca26\"], [1.0, \"#f0f921\"]], \"type\": \"heatmap\"}], \"heatmapgl\": [{\"colorbar\": {\"outlinewidth\": 0, \"ticks\": \"\"}, \"colorscale\": [[0.0, \"#0d0887\"], [0.1111111111111111, \"#46039f\"], [0.2222222222222222, \"#7201a8\"], [0.3333333333333333, \"#9c179e\"], [0.4444444444444444, \"#bd3786\"], [0.5555555555555556, \"#d8576b\"], [0.6666666666666666, \"#ed7953\"], [0.7777777777777778, \"#fb9f3a\"], [0.8888888888888888, \"#fdca26\"], [1.0, \"#f0f921\"]], \"type\": \"heatmapgl\"}], \"histogram\": [{\"marker\": {\"colorbar\": {\"outlinewidth\": 0, \"ticks\": \"\"}}, \"type\": \"histogram\"}], \"histogram2d\": [{\"colorbar\": {\"outlinewidth\": 0, \"ticks\": \"\"}, \"colorscale\": [[0.0, \"#0d0887\"], [0.1111111111111111, \"#46039f\"], [0.2222222222222222, \"#7201a8\"], [0.3333333333333333, \"#9c179e\"], [0.4444444444444444, \"#bd3786\"], [0.5555555555555556, \"#d8576b\"], [0.6666666666666666, \"#ed7953\"], [0.7777777777777778, \"#fb9f3a\"], [0.8888888888888888, \"#fdca26\"], [1.0, \"#f0f921\"]], \"type\": \"histogram2d\"}], \"histogram2dcontour\": [{\"colorbar\": {\"outlinewidth\": 0, \"ticks\": \"\"}, \"colorscale\": [[0.0, \"#0d0887\"], [0.1111111111111111, \"#46039f\"], [0.2222222222222222, \"#7201a8\"], [0.3333333333333333, \"#9c179e\"], [0.4444444444444444, \"#bd3786\"], [0.5555555555555556, \"#d8576b\"], [0.6666666666666666, \"#ed7953\"], [0.7777777777777778, \"#fb9f3a\"], [0.8888888888888888, \"#fdca26\"], [1.0, \"#f0f921\"]], \"type\": \"histogram2dcontour\"}], \"mesh3d\": [{\"colorbar\": {\"outlinewidth\": 0, \"ticks\": \"\"}, \"type\": \"mesh3d\"}], \"parcoords\": [{\"line\": {\"colorbar\": {\"outlinewidth\": 0, \"ticks\": \"\"}}, \"type\": \"parcoords\"}], \"scatter\": [{\"marker\": {\"colorbar\": {\"outlinewidth\": 0, \"ticks\": \"\"}}, \"type\": \"scatter\"}], \"scatter3d\": [{\"line\": {\"colorbar\": {\"outlinewidth\": 0, \"ticks\": \"\"}}, \"marker\": {\"colorbar\": {\"outlinewidth\": 0, \"ticks\": \"\"}}, \"type\": \"scatter3d\"}], \"scattercarpet\": [{\"marker\": {\"colorbar\": {\"outlinewidth\": 0, \"ticks\": \"\"}}, \"type\": \"scattercarpet\"}], \"scattergeo\": [{\"marker\": {\"colorbar\": {\"outlinewidth\": 0, \"ticks\": \"\"}}, \"type\": \"scattergeo\"}], \"scattergl\": [{\"marker\": {\"colorbar\": {\"outlinewidth\": 0, \"ticks\": \"\"}}, \"type\": \"scattergl\"}], \"scattermapbox\": [{\"marker\": {\"colorbar\": {\"outlinewidth\": 0, \"ticks\": \"\"}}, \"type\": \"scattermapbox\"}], \"scatterpolar\": [{\"marker\": {\"colorbar\": {\"outlinewidth\": 0, \"ticks\": \"\"}}, \"type\": \"scatterpolar\"}], \"scatterpolargl\": [{\"marker\": {\"colorbar\": {\"outlinewidth\": 0, \"ticks\": \"\"}}, \"type\": \"scatterpolargl\"}], \"scatterternary\": [{\"marker\": {\"colorbar\": {\"outlinewidth\": 0, \"ticks\": \"\"}}, \"type\": \"scatterternary\"}], \"surface\": [{\"colorbar\": {\"outlinewidth\": 0, \"ticks\": \"\"}, \"colorscale\": [[0.0, \"#0d0887\"], [0.1111111111111111, \"#46039f\"], [0.2222222222222222, \"#7201a8\"], [0.3333333333333333, \"#9c179e\"], [0.4444444444444444, \"#bd3786\"], [0.5555555555555556, \"#d8576b\"], [0.6666666666666666, \"#ed7953\"], [0.7777777777777778, \"#fb9f3a\"], [0.8888888888888888, \"#fdca26\"], [1.0, \"#f0f921\"]], \"type\": \"surface\"}], \"table\": [{\"cells\": {\"fill\": {\"color\": \"#EBF0F8\"}, \"line\": {\"color\": \"white\"}}, \"header\": {\"fill\": {\"color\": \"#C8D4E3\"}, \"line\": {\"color\": \"white\"}}, \"type\": \"table\"}]}, \"layout\": {\"annotationdefaults\": {\"arrowcolor\": \"#2a3f5f\", \"arrowhead\": 0, \"arrowwidth\": 1}, \"colorscale\": {\"diverging\": [[0, \"#8e0152\"], [0.1, \"#c51b7d\"], [0.2, \"#de77ae\"], [0.3, \"#f1b6da\"], [0.4, \"#fde0ef\"], [0.5, \"#f7f7f7\"], [0.6, \"#e6f5d0\"], [0.7, \"#b8e186\"], [0.8, \"#7fbc41\"], [0.9, \"#4d9221\"], [1, \"#276419\"]], \"sequential\": [[0.0, \"#0d0887\"], [0.1111111111111111, \"#46039f\"], [0.2222222222222222, \"#7201a8\"], [0.3333333333333333, \"#9c179e\"], [0.4444444444444444, \"#bd3786\"], [0.5555555555555556, \"#d8576b\"], [0.6666666666666666, \"#ed7953\"], [0.7777777777777778, \"#fb9f3a\"], [0.8888888888888888, \"#fdca26\"], [1.0, \"#f0f921\"]], \"sequentialminus\": [[0.0, \"#0d0887\"], [0.1111111111111111, \"#46039f\"], [0.2222222222222222, \"#7201a8\"], [0.3333333333333333, \"#9c179e\"], [0.4444444444444444, \"#bd3786\"], [0.5555555555555556, \"#d8576b\"], [0.6666666666666666, \"#ed7953\"], [0.7777777777777778, \"#fb9f3a\"], [0.8888888888888888, \"#fdca26\"], [1.0, \"#f0f921\"]]}, \"colorway\": [\"#636efa\", \"#EF553B\", \"#00cc96\", \"#ab63fa\", \"#FFA15A\", \"#19d3f3\", \"#FF6692\", \"#B6E880\", \"#FF97FF\", \"#FECB52\"], \"font\": {\"color\": \"#2a3f5f\"}, \"geo\": {\"bgcolor\": \"white\", \"lakecolor\": \"white\", \"landcolor\": \"#E5ECF6\", \"showlakes\": true, \"showland\": true, \"subunitcolor\": \"white\"}, \"hoverlabel\": {\"align\": \"left\"}, \"hovermode\": \"closest\", \"mapbox\": {\"style\": \"light\"}, \"paper_bgcolor\": \"white\", \"plot_bgcolor\": \"#E5ECF6\", \"polar\": {\"angularaxis\": {\"gridcolor\": \"white\", \"linecolor\": \"white\", \"ticks\": \"\"}, \"bgcolor\": \"#E5ECF6\", \"radialaxis\": {\"gridcolor\": \"white\", \"linecolor\": \"white\", \"ticks\": \"\"}}, \"scene\": {\"xaxis\": {\"backgroundcolor\": \"#E5ECF6\", \"gridcolor\": \"white\", \"gridwidth\": 2, \"linecolor\": \"white\", \"showbackground\": true, \"ticks\": \"\", \"zerolinecolor\": \"white\"}, \"yaxis\": {\"backgroundcolor\": \"#E5ECF6\", \"gridcolor\": \"white\", \"gridwidth\": 2, \"linecolor\": \"white\", \"showbackground\": true, \"ticks\": \"\", \"zerolinecolor\": \"white\"}, \"zaxis\": {\"backgroundcolor\": \"#E5ECF6\", \"gridcolor\": \"white\", \"gridwidth\": 2, \"linecolor\": \"white\", \"showbackground\": true, \"ticks\": \"\", \"zerolinecolor\": \"white\"}}, \"shapedefaults\": {\"line\": {\"color\": \"#2a3f5f\"}}, \"ternary\": {\"aaxis\": {\"gridcolor\": \"white\", \"linecolor\": \"white\", \"ticks\": \"\"}, \"baxis\": {\"gridcolor\": \"white\", \"linecolor\": \"white\", \"ticks\": \"\"}, \"bgcolor\": \"#E5ECF6\", \"caxis\": {\"gridcolor\": \"white\", \"linecolor\": \"white\", \"ticks\": \"\"}}, \"title\": {\"x\": 0.05}, \"xaxis\": {\"automargin\": true, \"gridcolor\": \"white\", \"linecolor\": \"white\", \"ticks\": \"\", \"zerolinecolor\": \"white\", \"zerolinewidth\": 2}, \"yaxis\": {\"automargin\": true, \"gridcolor\": \"white\", \"linecolor\": \"white\", \"ticks\": \"\", \"zerolinecolor\": \"white\", \"zerolinewidth\": 2}}}, \"xaxis\": {\"anchor\": \"y\", \"domain\": [0.0, 0.98], \"title\": {\"text\": \"time_ite\"}}, \"yaxis\": {\"anchor\": \"x\", \"domain\": [0.0, 1.0], \"title\": {\"text\": \"time_noite\"}}},\n",
       "                        {\"responsive\": true}\n",
       "                    ).then(function(){\n",
       "                            \n",
       "var gd = document.getElementById('eaae44e4-43a9-45cb-9f60-f27fa4008c2a');\n",
       "var x = new MutationObserver(function (mutations, observer) {{\n",
       "        var display = window.getComputedStyle(gd).display;\n",
       "        if (!display || display === 'none') {{\n",
       "            console.log([gd, 'removed!']);\n",
       "            Plotly.purge(gd);\n",
       "            observer.disconnect();\n",
       "        }}\n",
       "}});\n",
       "\n",
       "// Listen for the removal of the full notebook cells\n",
       "var notebookContainer = gd.closest('#notebook-container');\n",
       "if (notebookContainer) {{\n",
       "    x.observe(notebookContainer, {childList: true});\n",
       "}}\n",
       "\n",
       "// Listen for the clearing of the current output cell\n",
       "var outputEl = gd.closest('.output');\n",
       "if (outputEl) {{\n",
       "    x.observe(outputEl, {childList: true});\n",
       "}}\n",
       "\n",
       "                        })\n",
       "                };\n",
       "                });\n",
       "            </script>\n",
       "        </div>"
      ]
     },
     "metadata": {},
     "output_type": "display_data"
    }
   ],
   "source": [
    "import plotly.express as px\n",
    "fig = px.scatter(phi, x=\"time_ite\", y=\"time_noite\", color=\"status_noite\", symbol=\"status_ite\")\n",
    "fig.show()"
   ]
  },
  {
   "cell_type": "code",
   "execution_count": 44,
   "metadata": {},
   "outputs": [
    {
     "data": {
      "text/html": [
       "<div>\n",
       "<style scoped>\n",
       "    .dataframe tbody tr th:only-of-type {\n",
       "        vertical-align: middle;\n",
       "    }\n",
       "\n",
       "    .dataframe tbody tr th {\n",
       "        vertical-align: top;\n",
       "    }\n",
       "\n",
       "    .dataframe thead th {\n",
       "        text-align: right;\n",
       "    }\n",
       "</style>\n",
       "<table border=\"1\" class=\"dataframe\">\n",
       "  <thead>\n",
       "    <tr style=\"text-align: right;\">\n",
       "      <th></th>\n",
       "      <th>index_ite</th>\n",
       "      <th>max_memory_ite</th>\n",
       "      <th>memory_ite</th>\n",
       "      <th>status_ite</th>\n",
       "      <th>time_ite</th>\n",
       "      <th>file</th>\n",
       "      <th>index_noite</th>\n",
       "      <th>max_memory_noite</th>\n",
       "      <th>memory_noite</th>\n",
       "      <th>status_noite</th>\n",
       "      <th>time_noite</th>\n",
       "    </tr>\n",
       "  </thead>\n",
       "  <tbody>\n",
       "    <tr>\n",
       "      <td>1</td>\n",
       "      <td>ldv-cat-0001.c.ite.phi.smt2</td>\n",
       "      <td>3.31</td>\n",
       "      <td>3.01</td>\n",
       "      <td>unsat</td>\n",
       "      <td>0.01</td>\n",
       "      <td>ldv-cat-0001</td>\n",
       "      <td>ldv-cat-0001.c.noite.phi.smt2</td>\n",
       "      <td>3.32</td>\n",
       "      <td>3.01</td>\n",
       "      <td>unsat</td>\n",
       "      <td>0.01</td>\n",
       "    </tr>\n",
       "    <tr>\n",
       "      <td>2</td>\n",
       "      <td>ldv-cat-0002.c.ite.phi.smt2</td>\n",
       "      <td>3.37</td>\n",
       "      <td>3.13</td>\n",
       "      <td>unsat</td>\n",
       "      <td>0.01</td>\n",
       "      <td>ldv-cat-0002</td>\n",
       "      <td>ldv-cat-0002.c.noite.phi.smt2</td>\n",
       "      <td>3.37</td>\n",
       "      <td>3.13</td>\n",
       "      <td>unsat</td>\n",
       "      <td>0.01</td>\n",
       "    </tr>\n",
       "    <tr>\n",
       "      <td>3</td>\n",
       "      <td>ldv-cat-0003.c.ite.phi.smt2</td>\n",
       "      <td>3.31</td>\n",
       "      <td>3.01</td>\n",
       "      <td>unsat</td>\n",
       "      <td>0.01</td>\n",
       "      <td>ldv-cat-0003</td>\n",
       "      <td>ldv-cat-0003.c.noite.phi.smt2</td>\n",
       "      <td>3.31</td>\n",
       "      <td>3.01</td>\n",
       "      <td>unsat</td>\n",
       "      <td>0.01</td>\n",
       "    </tr>\n",
       "    <tr>\n",
       "      <td>4</td>\n",
       "      <td>ldv-cat-0004.c.ite.phi.smt2</td>\n",
       "      <td>3.45</td>\n",
       "      <td>3.14</td>\n",
       "      <td>unsat</td>\n",
       "      <td>0.01</td>\n",
       "      <td>ldv-cat-0004</td>\n",
       "      <td>ldv-cat-0004.c.noite.phi.smt2</td>\n",
       "      <td>3.45</td>\n",
       "      <td>3.14</td>\n",
       "      <td>unsat</td>\n",
       "      <td>0.01</td>\n",
       "    </tr>\n",
       "    <tr>\n",
       "      <td>5</td>\n",
       "      <td>ldv-cat-0005.c.ite.phi.smt2</td>\n",
       "      <td>3.74</td>\n",
       "      <td>3.43</td>\n",
       "      <td>unsat</td>\n",
       "      <td>0.01</td>\n",
       "      <td>ldv-cat-0005</td>\n",
       "      <td>ldv-cat-0005.c.noite.phi.smt2</td>\n",
       "      <td>3.74</td>\n",
       "      <td>3.43</td>\n",
       "      <td>unsat</td>\n",
       "      <td>0.01</td>\n",
       "    </tr>\n",
       "    <tr>\n",
       "      <td>6</td>\n",
       "      <td>ldv-cat-0006.c.ite.phi.smt2</td>\n",
       "      <td>3.74</td>\n",
       "      <td>3.46</td>\n",
       "      <td>unsat</td>\n",
       "      <td>0.01</td>\n",
       "      <td>ldv-cat-0006</td>\n",
       "      <td>ldv-cat-0006.c.noite.phi.smt2</td>\n",
       "      <td>3.75</td>\n",
       "      <td>3.45</td>\n",
       "      <td>unsat</td>\n",
       "      <td>0.01</td>\n",
       "    </tr>\n",
       "    <tr>\n",
       "      <td>7</td>\n",
       "      <td>ldv-cat-0007.c.ite.phi.smt2</td>\n",
       "      <td>4.13</td>\n",
       "      <td>3.87</td>\n",
       "      <td>unsat</td>\n",
       "      <td>0.02</td>\n",
       "      <td>ldv-cat-0007</td>\n",
       "      <td>ldv-cat-0007.c.noite.phi.smt2</td>\n",
       "      <td>4.22</td>\n",
       "      <td>3.97</td>\n",
       "      <td>unsat</td>\n",
       "      <td>0.01</td>\n",
       "    </tr>\n",
       "    <tr>\n",
       "      <td>8</td>\n",
       "      <td>ldv-cat-0008.c.ite.phi.smt2</td>\n",
       "      <td>6.36</td>\n",
       "      <td>5.40</td>\n",
       "      <td>unsat</td>\n",
       "      <td>0.03</td>\n",
       "      <td>ldv-cat-0008</td>\n",
       "      <td>ldv-cat-0008.c.noite.phi.smt2</td>\n",
       "      <td>6.23</td>\n",
       "      <td>5.34</td>\n",
       "      <td>unsat</td>\n",
       "      <td>0.03</td>\n",
       "    </tr>\n",
       "    <tr>\n",
       "      <td>25</td>\n",
       "      <td>ldv-cat-0025.c.ite.phi.smt2</td>\n",
       "      <td>20.35</td>\n",
       "      <td>16.28</td>\n",
       "      <td>unsat</td>\n",
       "      <td>0.10</td>\n",
       "      <td>ldv-cat-0025</td>\n",
       "      <td>ldv-cat-0025.c.noite.phi.smt2</td>\n",
       "      <td>20.21</td>\n",
       "      <td>16.77</td>\n",
       "      <td>unsat</td>\n",
       "      <td>0.11</td>\n",
       "    </tr>\n",
       "    <tr>\n",
       "      <td>11</td>\n",
       "      <td>ldv-cat-0011.c.ite.phi.smt2</td>\n",
       "      <td>38.06</td>\n",
       "      <td>12.29</td>\n",
       "      <td>unsat</td>\n",
       "      <td>0.26</td>\n",
       "      <td>ldv-cat-0011</td>\n",
       "      <td>ldv-cat-0011.c.noite.phi.smt2</td>\n",
       "      <td>49.03</td>\n",
       "      <td>16.74</td>\n",
       "      <td>unsat</td>\n",
       "      <td>0.57</td>\n",
       "    </tr>\n",
       "    <tr>\n",
       "      <td>12</td>\n",
       "      <td>ldv-cat-0012.c.ite.phi.smt2</td>\n",
       "      <td>38.06</td>\n",
       "      <td>12.29</td>\n",
       "      <td>unsat</td>\n",
       "      <td>0.24</td>\n",
       "      <td>ldv-cat-0012</td>\n",
       "      <td>ldv-cat-0012.c.noite.phi.smt2</td>\n",
       "      <td>49.09</td>\n",
       "      <td>16.74</td>\n",
       "      <td>unsat</td>\n",
       "      <td>0.58</td>\n",
       "    </tr>\n",
       "    <tr>\n",
       "      <td>13</td>\n",
       "      <td>ldv-cat-0013.i.ite.phi.smt2</td>\n",
       "      <td>35.75</td>\n",
       "      <td>12.00</td>\n",
       "      <td>unsat</td>\n",
       "      <td>0.22</td>\n",
       "      <td>ldv-cat-0013</td>\n",
       "      <td>ldv-cat-0013.i.noite.phi.smt2</td>\n",
       "      <td>41.10</td>\n",
       "      <td>12.81</td>\n",
       "      <td>unsat</td>\n",
       "      <td>0.65</td>\n",
       "    </tr>\n",
       "    <tr>\n",
       "      <td>10</td>\n",
       "      <td>ldv-cat-0010.c.ite.phi.smt2</td>\n",
       "      <td>29.28</td>\n",
       "      <td>10.13</td>\n",
       "      <td>sat</td>\n",
       "      <td>0.78</td>\n",
       "      <td>ldv-cat-0010</td>\n",
       "      <td>ldv-cat-0010.c.noite.phi.smt2</td>\n",
       "      <td>33.12</td>\n",
       "      <td>10.80</td>\n",
       "      <td>sat</td>\n",
       "      <td>0.92</td>\n",
       "    </tr>\n",
       "    <tr>\n",
       "      <td>9</td>\n",
       "      <td>ldv-cat-0009.c.ite.phi.smt2</td>\n",
       "      <td>23.84</td>\n",
       "      <td>7.27</td>\n",
       "      <td>sat</td>\n",
       "      <td>0.28</td>\n",
       "      <td>ldv-cat-0009</td>\n",
       "      <td>ldv-cat-0009.c.noite.phi.smt2</td>\n",
       "      <td>24.53</td>\n",
       "      <td>7.31</td>\n",
       "      <td>sat</td>\n",
       "      <td>1.03</td>\n",
       "    </tr>\n",
       "    <tr>\n",
       "      <td>14</td>\n",
       "      <td>ldv-cat-0014.c.ite.phi.smt2</td>\n",
       "      <td>48.77</td>\n",
       "      <td>14.53</td>\n",
       "      <td>unsat</td>\n",
       "      <td>0.46</td>\n",
       "      <td>ldv-cat-0014</td>\n",
       "      <td>ldv-cat-0014.c.noite.phi.smt2</td>\n",
       "      <td>56.72</td>\n",
       "      <td>17.97</td>\n",
       "      <td>unsat</td>\n",
       "      <td>1.48</td>\n",
       "    </tr>\n",
       "    <tr>\n",
       "      <td>87</td>\n",
       "      <td>ldv-cat-0087.c.ite.phi.smt2</td>\n",
       "      <td>385.56</td>\n",
       "      <td>298.18</td>\n",
       "      <td>unsat</td>\n",
       "      <td>2.47</td>\n",
       "      <td>ldv-cat-0087</td>\n",
       "      <td>ldv-cat-0087.c.noite.phi.smt2</td>\n",
       "      <td>367.74</td>\n",
       "      <td>292.17</td>\n",
       "      <td>unsat</td>\n",
       "      <td>2.28</td>\n",
       "    </tr>\n",
       "    <tr>\n",
       "      <td>17</td>\n",
       "      <td>ldv-cat-0017.c.ite.phi.smt2</td>\n",
       "      <td>284.74</td>\n",
       "      <td>69.58</td>\n",
       "      <td>unsat</td>\n",
       "      <td>1.78</td>\n",
       "      <td>ldv-cat-0017</td>\n",
       "      <td>ldv-cat-0017.c.noite.phi.smt2</td>\n",
       "      <td>286.31</td>\n",
       "      <td>70.14</td>\n",
       "      <td>unsat</td>\n",
       "      <td>2.32</td>\n",
       "    </tr>\n",
       "    <tr>\n",
       "      <td>18</td>\n",
       "      <td>ldv-cat-0018.c.ite.phi.smt2</td>\n",
       "      <td>50.75</td>\n",
       "      <td>17.92</td>\n",
       "      <td>unsat</td>\n",
       "      <td>1.52</td>\n",
       "      <td>ldv-cat-0018</td>\n",
       "      <td>ldv-cat-0018.c.noite.phi.smt2</td>\n",
       "      <td>60.65</td>\n",
       "      <td>18.86</td>\n",
       "      <td>unsat</td>\n",
       "      <td>2.98</td>\n",
       "    </tr>\n",
       "    <tr>\n",
       "      <td>20</td>\n",
       "      <td>ldv-cat-0020.c.ite.phi.smt2</td>\n",
       "      <td>190.03</td>\n",
       "      <td>48.88</td>\n",
       "      <td>unsat</td>\n",
       "      <td>1.70</td>\n",
       "      <td>ldv-cat-0020</td>\n",
       "      <td>ldv-cat-0020.c.noite.phi.smt2</td>\n",
       "      <td>247.98</td>\n",
       "      <td>69.06</td>\n",
       "      <td>unsat</td>\n",
       "      <td>3.09</td>\n",
       "    </tr>\n",
       "    <tr>\n",
       "      <td>22</td>\n",
       "      <td>ldv-cat-0022.i.ite.phi.smt2</td>\n",
       "      <td>75.61</td>\n",
       "      <td>19.31</td>\n",
       "      <td>unsat</td>\n",
       "      <td>3.18</td>\n",
       "      <td>ldv-cat-0022</td>\n",
       "      <td>ldv-cat-0022.i.noite.phi.smt2</td>\n",
       "      <td>80.25</td>\n",
       "      <td>20.57</td>\n",
       "      <td>unsat</td>\n",
       "      <td>3.33</td>\n",
       "    </tr>\n",
       "    <tr>\n",
       "      <td>16</td>\n",
       "      <td>ldv-cat-0016.c.ite.phi.smt2</td>\n",
       "      <td>41.59</td>\n",
       "      <td>11.99</td>\n",
       "      <td>sat</td>\n",
       "      <td>3.44</td>\n",
       "      <td>ldv-cat-0016</td>\n",
       "      <td>ldv-cat-0016.c.noite.phi.smt2</td>\n",
       "      <td>49.60</td>\n",
       "      <td>13.27</td>\n",
       "      <td>sat</td>\n",
       "      <td>3.81</td>\n",
       "    </tr>\n",
       "    <tr>\n",
       "      <td>23</td>\n",
       "      <td>ldv-cat-0023.c.ite.phi.smt2</td>\n",
       "      <td>116.00</td>\n",
       "      <td>34.09</td>\n",
       "      <td>sat</td>\n",
       "      <td>15.39</td>\n",
       "      <td>ldv-cat-0023</td>\n",
       "      <td>ldv-cat-0023.c.noite.phi.smt2</td>\n",
       "      <td>118.77</td>\n",
       "      <td>34.07</td>\n",
       "      <td>sat</td>\n",
       "      <td>5.18</td>\n",
       "    </tr>\n",
       "    <tr>\n",
       "      <td>29</td>\n",
       "      <td>ldv-cat-0029.c.ite.phi.smt2</td>\n",
       "      <td>258.16</td>\n",
       "      <td>62.81</td>\n",
       "      <td>unsat</td>\n",
       "      <td>60.30</td>\n",
       "      <td>ldv-cat-0029</td>\n",
       "      <td>ldv-cat-0029.c.noite.phi.smt2</td>\n",
       "      <td>228.21</td>\n",
       "      <td>51.73</td>\n",
       "      <td>unsat</td>\n",
       "      <td>6.43</td>\n",
       "    </tr>\n",
       "    <tr>\n",
       "      <td>15</td>\n",
       "      <td>ldv-cat-0015.c.ite.phi.smt2</td>\n",
       "      <td>333.82</td>\n",
       "      <td>73.57</td>\n",
       "      <td>unsat</td>\n",
       "      <td>1.92</td>\n",
       "      <td>ldv-cat-0015</td>\n",
       "      <td>ldv-cat-0015.c.noite.phi.smt2</td>\n",
       "      <td>344.58</td>\n",
       "      <td>73.94</td>\n",
       "      <td>unsat</td>\n",
       "      <td>7.20</td>\n",
       "    </tr>\n",
       "    <tr>\n",
       "      <td>48</td>\n",
       "      <td>ldv-cat-0048.c.ite.phi.smt2</td>\n",
       "      <td>155.51</td>\n",
       "      <td>93.98</td>\n",
       "      <td>unsat</td>\n",
       "      <td>3.99</td>\n",
       "      <td>ldv-cat-0048</td>\n",
       "      <td>ldv-cat-0048.c.noite.phi.smt2</td>\n",
       "      <td>160.14</td>\n",
       "      <td>66.30</td>\n",
       "      <td>unsat</td>\n",
       "      <td>7.48</td>\n",
       "    </tr>\n",
       "    <tr>\n",
       "      <td>26</td>\n",
       "      <td>ldv-cat-0026.c.ite.phi.smt2</td>\n",
       "      <td>847.80</td>\n",
       "      <td>258.99</td>\n",
       "      <td>unsat</td>\n",
       "      <td>6.32</td>\n",
       "      <td>ldv-cat-0026</td>\n",
       "      <td>ldv-cat-0026.c.noite.phi.smt2</td>\n",
       "      <td>962.35</td>\n",
       "      <td>279.38</td>\n",
       "      <td>unsat</td>\n",
       "      <td>8.25</td>\n",
       "    </tr>\n",
       "    <tr>\n",
       "      <td>21</td>\n",
       "      <td>ldv-cat-0021.c.ite.phi.smt2</td>\n",
       "      <td>29.10</td>\n",
       "      <td>8.85</td>\n",
       "      <td>sat</td>\n",
       "      <td>5.55</td>\n",
       "      <td>ldv-cat-0021</td>\n",
       "      <td>ldv-cat-0021.c.noite.phi.smt2</td>\n",
       "      <td>38.42</td>\n",
       "      <td>11.09</td>\n",
       "      <td>sat</td>\n",
       "      <td>8.55</td>\n",
       "    </tr>\n",
       "    <tr>\n",
       "      <td>19</td>\n",
       "      <td>ldv-cat-0019.i.ite.phi.smt2</td>\n",
       "      <td>81.65</td>\n",
       "      <td>20.15</td>\n",
       "      <td>unsat</td>\n",
       "      <td>4.09</td>\n",
       "      <td>ldv-cat-0019</td>\n",
       "      <td>ldv-cat-0019.i.noite.phi.smt2</td>\n",
       "      <td>86.96</td>\n",
       "      <td>21.33</td>\n",
       "      <td>unsat</td>\n",
       "      <td>8.75</td>\n",
       "    </tr>\n",
       "    <tr>\n",
       "      <td>28</td>\n",
       "      <td>ldv-cat-0028.c.ite.phi.smt2</td>\n",
       "      <td>167.00</td>\n",
       "      <td>42.72</td>\n",
       "      <td>unsat</td>\n",
       "      <td>1.27</td>\n",
       "      <td>ldv-cat-0028</td>\n",
       "      <td>ldv-cat-0028.c.noite.phi.smt2</td>\n",
       "      <td>184.31</td>\n",
       "      <td>46.03</td>\n",
       "      <td>unsat</td>\n",
       "      <td>9.30</td>\n",
       "    </tr>\n",
       "    <tr>\n",
       "      <td>33</td>\n",
       "      <td>ldv-cat-0033.c.ite.phi.smt2</td>\n",
       "      <td>1103.94</td>\n",
       "      <td>270.40</td>\n",
       "      <td>unsat</td>\n",
       "      <td>8.98</td>\n",
       "      <td>ldv-cat-0033</td>\n",
       "      <td>ldv-cat-0033.c.noite.phi.smt2</td>\n",
       "      <td>1206.96</td>\n",
       "      <td>282.42</td>\n",
       "      <td>unsat</td>\n",
       "      <td>10.51</td>\n",
       "    </tr>\n",
       "    <tr>\n",
       "      <td>62</td>\n",
       "      <td>ldv-cat-0062.c.ite.phi.smt2</td>\n",
       "      <td>756.85</td>\n",
       "      <td>242.80</td>\n",
       "      <td>unsat</td>\n",
       "      <td>13.56</td>\n",
       "      <td>ldv-cat-0062</td>\n",
       "      <td>ldv-cat-0062.c.noite.phi.smt2</td>\n",
       "      <td>770.14</td>\n",
       "      <td>246.89</td>\n",
       "      <td>unsat</td>\n",
       "      <td>11.12</td>\n",
       "    </tr>\n",
       "    <tr>\n",
       "      <td>52</td>\n",
       "      <td>ldv-cat-0052.c.ite.phi.smt2</td>\n",
       "      <td>188.62</td>\n",
       "      <td>61.95</td>\n",
       "      <td>sat</td>\n",
       "      <td>28.55</td>\n",
       "      <td>ldv-cat-0052</td>\n",
       "      <td>ldv-cat-0052.c.noite.phi.smt2</td>\n",
       "      <td>245.40</td>\n",
       "      <td>70.26</td>\n",
       "      <td>sat</td>\n",
       "      <td>12.11</td>\n",
       "    </tr>\n",
       "    <tr>\n",
       "      <td>30</td>\n",
       "      <td>ldv-cat-0030.c.ite.phi.smt2</td>\n",
       "      <td>18.81</td>\n",
       "      <td>13.28</td>\n",
       "      <td>unsat</td>\n",
       "      <td>0.31</td>\n",
       "      <td>ldv-cat-0030</td>\n",
       "      <td>ldv-cat-0030.c.noite.phi.smt2</td>\n",
       "      <td>222.08</td>\n",
       "      <td>51.16</td>\n",
       "      <td>unsat</td>\n",
       "      <td>12.92</td>\n",
       "    </tr>\n",
       "    <tr>\n",
       "      <td>31</td>\n",
       "      <td>ldv-cat-0031.i.ite.phi.smt2</td>\n",
       "      <td>81.52</td>\n",
       "      <td>20.75</td>\n",
       "      <td>sat</td>\n",
       "      <td>10.18</td>\n",
       "      <td>ldv-cat-0031</td>\n",
       "      <td>ldv-cat-0031.i.noite.phi.smt2</td>\n",
       "      <td>87.73</td>\n",
       "      <td>21.42</td>\n",
       "      <td>sat</td>\n",
       "      <td>14.14</td>\n",
       "    </tr>\n",
       "    <tr>\n",
       "      <td>35</td>\n",
       "      <td>ldv-cat-0035.c.ite.phi.smt2</td>\n",
       "      <td>286.77</td>\n",
       "      <td>78.67</td>\n",
       "      <td>unsat</td>\n",
       "      <td>5.22</td>\n",
       "      <td>ldv-cat-0035</td>\n",
       "      <td>ldv-cat-0035.c.noite.phi.smt2</td>\n",
       "      <td>377.69</td>\n",
       "      <td>93.92</td>\n",
       "      <td>unsat</td>\n",
       "      <td>17.40</td>\n",
       "    </tr>\n",
       "    <tr>\n",
       "      <td>59</td>\n",
       "      <td>ldv-cat-0059.c.ite.phi.smt2</td>\n",
       "      <td>71.85</td>\n",
       "      <td>58.88</td>\n",
       "      <td>unsat</td>\n",
       "      <td>0.99</td>\n",
       "      <td>ldv-cat-0059</td>\n",
       "      <td>ldv-cat-0059.c.noite.phi.smt2</td>\n",
       "      <td>1487.27</td>\n",
       "      <td>349.20</td>\n",
       "      <td>unsat</td>\n",
       "      <td>19.12</td>\n",
       "    </tr>\n",
       "    <tr>\n",
       "      <td>27</td>\n",
       "      <td>ldv-cat-0027.c.ite.phi.smt2</td>\n",
       "      <td>194.73</td>\n",
       "      <td>43.26</td>\n",
       "      <td>sat</td>\n",
       "      <td>18.14</td>\n",
       "      <td>ldv-cat-0027</td>\n",
       "      <td>ldv-cat-0027.c.noite.phi.smt2</td>\n",
       "      <td>221.11</td>\n",
       "      <td>46.92</td>\n",
       "      <td>sat</td>\n",
       "      <td>19.93</td>\n",
       "    </tr>\n",
       "    <tr>\n",
       "      <td>32</td>\n",
       "      <td>ldv-cat-0032.c.ite.phi.smt2</td>\n",
       "      <td>704.39</td>\n",
       "      <td>596.57</td>\n",
       "      <td>timeout</td>\n",
       "      <td>929.93</td>\n",
       "      <td>ldv-cat-0032</td>\n",
       "      <td>ldv-cat-0032.c.noite.phi.smt2</td>\n",
       "      <td>92.46</td>\n",
       "      <td>24.91</td>\n",
       "      <td>sat</td>\n",
       "      <td>21.06</td>\n",
       "    </tr>\n",
       "    <tr>\n",
       "      <td>36</td>\n",
       "      <td>ldv-cat-0036.c.ite.phi.smt2</td>\n",
       "      <td>647.68</td>\n",
       "      <td>153.13</td>\n",
       "      <td>unsat</td>\n",
       "      <td>13.59</td>\n",
       "      <td>ldv-cat-0036</td>\n",
       "      <td>ldv-cat-0036.c.noite.phi.smt2</td>\n",
       "      <td>809.23</td>\n",
       "      <td>176.17</td>\n",
       "      <td>unsat</td>\n",
       "      <td>21.41</td>\n",
       "    </tr>\n",
       "    <tr>\n",
       "      <td>45</td>\n",
       "      <td>ldv-cat-0045.c.ite.phi.smt2</td>\n",
       "      <td>484.83</td>\n",
       "      <td>136.88</td>\n",
       "      <td>unsat</td>\n",
       "      <td>32.25</td>\n",
       "      <td>ldv-cat-0045</td>\n",
       "      <td>ldv-cat-0045.c.noite.phi.smt2</td>\n",
       "      <td>652.36</td>\n",
       "      <td>164.78</td>\n",
       "      <td>unsat</td>\n",
       "      <td>21.89</td>\n",
       "    </tr>\n",
       "    <tr>\n",
       "      <td>24</td>\n",
       "      <td>ldv-cat-0024.i.ite.phi.smt2</td>\n",
       "      <td>1234.38</td>\n",
       "      <td>272.88</td>\n",
       "      <td>unsat</td>\n",
       "      <td>27.45</td>\n",
       "      <td>ldv-cat-0024</td>\n",
       "      <td>ldv-cat-0024.i.noite.phi.smt2</td>\n",
       "      <td>1245.66</td>\n",
       "      <td>276.50</td>\n",
       "      <td>unsat</td>\n",
       "      <td>22.54</td>\n",
       "    </tr>\n",
       "    <tr>\n",
       "      <td>40</td>\n",
       "      <td>ldv-cat-0040.c.ite.phi.smt2</td>\n",
       "      <td>52.69</td>\n",
       "      <td>34.18</td>\n",
       "      <td>unsat</td>\n",
       "      <td>1.03</td>\n",
       "      <td>ldv-cat-0040</td>\n",
       "      <td>ldv-cat-0040.c.noite.phi.smt2</td>\n",
       "      <td>722.99</td>\n",
       "      <td>144.97</td>\n",
       "      <td>unsat</td>\n",
       "      <td>23.82</td>\n",
       "    </tr>\n",
       "    <tr>\n",
       "      <td>49</td>\n",
       "      <td>ldv-cat-0049.c.ite.phi.smt2</td>\n",
       "      <td>55.79</td>\n",
       "      <td>37.24</td>\n",
       "      <td>unsat</td>\n",
       "      <td>20.45</td>\n",
       "      <td>ldv-cat-0049</td>\n",
       "      <td>ldv-cat-0049.c.noite.phi.smt2</td>\n",
       "      <td>633.99</td>\n",
       "      <td>154.50</td>\n",
       "      <td>unsat</td>\n",
       "      <td>28.41</td>\n",
       "    </tr>\n",
       "    <tr>\n",
       "      <td>39</td>\n",
       "      <td>ldv-cat-0039.c.ite.phi.smt2</td>\n",
       "      <td>210.44</td>\n",
       "      <td>65.65</td>\n",
       "      <td>unsat</td>\n",
       "      <td>4.60</td>\n",
       "      <td>ldv-cat-0039</td>\n",
       "      <td>ldv-cat-0039.c.noite.phi.smt2</td>\n",
       "      <td>258.26</td>\n",
       "      <td>73.39</td>\n",
       "      <td>unsat</td>\n",
       "      <td>32.30</td>\n",
       "    </tr>\n",
       "    <tr>\n",
       "      <td>37</td>\n",
       "      <td>ldv-cat-0037.c.ite.phi.smt2</td>\n",
       "      <td>164.52</td>\n",
       "      <td>47.66</td>\n",
       "      <td>sat</td>\n",
       "      <td>47.93</td>\n",
       "      <td>ldv-cat-0037</td>\n",
       "      <td>ldv-cat-0037.c.noite.phi.smt2</td>\n",
       "      <td>187.59</td>\n",
       "      <td>59.85</td>\n",
       "      <td>sat</td>\n",
       "      <td>32.70</td>\n",
       "    </tr>\n",
       "    <tr>\n",
       "      <td>46</td>\n",
       "      <td>ldv-cat-0046.i.ite.phi.smt2</td>\n",
       "      <td>137.05</td>\n",
       "      <td>33.64</td>\n",
       "      <td>sat</td>\n",
       "      <td>50.98</td>\n",
       "      <td>ldv-cat-0046</td>\n",
       "      <td>ldv-cat-0046.i.noite.phi.smt2</td>\n",
       "      <td>141.68</td>\n",
       "      <td>33.38</td>\n",
       "      <td>sat</td>\n",
       "      <td>42.04</td>\n",
       "    </tr>\n",
       "    <tr>\n",
       "      <td>65</td>\n",
       "      <td>ldv-cat-0065.c.ite.phi.smt2</td>\n",
       "      <td>144.04</td>\n",
       "      <td>106.13</td>\n",
       "      <td>unsat</td>\n",
       "      <td>2.64</td>\n",
       "      <td>ldv-cat-0065</td>\n",
       "      <td>ldv-cat-0065.c.noite.phi.smt2</td>\n",
       "      <td>694.18</td>\n",
       "      <td>237.79</td>\n",
       "      <td>unsat</td>\n",
       "      <td>43.34</td>\n",
       "    </tr>\n",
       "    <tr>\n",
       "      <td>58</td>\n",
       "      <td>ldv-cat-0058.c.ite.phi.smt2</td>\n",
       "      <td>3760.31</td>\n",
       "      <td>780.78</td>\n",
       "      <td>unsat</td>\n",
       "      <td>28.28</td>\n",
       "      <td>ldv-cat-0058</td>\n",
       "      <td>ldv-cat-0058.c.noite.phi.smt2</td>\n",
       "      <td>3675.44</td>\n",
       "      <td>755.01</td>\n",
       "      <td>unsat</td>\n",
       "      <td>46.00</td>\n",
       "    </tr>\n",
       "  </tbody>\n",
       "</table>\n",
       "</div>"
      ],
      "text/plain": [
       "                      index_ite  max_memory_ite  memory_ite status_ite  \\\n",
       "1   ldv-cat-0001.c.ite.phi.smt2            3.31        3.01      unsat   \n",
       "2   ldv-cat-0002.c.ite.phi.smt2            3.37        3.13      unsat   \n",
       "3   ldv-cat-0003.c.ite.phi.smt2            3.31        3.01      unsat   \n",
       "4   ldv-cat-0004.c.ite.phi.smt2            3.45        3.14      unsat   \n",
       "5   ldv-cat-0005.c.ite.phi.smt2            3.74        3.43      unsat   \n",
       "6   ldv-cat-0006.c.ite.phi.smt2            3.74        3.46      unsat   \n",
       "7   ldv-cat-0007.c.ite.phi.smt2            4.13        3.87      unsat   \n",
       "8   ldv-cat-0008.c.ite.phi.smt2            6.36        5.40      unsat   \n",
       "25  ldv-cat-0025.c.ite.phi.smt2           20.35       16.28      unsat   \n",
       "11  ldv-cat-0011.c.ite.phi.smt2           38.06       12.29      unsat   \n",
       "12  ldv-cat-0012.c.ite.phi.smt2           38.06       12.29      unsat   \n",
       "13  ldv-cat-0013.i.ite.phi.smt2           35.75       12.00      unsat   \n",
       "10  ldv-cat-0010.c.ite.phi.smt2           29.28       10.13        sat   \n",
       "9   ldv-cat-0009.c.ite.phi.smt2           23.84        7.27        sat   \n",
       "14  ldv-cat-0014.c.ite.phi.smt2           48.77       14.53      unsat   \n",
       "87  ldv-cat-0087.c.ite.phi.smt2          385.56      298.18      unsat   \n",
       "17  ldv-cat-0017.c.ite.phi.smt2          284.74       69.58      unsat   \n",
       "18  ldv-cat-0018.c.ite.phi.smt2           50.75       17.92      unsat   \n",
       "20  ldv-cat-0020.c.ite.phi.smt2          190.03       48.88      unsat   \n",
       "22  ldv-cat-0022.i.ite.phi.smt2           75.61       19.31      unsat   \n",
       "16  ldv-cat-0016.c.ite.phi.smt2           41.59       11.99        sat   \n",
       "23  ldv-cat-0023.c.ite.phi.smt2          116.00       34.09        sat   \n",
       "29  ldv-cat-0029.c.ite.phi.smt2          258.16       62.81      unsat   \n",
       "15  ldv-cat-0015.c.ite.phi.smt2          333.82       73.57      unsat   \n",
       "48  ldv-cat-0048.c.ite.phi.smt2          155.51       93.98      unsat   \n",
       "26  ldv-cat-0026.c.ite.phi.smt2          847.80      258.99      unsat   \n",
       "21  ldv-cat-0021.c.ite.phi.smt2           29.10        8.85        sat   \n",
       "19  ldv-cat-0019.i.ite.phi.smt2           81.65       20.15      unsat   \n",
       "28  ldv-cat-0028.c.ite.phi.smt2          167.00       42.72      unsat   \n",
       "33  ldv-cat-0033.c.ite.phi.smt2         1103.94      270.40      unsat   \n",
       "62  ldv-cat-0062.c.ite.phi.smt2          756.85      242.80      unsat   \n",
       "52  ldv-cat-0052.c.ite.phi.smt2          188.62       61.95        sat   \n",
       "30  ldv-cat-0030.c.ite.phi.smt2           18.81       13.28      unsat   \n",
       "31  ldv-cat-0031.i.ite.phi.smt2           81.52       20.75        sat   \n",
       "35  ldv-cat-0035.c.ite.phi.smt2          286.77       78.67      unsat   \n",
       "59  ldv-cat-0059.c.ite.phi.smt2           71.85       58.88      unsat   \n",
       "27  ldv-cat-0027.c.ite.phi.smt2          194.73       43.26        sat   \n",
       "32  ldv-cat-0032.c.ite.phi.smt2          704.39      596.57    timeout   \n",
       "36  ldv-cat-0036.c.ite.phi.smt2          647.68      153.13      unsat   \n",
       "45  ldv-cat-0045.c.ite.phi.smt2          484.83      136.88      unsat   \n",
       "24  ldv-cat-0024.i.ite.phi.smt2         1234.38      272.88      unsat   \n",
       "40  ldv-cat-0040.c.ite.phi.smt2           52.69       34.18      unsat   \n",
       "49  ldv-cat-0049.c.ite.phi.smt2           55.79       37.24      unsat   \n",
       "39  ldv-cat-0039.c.ite.phi.smt2          210.44       65.65      unsat   \n",
       "37  ldv-cat-0037.c.ite.phi.smt2          164.52       47.66        sat   \n",
       "46  ldv-cat-0046.i.ite.phi.smt2          137.05       33.64        sat   \n",
       "65  ldv-cat-0065.c.ite.phi.smt2          144.04      106.13      unsat   \n",
       "58  ldv-cat-0058.c.ite.phi.smt2         3760.31      780.78      unsat   \n",
       "\n",
       "    time_ite          file                    index_noite  max_memory_noite  \\\n",
       "1       0.01  ldv-cat-0001  ldv-cat-0001.c.noite.phi.smt2              3.32   \n",
       "2       0.01  ldv-cat-0002  ldv-cat-0002.c.noite.phi.smt2              3.37   \n",
       "3       0.01  ldv-cat-0003  ldv-cat-0003.c.noite.phi.smt2              3.31   \n",
       "4       0.01  ldv-cat-0004  ldv-cat-0004.c.noite.phi.smt2              3.45   \n",
       "5       0.01  ldv-cat-0005  ldv-cat-0005.c.noite.phi.smt2              3.74   \n",
       "6       0.01  ldv-cat-0006  ldv-cat-0006.c.noite.phi.smt2              3.75   \n",
       "7       0.02  ldv-cat-0007  ldv-cat-0007.c.noite.phi.smt2              4.22   \n",
       "8       0.03  ldv-cat-0008  ldv-cat-0008.c.noite.phi.smt2              6.23   \n",
       "25      0.10  ldv-cat-0025  ldv-cat-0025.c.noite.phi.smt2             20.21   \n",
       "11      0.26  ldv-cat-0011  ldv-cat-0011.c.noite.phi.smt2             49.03   \n",
       "12      0.24  ldv-cat-0012  ldv-cat-0012.c.noite.phi.smt2             49.09   \n",
       "13      0.22  ldv-cat-0013  ldv-cat-0013.i.noite.phi.smt2             41.10   \n",
       "10      0.78  ldv-cat-0010  ldv-cat-0010.c.noite.phi.smt2             33.12   \n",
       "9       0.28  ldv-cat-0009  ldv-cat-0009.c.noite.phi.smt2             24.53   \n",
       "14      0.46  ldv-cat-0014  ldv-cat-0014.c.noite.phi.smt2             56.72   \n",
       "87      2.47  ldv-cat-0087  ldv-cat-0087.c.noite.phi.smt2            367.74   \n",
       "17      1.78  ldv-cat-0017  ldv-cat-0017.c.noite.phi.smt2            286.31   \n",
       "18      1.52  ldv-cat-0018  ldv-cat-0018.c.noite.phi.smt2             60.65   \n",
       "20      1.70  ldv-cat-0020  ldv-cat-0020.c.noite.phi.smt2            247.98   \n",
       "22      3.18  ldv-cat-0022  ldv-cat-0022.i.noite.phi.smt2             80.25   \n",
       "16      3.44  ldv-cat-0016  ldv-cat-0016.c.noite.phi.smt2             49.60   \n",
       "23     15.39  ldv-cat-0023  ldv-cat-0023.c.noite.phi.smt2            118.77   \n",
       "29     60.30  ldv-cat-0029  ldv-cat-0029.c.noite.phi.smt2            228.21   \n",
       "15      1.92  ldv-cat-0015  ldv-cat-0015.c.noite.phi.smt2            344.58   \n",
       "48      3.99  ldv-cat-0048  ldv-cat-0048.c.noite.phi.smt2            160.14   \n",
       "26      6.32  ldv-cat-0026  ldv-cat-0026.c.noite.phi.smt2            962.35   \n",
       "21      5.55  ldv-cat-0021  ldv-cat-0021.c.noite.phi.smt2             38.42   \n",
       "19      4.09  ldv-cat-0019  ldv-cat-0019.i.noite.phi.smt2             86.96   \n",
       "28      1.27  ldv-cat-0028  ldv-cat-0028.c.noite.phi.smt2            184.31   \n",
       "33      8.98  ldv-cat-0033  ldv-cat-0033.c.noite.phi.smt2           1206.96   \n",
       "62     13.56  ldv-cat-0062  ldv-cat-0062.c.noite.phi.smt2            770.14   \n",
       "52     28.55  ldv-cat-0052  ldv-cat-0052.c.noite.phi.smt2            245.40   \n",
       "30      0.31  ldv-cat-0030  ldv-cat-0030.c.noite.phi.smt2            222.08   \n",
       "31     10.18  ldv-cat-0031  ldv-cat-0031.i.noite.phi.smt2             87.73   \n",
       "35      5.22  ldv-cat-0035  ldv-cat-0035.c.noite.phi.smt2            377.69   \n",
       "59      0.99  ldv-cat-0059  ldv-cat-0059.c.noite.phi.smt2           1487.27   \n",
       "27     18.14  ldv-cat-0027  ldv-cat-0027.c.noite.phi.smt2            221.11   \n",
       "32    929.93  ldv-cat-0032  ldv-cat-0032.c.noite.phi.smt2             92.46   \n",
       "36     13.59  ldv-cat-0036  ldv-cat-0036.c.noite.phi.smt2            809.23   \n",
       "45     32.25  ldv-cat-0045  ldv-cat-0045.c.noite.phi.smt2            652.36   \n",
       "24     27.45  ldv-cat-0024  ldv-cat-0024.i.noite.phi.smt2           1245.66   \n",
       "40      1.03  ldv-cat-0040  ldv-cat-0040.c.noite.phi.smt2            722.99   \n",
       "49     20.45  ldv-cat-0049  ldv-cat-0049.c.noite.phi.smt2            633.99   \n",
       "39      4.60  ldv-cat-0039  ldv-cat-0039.c.noite.phi.smt2            258.26   \n",
       "37     47.93  ldv-cat-0037  ldv-cat-0037.c.noite.phi.smt2            187.59   \n",
       "46     50.98  ldv-cat-0046  ldv-cat-0046.i.noite.phi.smt2            141.68   \n",
       "65      2.64  ldv-cat-0065  ldv-cat-0065.c.noite.phi.smt2            694.18   \n",
       "58     28.28  ldv-cat-0058  ldv-cat-0058.c.noite.phi.smt2           3675.44   \n",
       "\n",
       "    memory_noite status_noite  time_noite  \n",
       "1           3.01        unsat        0.01  \n",
       "2           3.13        unsat        0.01  \n",
       "3           3.01        unsat        0.01  \n",
       "4           3.14        unsat        0.01  \n",
       "5           3.43        unsat        0.01  \n",
       "6           3.45        unsat        0.01  \n",
       "7           3.97        unsat        0.01  \n",
       "8           5.34        unsat        0.03  \n",
       "25         16.77        unsat        0.11  \n",
       "11         16.74        unsat        0.57  \n",
       "12         16.74        unsat        0.58  \n",
       "13         12.81        unsat        0.65  \n",
       "10         10.80          sat        0.92  \n",
       "9           7.31          sat        1.03  \n",
       "14         17.97        unsat        1.48  \n",
       "87        292.17        unsat        2.28  \n",
       "17         70.14        unsat        2.32  \n",
       "18         18.86        unsat        2.98  \n",
       "20         69.06        unsat        3.09  \n",
       "22         20.57        unsat        3.33  \n",
       "16         13.27          sat        3.81  \n",
       "23         34.07          sat        5.18  \n",
       "29         51.73        unsat        6.43  \n",
       "15         73.94        unsat        7.20  \n",
       "48         66.30        unsat        7.48  \n",
       "26        279.38        unsat        8.25  \n",
       "21         11.09          sat        8.55  \n",
       "19         21.33        unsat        8.75  \n",
       "28         46.03        unsat        9.30  \n",
       "33        282.42        unsat       10.51  \n",
       "62        246.89        unsat       11.12  \n",
       "52         70.26          sat       12.11  \n",
       "30         51.16        unsat       12.92  \n",
       "31         21.42          sat       14.14  \n",
       "35         93.92        unsat       17.40  \n",
       "59        349.20        unsat       19.12  \n",
       "27         46.92          sat       19.93  \n",
       "32         24.91          sat       21.06  \n",
       "36        176.17        unsat       21.41  \n",
       "45        164.78        unsat       21.89  \n",
       "24        276.50        unsat       22.54  \n",
       "40        144.97        unsat       23.82  \n",
       "49        154.50        unsat       28.41  \n",
       "39         73.39        unsat       32.30  \n",
       "37         59.85          sat       32.70  \n",
       "46         33.38          sat       42.04  \n",
       "65        237.79        unsat       43.34  \n",
       "58        755.01        unsat       46.00  "
      ]
     },
     "execution_count": 44,
     "metadata": {},
     "output_type": "execute_result"
    }
   ],
   "source": [
    "phi.query('time_noite < 50').sort_values('time_noite')"
   ]
  },
  {
   "cell_type": "code",
   "execution_count": null,
   "metadata": {},
   "outputs": [],
   "source": []
  },
  {
   "cell_type": "code",
   "execution_count": null,
   "metadata": {},
   "outputs": [],
   "source": []
  },
  {
   "cell_type": "code",
   "execution_count": null,
   "metadata": {},
   "outputs": [],
   "source": []
  },
  {
   "cell_type": "code",
   "execution_count": null,
   "metadata": {},
   "outputs": [],
   "source": []
  },
  {
   "cell_type": "code",
   "execution_count": null,
   "metadata": {},
   "outputs": [],
   "source": []
  },
  {
   "cell_type": "code",
   "execution_count": null,
   "metadata": {},
   "outputs": [],
   "source": []
  },
  {
   "cell_type": "code",
   "execution_count": null,
   "metadata": {},
   "outputs": [],
   "source": []
  }
 ],
 "metadata": {
  "kernelspec": {
   "display_name": "Python 3",
   "language": "python",
   "name": "python3"
  },
  "language_info": {
   "codemirror_mode": {
    "name": "ipython",
    "version": 3
   },
   "file_extension": ".py",
   "mimetype": "text/x-python",
   "name": "python",
   "nbconvert_exporter": "python",
   "pygments_lexer": "ipython3",
   "version": "3.7.4"
  }
 },
 "nbformat": 4,
 "nbformat_minor": 2
}
